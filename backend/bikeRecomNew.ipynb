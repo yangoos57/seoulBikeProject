{
 "cells": [
  {
   "cell_type": "code",
   "execution_count": 136,
   "metadata": {},
   "outputs": [],
   "source": [
    "import pandas as pd\n",
    "import numpy as np\n",
    "## 대여기록\n",
    "seoul_bike = pd.read_parquet(\"/Users/yangwoolee/git_repo/seoulBikeProject/parquet/220607_bike_record.parquet.gzip\")\n",
    "## 따릉이 대여소 정보\n",
    "btstation = pd.read_csv(\n",
    "    \"assets/bkstation_info(backup).csv\", encoding=\"CP949\", index_col=0\n",
    ")"
   ]
  },
  {
   "cell_type": "markdown",
   "metadata": {},
   "source": [
    "### 특정 따릉이 대여소 대여기록만 추출"
   ]
  },
  {
   "cell_type": "code",
   "execution_count": 137,
   "metadata": {},
   "outputs": [
    {
     "data": {
      "text/html": [
       "<div>\n",
       "<style scoped>\n",
       "    .dataframe tbody tr th:only-of-type {\n",
       "        vertical-align: middle;\n",
       "    }\n",
       "\n",
       "    .dataframe tbody tr th {\n",
       "        vertical-align: top;\n",
       "    }\n",
       "\n",
       "    .dataframe thead th {\n",
       "        text-align: right;\n",
       "    }\n",
       "</style>\n",
       "<table border=\"1\" class=\"dataframe\">\n",
       "  <thead>\n",
       "    <tr style=\"text-align: right;\">\n",
       "      <th></th>\n",
       "      <th>date</th>\n",
       "      <th>st_id1</th>\n",
       "      <th>st_id2</th>\n",
       "      <th>riding_time</th>\n",
       "      <th>dist</th>\n",
       "    </tr>\n",
       "  </thead>\n",
       "  <tbody>\n",
       "    <tr>\n",
       "      <th>148664</th>\n",
       "      <td>2021-07-01 00:12:32</td>\n",
       "      <td>207</td>\n",
       "      <td>276</td>\n",
       "      <td>18</td>\n",
       "      <td>4515.82</td>\n",
       "    </tr>\n",
       "    <tr>\n",
       "      <th>148665</th>\n",
       "      <td>2021-07-01 00:16:05</td>\n",
       "      <td>207</td>\n",
       "      <td>287</td>\n",
       "      <td>20</td>\n",
       "      <td>3645.38</td>\n",
       "    </tr>\n",
       "    <tr>\n",
       "      <th>148667</th>\n",
       "      <td>2021-07-01 00:15:17</td>\n",
       "      <td>207</td>\n",
       "      <td>1831</td>\n",
       "      <td>37</td>\n",
       "      <td>9230.96</td>\n",
       "    </tr>\n",
       "    <tr>\n",
       "      <th>148668</th>\n",
       "      <td>2021-07-01 00:31:12</td>\n",
       "      <td>207</td>\n",
       "      <td>1906</td>\n",
       "      <td>21</td>\n",
       "      <td>4952.75</td>\n",
       "    </tr>\n",
       "    <tr>\n",
       "      <th>148669</th>\n",
       "      <td>2021-07-01 00:33:16</td>\n",
       "      <td>207</td>\n",
       "      <td>1906</td>\n",
       "      <td>20</td>\n",
       "      <td>4419.12</td>\n",
       "    </tr>\n",
       "    <tr>\n",
       "      <th>...</th>\n",
       "      <td>...</td>\n",
       "      <td>...</td>\n",
       "      <td>...</td>\n",
       "      <td>...</td>\n",
       "      <td>...</td>\n",
       "    </tr>\n",
       "    <tr>\n",
       "      <th>26997034</th>\n",
       "      <td>2021-06-30 22:12:43</td>\n",
       "      <td>2308</td>\n",
       "      <td>207</td>\n",
       "      <td>115</td>\n",
       "      <td>12764.29</td>\n",
       "    </tr>\n",
       "    <tr>\n",
       "      <th>26998072</th>\n",
       "      <td>2021-06-30 22:35:50</td>\n",
       "      <td>2196</td>\n",
       "      <td>207</td>\n",
       "      <td>143</td>\n",
       "      <td>21064.85</td>\n",
       "    </tr>\n",
       "    <tr>\n",
       "      <th>26998073</th>\n",
       "      <td>2021-06-30 22:34:18</td>\n",
       "      <td>2196</td>\n",
       "      <td>207</td>\n",
       "      <td>145</td>\n",
       "      <td>21491.70</td>\n",
       "    </tr>\n",
       "    <tr>\n",
       "      <th>26998074</th>\n",
       "      <td>2021-06-30 22:34:18</td>\n",
       "      <td>2196</td>\n",
       "      <td>207</td>\n",
       "      <td>145</td>\n",
       "      <td>24130.00</td>\n",
       "    </tr>\n",
       "    <tr>\n",
       "      <th>26998075</th>\n",
       "      <td>2021-06-30 22:34:44</td>\n",
       "      <td>2196</td>\n",
       "      <td>207</td>\n",
       "      <td>144</td>\n",
       "      <td>21231.51</td>\n",
       "    </tr>\n",
       "  </tbody>\n",
       "</table>\n",
       "<p>179568 rows × 5 columns</p>\n",
       "</div>"
      ],
      "text/plain": [
       "                        date  st_id1  st_id2  riding_time      dist\n",
       "148664   2021-07-01 00:12:32     207     276           18   4515.82\n",
       "148665   2021-07-01 00:16:05     207     287           20   3645.38\n",
       "148667   2021-07-01 00:15:17     207    1831           37   9230.96\n",
       "148668   2021-07-01 00:31:12     207    1906           21   4952.75\n",
       "148669   2021-07-01 00:33:16     207    1906           20   4419.12\n",
       "...                      ...     ...     ...          ...       ...\n",
       "26997034 2021-06-30 22:12:43    2308     207          115  12764.29\n",
       "26998072 2021-06-30 22:35:50    2196     207          143  21064.85\n",
       "26998073 2021-06-30 22:34:18    2196     207          145  21491.70\n",
       "26998074 2021-06-30 22:34:18    2196     207          145  24130.00\n",
       "26998075 2021-06-30 22:34:44    2196     207          144  21231.51\n",
       "\n",
       "[179568 rows x 5 columns]"
      ]
     },
     "execution_count": 137,
     "metadata": {},
     "output_type": "execute_result"
    }
   ],
   "source": [
    "\n",
    "def raw_data( st_id: int) -> pd.DataFrame:\n",
    "    quert_st_id1 = seoul_bike[seoul_bike[\"st_id1\"] == st_id]\n",
    "    quert_st_id2 = seoul_bike[seoul_bike[\"st_id2\"] == st_id]\n",
    "    filtered_data = pd.concat(\n",
    "        [quert_st_id1, quert_st_id2], axis=0\n",
    "    ).drop_duplicates()\n",
    "    filtered_data.drop(columns=\"index\", inplace=True)\n",
    "    bm = (filtered_data[\"st_id1\"] == st_id) & (filtered_data[\"st_id2\"] == st_id)\n",
    "    filtered_data = filtered_data[~bm]\n",
    "\n",
    "    return filtered_data\n",
    "\n",
    "raw_data(207)"
   ]
  },
  {
   "cell_type": "markdown",
   "metadata": {},
   "source": [
    "### 특정 대여소에서 출발한 자전거의 도착 대여소 정보를 종합"
   ]
  },
  {
   "cell_type": "code",
   "execution_count": 138,
   "metadata": {},
   "outputs": [
    {
     "data": {
      "text/html": [
       "<div>\n",
       "<style scoped>\n",
       "    .dataframe tbody tr th:only-of-type {\n",
       "        vertical-align: middle;\n",
       "    }\n",
       "\n",
       "    .dataframe tbody tr th {\n",
       "        vertical-align: top;\n",
       "    }\n",
       "\n",
       "    .dataframe thead th {\n",
       "        text-align: right;\n",
       "    }\n",
       "</style>\n",
       "<table border=\"1\" class=\"dataframe\">\n",
       "  <thead>\n",
       "    <tr style=\"text-align: right;\">\n",
       "      <th></th>\n",
       "      <th>value</th>\n",
       "      <th>label</th>\n",
       "      <th>coor</th>\n",
       "      <th>num</th>\n",
       "      <th>time</th>\n",
       "      <th>record</th>\n",
       "      <th>dist</th>\n",
       "    </tr>\n",
       "  </thead>\n",
       "  <tbody>\n",
       "    <tr>\n",
       "      <th>0</th>\n",
       "      <td>102</td>\n",
       "      <td>망원역 1번출구 앞</td>\n",
       "      <td>[37.555649, 126.910629]</td>\n",
       "      <td>62074</td>\n",
       "      <td>61.0</td>\n",
       "      <td>52</td>\n",
       "      <td>6.74</td>\n",
       "    </tr>\n",
       "    <tr>\n",
       "      <th>1</th>\n",
       "      <td>103</td>\n",
       "      <td>망원역 2번출구 앞</td>\n",
       "      <td>[37.554951, 126.910835]</td>\n",
       "      <td>51577</td>\n",
       "      <td>46.0</td>\n",
       "      <td>85</td>\n",
       "      <td>6.90</td>\n",
       "    </tr>\n",
       "    <tr>\n",
       "      <th>2</th>\n",
       "      <td>105</td>\n",
       "      <td>합정역 5번출구 앞</td>\n",
       "      <td>[37.550007, 126.914825]</td>\n",
       "      <td>20609</td>\n",
       "      <td>51.0</td>\n",
       "      <td>69</td>\n",
       "      <td>5.89</td>\n",
       "    </tr>\n",
       "    <tr>\n",
       "      <th>3</th>\n",
       "      <td>106</td>\n",
       "      <td>합정역 7번출구 앞</td>\n",
       "      <td>[37.548645, 126.912827]</td>\n",
       "      <td>63341</td>\n",
       "      <td>38.0</td>\n",
       "      <td>714</td>\n",
       "      <td>5.70</td>\n",
       "    </tr>\n",
       "    <tr>\n",
       "      <th>4</th>\n",
       "      <td>108</td>\n",
       "      <td>서교동 사거리</td>\n",
       "      <td>[37.552746, 126.918617]</td>\n",
       "      <td>30309</td>\n",
       "      <td>51.0</td>\n",
       "      <td>83</td>\n",
       "      <td>6.20</td>\n",
       "    </tr>\n",
       "    <tr>\n",
       "      <th>...</th>\n",
       "      <td>...</td>\n",
       "      <td>...</td>\n",
       "      <td>...</td>\n",
       "      <td>...</td>\n",
       "      <td>...</td>\n",
       "      <td>...</td>\n",
       "      <td>...</td>\n",
       "    </tr>\n",
       "    <tr>\n",
       "      <th>290</th>\n",
       "      <td>4616</td>\n",
       "      <td>신용산지하차도 앞</td>\n",
       "      <td>[37.53248215, 126.964119]</td>\n",
       "      <td>7755</td>\n",
       "      <td>20.0</td>\n",
       "      <td>67</td>\n",
       "      <td>3.97</td>\n",
       "    </tr>\n",
       "    <tr>\n",
       "      <th>291</th>\n",
       "      <td>4619</td>\n",
       "      <td>한강트럼프월드3차 앞</td>\n",
       "      <td>[37.52301788, 126.96241]</td>\n",
       "      <td>17695</td>\n",
       "      <td>36.0</td>\n",
       "      <td>68</td>\n",
       "      <td>4.43</td>\n",
       "    </tr>\n",
       "    <tr>\n",
       "      <th>292</th>\n",
       "      <td>152</td>\n",
       "      <td>마포구민체육센터 앞</td>\n",
       "      <td>[37.55661, 126.898018]</td>\n",
       "      <td>104386</td>\n",
       "      <td>44.0</td>\n",
       "      <td>261</td>\n",
       "      <td>7.22</td>\n",
       "    </tr>\n",
       "    <tr>\n",
       "      <th>293</th>\n",
       "      <td>218</td>\n",
       "      <td>증권거래소 앞</td>\n",
       "      <td>[37.523277, 126.929237]</td>\n",
       "      <td>8566</td>\n",
       "      <td>4.0</td>\n",
       "      <td>487</td>\n",
       "      <td>0.46</td>\n",
       "    </tr>\n",
       "    <tr>\n",
       "      <th>294</th>\n",
       "      <td>257</td>\n",
       "      <td>신길삼거리(우리은행)</td>\n",
       "      <td>[37.513844, 126.919357]</td>\n",
       "      <td>36666</td>\n",
       "      <td>19.0</td>\n",
       "      <td>510</td>\n",
       "      <td>2.65</td>\n",
       "    </tr>\n",
       "  </tbody>\n",
       "</table>\n",
       "<p>294 rows × 7 columns</p>\n",
       "</div>"
      ],
      "text/plain": [
       "     value        label                       coor     num  time  record  dist\n",
       "0      102   망원역 1번출구 앞    [37.555649, 126.910629]   62074  61.0      52  6.74\n",
       "1      103   망원역 2번출구 앞    [37.554951, 126.910835]   51577  46.0      85  6.90\n",
       "2      105   합정역 5번출구 앞    [37.550007, 126.914825]   20609  51.0      69  5.89\n",
       "3      106   합정역 7번출구 앞    [37.548645, 126.912827]   63341  38.0     714  5.70\n",
       "4      108      서교동 사거리    [37.552746, 126.918617]   30309  51.0      83  6.20\n",
       "..     ...          ...                        ...     ...   ...     ...   ...\n",
       "290   4616    신용산지하차도 앞  [37.53248215, 126.964119]    7755  20.0      67  3.97\n",
       "291   4619  한강트럼프월드3차 앞   [37.52301788, 126.96241]   17695  36.0      68  4.43\n",
       "292    152   마포구민체육센터 앞     [37.55661, 126.898018]  104386  44.0     261  7.22\n",
       "293    218      증권거래소 앞    [37.523277, 126.929237]    8566   4.0     487  0.46\n",
       "294    257  신길삼거리(우리은행)    [37.513844, 126.919357]   36666  19.0     510  2.65\n",
       "\n",
       "[294 rows x 7 columns]"
      ]
     },
     "execution_count": 138,
     "metadata": {},
     "output_type": "execute_result"
    }
   ],
   "source": [
    "\n",
    "def arrStation(st_id: int) -> pd.DataFrame:\n",
    "    filtered_data = raw_data(st_id)\n",
    "    all_record  = filtered_data.groupby(by=\"st_id2\").size()\n",
    "\n",
    "    # 대여기록 50건 이상 총 200개 대여소만 추출하기\n",
    "    # sort_info = all_record[all_record > 50].sort_values(ascending=False)[1:201]\n",
    "    sort_info = all_record[all_record > 50].sort_values(ascending=False)\n",
    "    station_id = sort_info.index.to_list()\n",
    "\n",
    "    result = btstation.query(\"value == @station_id\").reset_index(drop=True)\n",
    "\n",
    "    result_station = []\n",
    "    for j in result['value']:\n",
    "        # 예상시간 계산\n",
    "        BM = filtered_data[\"st_id2\"] == j\n",
    "        all_rent = (\n",
    "            filtered_data[BM][\"riding_time\"]\n",
    "            .value_counts()\n",
    "            .sort_values(ascending=False)\n",
    "        )\n",
    "\n",
    "        ### 대여기록\n",
    "        total_record = all_rent.sum()\n",
    "\n",
    "        k = []\n",
    "        i = 2\n",
    "        ### 기록 많은 순만 종합\n",
    "        while len(k) < 1:\n",
    "            k = all_rent[all_rent >= (total_record / i)]\n",
    "            i = i * 1.5\n",
    "\n",
    "        ### 대여시간\n",
    "        ind = k.index\n",
    "        ### 대여기록\n",
    "        val = k.values\n",
    "        ### 대여기록 합\n",
    "        a = k.sum()\n",
    "        ### 대여시간 * 대여기록\n",
    "        asddd = sum([a * b for a, b in zip(ind, val)])\n",
    "        # 평균 시간\n",
    "        ddddd = asddd / a\n",
    "\n",
    "        # 올림\n",
    "        val = round(ddddd, 0)\n",
    "\n",
    "        ### 이동거리 계산\n",
    "        BM = filtered_data[\"st_id2\"] == j\n",
    "        all_rent = (\n",
    "            filtered_data[BM][\"dist\"].value_counts().sort_values(ascending=False)\n",
    "        )\n",
    "\n",
    "        dist = (\n",
    "            pd.cut(all_rent.index, bins=50)\n",
    "            .value_counts()\n",
    "            .sort_values(ascending=False)\n",
    "        )\n",
    "        # 상위 3개 값을 평균냄. mid는 pd.interval 매서드에서 쓰는 변수임.\n",
    "        num = 3\n",
    "        vals = [dist[:num].index[a].mid * dist.iloc[a] for a in range(num)]\n",
    "        avg_dist = sum(vals) / sum(dist.to_list()[:num])\n",
    "\n",
    "        result_station.append([val, total_record, (round(avg_dist / 1000, 2))])\n",
    "\n",
    "    df = pd.DataFrame(result_station)\n",
    "    data = pd.concat([result, df], axis=1)\n",
    "    data.columns = [\"value\", \"label\", \"coor\", \"num\", \"time\", \"record\", \"dist\"]\n",
    "    data=data[data['value'] !=st_id]\n",
    "\n",
    "    return data\n",
    "\n",
    "arrStation(207)"
   ]
  },
  {
   "cell_type": "markdown",
   "metadata": {},
   "source": [
    "### 따릉이 대여소 대여기록 top 30 추출"
   ]
  },
  {
   "cell_type": "code",
   "execution_count": 139,
   "metadata": {},
   "outputs": [],
   "source": [
    "k = btstation.sort_values(ascending=False,by='num')\n",
    "a = k[:30]\n",
    "b = a['value'].tolist()\n",
    "asd = list(map(arrStation,b))\n",
    "asdddd = pd.concat(asd)"
   ]
  },
  {
   "cell_type": "markdown",
   "metadata": {},
   "source": [
    "## 분석 결과\n",
    "\n",
    "Top 30 대여소의 대여기록을 바탕으로 작성"
   ]
  },
  {
   "cell_type": "markdown",
   "metadata": {},
   "source": [
    "### Scatter Plot"
   ]
  },
  {
   "cell_type": "markdown",
   "metadata": {},
   "source": [
    "### 0~3km는 음의 상관 관계를 확인할 수 있음"
   ]
  },
  {
   "cell_type": "code",
   "execution_count": 185,
   "metadata": {},
   "outputs": [
    {
     "data": {
      "text/plain": [
       "<AxesSubplot:xlabel='distance', ylabel='counts'>"
      ]
     },
     "execution_count": 185,
     "metadata": {},
     "output_type": "execute_result"
    },
    {
     "data": {
      "image/png": "[encoded data removed]",
      "text/plain": [
       "<Figure size 432x288 with 1 Axes>"
      ]
     },
     "metadata": {
      "needs_background": "light"
     },
     "output_type": "display_data"
    }
   ],
   "source": [
    "asdddd[['record','dist']].query('dist < 3 & record < 3000').plot.scatter(y='record',x='dist',xlabel='distance',ylabel='counts')"
   ]
  },
  {
   "cell_type": "markdown",
   "metadata": {},
   "source": [
    "### 3~20km는 거리와 기록의 상관관계를 확인할 수 없음"
   ]
  },
  {
   "cell_type": "code",
   "execution_count": 184,
   "metadata": {},
   "outputs": [
    {
     "data": {
      "text/plain": [
       "<AxesSubplot:xlabel='distance', ylabel='counts'>"
      ]
     },
     "execution_count": 184,
     "metadata": {},
     "output_type": "execute_result"
    },
    {
     "data": {
      "image/png": "[encoded data removed]",
      "text/plain": [
       "<Figure size 432x288 with 1 Axes>"
      ]
     },
     "metadata": {
      "needs_background": "light"
     },
     "output_type": "display_data"
    }
   ],
   "source": [
    "asdddd[['record','dist']].plot.scatter(y='record',x='dist',xlabel='distance',ylabel='counts')"
   ]
  },
  {
   "cell_type": "markdown",
   "metadata": {},
   "source": [
    "### Barplot\n",
    "\n",
    "### Barplot에서도 0~3km에서는 상관관계를 보이지만 이후 거리에는 상관관계를 확인할 수 없음."
   ]
  },
  {
   "cell_type": "code",
   "execution_count": 186,
   "metadata": {},
   "outputs": [
    {
     "data": {
      "text/plain": [
       "<AxesSubplot:xlabel='distance', ylabel='avgCounts'>"
      ]
     },
     "execution_count": 186,
     "metadata": {},
     "output_type": "execute_result"
    },
    {
     "data": {
      "image/png": "[encoded data removed]",
      "text/plain": [
       "<Figure size 432x288 with 1 Axes>"
      ]
     },
     "metadata": {
      "needs_background": "light"
     },
     "output_type": "display_data"
    }
   ],
   "source": [
    "bbb = asdddd[['record','dist']]\n",
    "label = list(range(1,21))\n",
    "asd = pd.cut(asdddd['dist'],bins=range(0,21),labels=label,precision=3)\n",
    "asdddd['cut'] = asd\n",
    "cc = asdddd.groupby(by='cut').mean()['record']\n",
    "cc.plot.bar(xlabel='distance',ylabel='avgCounts',fontsize=11,rot=0)"
   ]
  }
 ],
 "metadata": {
  "kernelspec": {
   "display_name": "Python 3.9.1 64-bit",
   "language": "python",
   "name": "python3"
  },
  "language_info": {
   "codemirror_mode": {
    "name": "ipython",
    "version": 3
   },
   "file_extension": ".py",
   "mimetype": "text/x-python",
   "name": "python",
   "nbconvert_exporter": "python",
   "pygments_lexer": "ipython3",
   "version": "3.9.1"
  },
  "orig_nbformat": 4,
  "vscode": {
   "interpreter": {
    "hash": "b2097164ba635ebffc0e3795dc845ae25b57eedf0c1eb5773ded6aee9fc1b279"
   }
  }
 },
 "nbformat": 4,
 "nbformat_minor": 2
}
