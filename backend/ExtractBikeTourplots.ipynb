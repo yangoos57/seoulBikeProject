{
 "cells": [
  {
   "cell_type": "code",
   "execution_count": 17,
   "metadata": {},
   "outputs": [],
   "source": [
    "import matplotlib.pyplot as plt\n",
    "import pandas as pd\n",
    "import numpy as np\n",
    "import matplotlib.font_manager\n",
    "import plotly.express as px\n",
    "\n",
    "# [f.name for f in matplotlib.font_manager.fontManager.ttflist if 'NEXON' in f.name]\n",
    "# print ('캐시 위치: ', matplotlib.get_cachedir())\n",
    "\n",
    "plt.style.use('seaborn-dark')\n",
    "plt.rcParams[\"font.family\"] = 'NEXON Lv2 Gothic'\n",
    "plt.rcParams[\"font.weight\"] = 'light'\n",
    "\n",
    "plt.rcParams['axes.unicode_minus'] = False"
   ]
  },
  {
   "cell_type": "code",
   "execution_count": 18,
   "metadata": {},
   "outputs": [],
   "source": [
    "station = pd.read_csv(\n",
    "    \"assets/seoul_bike_station_01_12.csv\", encoding=\"CP949\", index_col=0\n",
    ")\n",
    "\n",
    "near_bus = pd.read_csv(\n",
    "    \"assets/near_bus_500m.csv\", encoding=\"CP949\", index_col=0\n",
    ")\n",
    "\n",
    "seoul_bike = pd.read_parquet(\"/Users/yangwoolee/git_repo/seoulBikeProject/parquet/220607_bike_record.parquet.gzip\")\n",
    "\n",
    "sub_info = pd.read_csv(\n",
    "    \"assets/sub_and_bike_info.csv\", encoding=\"CP949\", index_col=0\n",
    ")\n",
    "\n",
    "search_info = pd.read_csv(\n",
    "    \"assets/search_info.csv\", encoding=\"CP949\", index_col=0\n",
    ")\n",
    "btstation = pd.read_csv(\n",
    "    \"assets/btbtstation_info.csv\", encoding=\"CP949\", index_col=0\n",
    ")\n",
    "\n",
    "near_sub = pd.read_csv(\n",
    "    \"assets/near_sub_station.csv\", encoding=\"CP949\", index_col=0\n",
    ")"
   ]
  },
  {
   "cell_type": "code",
   "execution_count": 206,
   "metadata": {},
   "outputs": [],
   "source": [
    "def haversine_np(\n",
    "    lon1: float, lat1: float, lon2: float, lat2: float\n",
    ") -> np.array:\n",
    "    \"\"\"\n",
    "    Calculate the great circle distance between two points\n",
    "    on the earth (specified in decimal degrees)\n",
    "\n",
    "    All args must be of equal length.\n",
    "\n",
    "    \"\"\"\n",
    "    lon1, lat1, lon2, lat2 = map(np.radians, [lon1, lat1, lon2, lat2])\n",
    "\n",
    "    dlon = lon2 - lon1\n",
    "    dlat = lat2 - lat1\n",
    "\n",
    "    a = (\n",
    "        np.sin(dlat / 2.0) ** 2\n",
    "        + np.cos(lat1) * np.cos(lat2) * np.sin(dlon / 2.0) ** 2\n",
    "    )\n",
    "\n",
    "    c = 2 * np.arcsin(np.sqrt(a))\n",
    "    m = 6367 * c * 1000\n",
    "    return m\n",
    "\n",
    "def raw_data( val: int) -> pd.DataFrame:\n",
    "    quert_st_id1 = seoul_bike[seoul_bike[\"st_id1\"] == val]\n",
    "    quert_st_id2 = seoul_bike[seoul_bike[\"st_id2\"] == val]\n",
    "    filtered_data = pd.concat(\n",
    "        [quert_st_id1, quert_st_id2], axis=0\n",
    "    ).drop_duplicates()\n",
    "    filtered_data.drop(columns=\"index\", inplace=True)\n",
    "    bm = (filtered_data[\"st_id1\"] == val) & (filtered_data[\"st_id2\"] == val)\n",
    "    filtered_data = filtered_data[~bm]\n",
    "\n",
    "    # # 반납\n",
    "    # filtered_data_end = filtered_data[\n",
    "    #     (filtered_data[\"st_id2\"] == val) & (filtered_data[\"st_id1\"] != val)\n",
    "    # ]\n",
    "\n",
    "    return filtered_data\n",
    "\n",
    "# def findInteractionNum(id:int) :\n",
    "def stationInteraction(id:int) :\n",
    "    stationInteraction = seoul_bike[seoul_bike[\"st_id1\"] == id ].groupby(by='st_id2').size()\n",
    "    data = stationInteraction[stationInteraction>=10].sort_values(ascending=False)\n",
    "    result = pd.DataFrame(data).reset_index(drop=False)\n",
    "    result['st_id1']= id\n",
    "    result = result[['st_id1','st_id2',0]]\n",
    "    return result\n",
    "\n",
    "def drawMap(ids:list) : \n",
    "    if type(ids) == str :\n",
    "        ids = [ids]\n",
    "\n",
    "    stationInfo = station[station.index.isin(ids)]\n",
    "    fig = px.scatter_mapbox(\n",
    "    stationInfo,\n",
    "    lat=\"latitude\",\n",
    "    lon=\"longtitude\",\n",
    "    hover_data={'latitude':False,'longtitude':False,'st_name':True},\n",
    "    opacity=0.8,\n",
    "    zoom=10,\n",
    "    # marker=14,\n",
    "    custom_data=[\"st_name\"],\n",
    "    color=[\"도착\", \"출발\"],\n",
    "    color_discrete_sequence=[\"#35C768\", \"#3581C7\"],  # 대여소 # 자하철\n",
    ")\n",
    "    fig.update_traces(marker={'size': 15})\n",
    "\n",
    "    fig.update_layout(\n",
    "                margin=dict(l=0, r=0, t=0, b=0),\n",
    "                mapbox_zoom=14,\n",
    "                mapbox_center={\"lat\": stationInfo.iloc[0]['latitude'], \"lon\": stationInfo.iloc[0]['longtitude']},\n",
    "                mapbox=dict(\n",
    "                    accesstoken=\"pk.eyJ1IjoieWFuZ29vcyIsImEiOiJjbDNqd2tkN2IwbGdmM2pvNzF0c2M4NnZkIn0.J3IjPYg3w28cGiWkUD7bnA\",\n",
    "                    style=\"mapbox://styles/yangoos/cl4cljdka001o14n3cll7whrh/draft\",\n",
    "                ),\n",
    "                legend=dict(\n",
    "                    yanchor=\"top\",\n",
    "                    y=0.82,\n",
    "                    xanchor=\"right\",\n",
    "                    x=0.95,\n",
    "                    bgcolor=\"rgba(223, 235, 223, 0.8)\",\n",
    "                    # title={\"text\": None},\n",
    "                ))\n",
    "    return fig\n",
    "    "
   ]
  },
  {
   "cell_type": "code",
   "execution_count": 20,
   "metadata": {},
   "outputs": [
    {
     "data": {
      "text/plain": [
       "Text(0.5, 1.0, '대여소 거리 별 대여건수')"
      ]
     },
     "execution_count": 20,
     "metadata": {},
     "output_type": "execute_result"
    },
    {
     "data": {
      "image/png": "[encoded data removed]",
      "text/plain": [
       "<Figure size 504x360 with 1 Axes>"
      ]
     },
     "metadata": {},
     "output_type": "display_data"
    }
   ],
   "source": [
    "\n",
    "def haversineOneStation(id:int,station) -> pd.DataFrame :\n",
    "    '''\n",
    "    선택한 대여소를 기준으로 이용기록이 있는 대여소의 직선 거리와 대여 건수를 계산한다. \n",
    "\n",
    "    '''\n",
    "    # st_id2 선정\n",
    "    stationInteraction = seoul_bike[seoul_bike[\"st_id1\"] == id ].groupby(by='st_id2').size()\n",
    "    \n",
    "    # 대여기록 10건 이상인 대여소만 수집\n",
    "    data = stationInteraction[stationInteraction>=10].sort_values(ascending=False)\n",
    "\n",
    "    # dep & arr station info\n",
    "    dep = station[station.index.isin([id])]\n",
    "    arr = station[station.index.isin(data.index.tolist())]\n",
    "\n",
    "    # haversine으로 거리 구하기\n",
    "    depLong = dep['longtitude'].values\n",
    "    depLat = dep['latitude'].values\n",
    "    arrLong=arr['longtitude']\n",
    "    arrLat=arr['latitude']\n",
    "    dist = haversine_np(depLong,depLat,arrLong,arrLat)\n",
    "    dist = pd.DataFrame(dist/1000,columns=['dist']).reset_index(drop=False)\n",
    "\n",
    "    # 결과종합\n",
    "    result = pd.DataFrame(data,columns=['count']).reset_index(drop=False)\n",
    "    result['st_id1']= id\n",
    "    result = result[['st_id1','st_id2','count']]\n",
    "    result = pd.merge(left=result, right=dist, left_on='st_id2',right_on='st_id')\n",
    "\n",
    "    return result.drop(columns='st_id')\n",
    "\n",
    "#예시\n",
    "dist = haversineOneStation(207,station)\n",
    "\n",
    "# 대여소 거리에 따른 대여기록 \n",
    "plt.rcParams[\"font.family\"] = 'NEXON Lv2 Gothic'\n",
    "dist.query(\"count <30000\").plot.scatter(x='dist',y='count',figsize=(7,5))\n",
    "plt.xlabel(xlabel='대여소 간 거리(Km)')\n",
    "plt.ylabel(ylabel='대여 건수')\n",
    "plt.title('대여소 거리 별 대여건수')"
   ]
  },
  {
   "cell_type": "markdown",
   "metadata": {},
   "source": [
    "### Log로 그려보기"
   ]
  },
  {
   "cell_type": "code",
   "execution_count": 21,
   "metadata": {},
   "outputs": [
    {
     "data": {
      "text/plain": [
       "Text(0, 0.5, '대여건수(Log)')"
      ]
     },
     "execution_count": 21,
     "metadata": {},
     "output_type": "execute_result"
    },
    {
     "data": {
      "image/png": "[encoded data removed]",
      "text/plain": [
       "<Figure size 504x360 with 1 Axes>"
      ]
     },
     "metadata": {},
     "output_type": "display_data"
    }
   ],
   "source": [
    "copydist = dist.copy()\n",
    "copydist['log'] =  np.log(dist['count'])\n",
    "copydist.plot.scatter('dist','log',figsize=(7,5))\n",
    "plt.xlabel(xlabel='대여소 간 거리(Km)')\n",
    "plt.ylabel(ylabel='대여건수(Log)')"
   ]
  },
  {
   "cell_type": "markdown",
   "metadata": {},
   "source": [
    "### 전체 대여소의 대여소 거리 및 count 종합"
   ]
  },
  {
   "cell_type": "code",
   "execution_count": 22,
   "metadata": {},
   "outputs": [
    {
     "data": {
      "text/html": [
       "<div>\n",
       "<style scoped>\n",
       "    .dataframe tbody tr th:only-of-type {\n",
       "        vertical-align: middle;\n",
       "    }\n",
       "\n",
       "    .dataframe tbody tr th {\n",
       "        vertical-align: top;\n",
       "    }\n",
       "\n",
       "    .dataframe thead th {\n",
       "        text-align: right;\n",
       "    }\n",
       "</style>\n",
       "<table border=\"1\" class=\"dataframe\">\n",
       "  <thead>\n",
       "    <tr style=\"text-align: right;\">\n",
       "      <th></th>\n",
       "      <th>st_id1</th>\n",
       "      <th>st_id2</th>\n",
       "      <th>count</th>\n",
       "      <th>dist</th>\n",
       "    </tr>\n",
       "  </thead>\n",
       "  <tbody>\n",
       "    <tr>\n",
       "      <th>0</th>\n",
       "      <td>102</td>\n",
       "      <td>102</td>\n",
       "      <td>3100</td>\n",
       "      <td>0.000000</td>\n",
       "    </tr>\n",
       "    <tr>\n",
       "      <th>1</th>\n",
       "      <td>102</td>\n",
       "      <td>107</td>\n",
       "      <td>1990</td>\n",
       "      <td>0.723829</td>\n",
       "    </tr>\n",
       "    <tr>\n",
       "      <th>2</th>\n",
       "      <td>102</td>\n",
       "      <td>152</td>\n",
       "      <td>1925</td>\n",
       "      <td>1.116089</td>\n",
       "    </tr>\n",
       "  </tbody>\n",
       "</table>\n",
       "</div>"
      ],
      "text/plain": [
       "   st_id1  st_id2 count      dist\n",
       "0     102     102  3100  0.000000\n",
       "1     102     107  1990  0.723829\n",
       "2     102     152  1925  1.116089"
      ]
     },
     "execution_count": 22,
     "metadata": {},
     "output_type": "execute_result"
    }
   ],
   "source": [
    "totalList = list(map(lambda x : haversineOneStation(x,station),station.index))\n",
    "totalDataFrame = pd.concat(totalList)\n",
    "totalDataFrame.head(3)"
   ]
  },
  {
   "cell_type": "code",
   "execution_count": 26,
   "metadata": {},
   "outputs": [
    {
     "data": {
      "text/plain": [
       "21.33590531354898"
      ]
     },
     "execution_count": 26,
     "metadata": {},
     "output_type": "execute_result"
    }
   ],
   "source": [
    "k['dist'].max()"
   ]
  },
  {
   "cell_type": "code",
   "execution_count": 28,
   "metadata": {},
   "outputs": [
    {
     "data": {
      "image/png": "[encoded data removed]",
      "text/plain": [
       "<Figure size 432x288 with 1 Axes>"
      ]
     },
     "metadata": {},
     "output_type": "display_data"
    }
   ],
   "source": [
    "# 30건 이상 대여기록만 포함\n",
    "k =totalDataFrame[['dist','count']].query('dist > 0 & count >30').reset_index(drop=True)\n",
    "\n",
    "# 15개 범위로 자르기\n",
    "bins = list(range(0,15))\n",
    "bins.append(int(k['dist'].max()))\n",
    "k['cat'] = pd.cut(k['dist'], bins=bins)\n",
    "\n",
    "# 대여소 간 직선거리에 따른 평균 대여기록\n",
    "x = k.groupby(by='cat')['count'].mean()\n",
    "kkk = pd.DataFrame(x).reset_index(drop=False)\n",
    "kkk.plot.bar(rot=0)\n",
    "\n",
    "# x,y labels and ticks\n",
    "\n",
    "plt.title(label='대여소 거리에 따른 평균 대여기록',fontdict={'size': 20},y=1.05)\n",
    "plt.xlabel(xlabel='대여소 거리(km)',fontdict={'size':15})\n",
    "plt.ylabel(ylabel='평균 대여건수(건)',fontdict={'size':15})\n",
    "plt.xticks(fontsize=13,weight='bold')\n",
    "plt.yticks(fontsize=13,weight='bold')\n",
    "\n",
    "# red dot line\n",
    "avg = int(np.mean(totalDataFrame.query('dist >= 2')['count']))\n",
    "plt.axhline(y=50, color='tab:red',linestyle='--')\n",
    "\n",
    "# off some fetures\n",
    "plt.legend().remove()\n",
    "plt.grid(False)"
   ]
  },
  {
   "cell_type": "code",
   "execution_count": 62,
   "metadata": {},
   "outputs": [],
   "source": [
    "# bins = list(range(0,15))\n",
    "# bins.append(int(k['dist'].max()/1000))\n",
    "# kkkk = pd.cut(k['dist']/1000, bins, right=False)\n",
    "# kkkk.values.describe()\n"
   ]
  },
  {
   "cell_type": "markdown",
   "metadata": {},
   "source": [
    "### A->B, B->A 대여소 이동 비율 계산"
   ]
  },
  {
   "cell_type": "code",
   "execution_count": 31,
   "metadata": {},
   "outputs": [],
   "source": [
    "### Save File로 대체\n",
    "\n",
    "# wholeCount= list(map(stationInteraction,station.index))\n",
    "# c = pd.concat(wholeCount)\n",
    "\n",
    "# # st_id == st_id2 and st_id2 == st_id1\n",
    "# def findId1AndId2(id1,id2,c) : \n",
    "    \n",
    "#     test1 = np.in1d(c['st_id1'],np.array([id1])) \n",
    "#     test2 = np.in1d(c['st_id2'],np.array([id2]))\n",
    "#     val1 = c[test1 & test2][0].values[0]\n",
    "    \n",
    "#     # id2 to id1은 없을 수 있으니 try Execpt 활용 \n",
    "#     try : \n",
    "#         test3 = np.in1d(c['st_id1'],np.array([id2])) \n",
    "#         test4 = np.in1d(c['st_id2'],np.array([id1]))\n",
    "#         val2 = c[test3 & test4][0].values[0]\n",
    "#     except :\n",
    "#         # 최소 대여기준이 10건이므로 그 절반인 5를 기본 값으로 넣음\n",
    "#         val2 = 5\n",
    "\n",
    "#     result = [id1,id2,val1,val2]\n",
    "#     return result\n",
    "\n",
    "# findId1AndId2(103,101,c)\n",
    "# # return id1, id2, 1->2 ,2->1\n"
   ]
  },
  {
   "cell_type": "code",
   "execution_count": null,
   "metadata": {},
   "outputs": [],
   "source": [
    "### Save File로 대체\n",
    "\n",
    "# # st_id1, st_id2 추출\n",
    "# newC = c[~(c['st_id1'] == c['st_id2'])]\n",
    "# st_id1 = newC[newC['st_id1'] > newC['st_id2']]['st_id1'].tolist()\n",
    "# st_id2 = newC[newC['st_id1'] > newC['st_id2']]['st_id2'].tolist()\n",
    "\n",
    "# # 전체 대여소에 적용\n",
    "# k = [findId1AndId2(a,b,c) for a, b in zip(st_id1,st_id2)]\n",
    "\n",
    "# # 결과 dataframe으로\n",
    "# j = pd.DataFrame(k)\n",
    "# j.columns = ['st_id1','st_id2','1to2','2to1']\n",
    "\n",
    "# # 에러 제거\n",
    "# BM=(j['st_id1'].isin([3,5]) | j['st_id2'].isin([3,5]))\n",
    "# j = j[~BM]\n",
    "\n",
    "# # 비율 계산\n",
    "# j['1to2Rate']= j['1to2']/j['2to1']\n",
    "# j['2to1Rate']= j['2to1']/j['1to2']"
   ]
  },
  {
   "cell_type": "code",
   "execution_count": 178,
   "metadata": {},
   "outputs": [
    {
     "data": {
      "text/html": [
       "<div>\n",
       "<style scoped>\n",
       "    .dataframe tbody tr th:only-of-type {\n",
       "        vertical-align: middle;\n",
       "    }\n",
       "\n",
       "    .dataframe tbody tr th {\n",
       "        vertical-align: top;\n",
       "    }\n",
       "\n",
       "    .dataframe thead th {\n",
       "        text-align: right;\n",
       "    }\n",
       "</style>\n",
       "<table border=\"1\" class=\"dataframe\">\n",
       "  <thead>\n",
       "    <tr style=\"text-align: right;\">\n",
       "      <th></th>\n",
       "      <th>st_id1</th>\n",
       "      <th>st_id2</th>\n",
       "      <th>1to2</th>\n",
       "      <th>2to1</th>\n",
       "      <th>1to2Rate</th>\n",
       "      <th>2to1Rate</th>\n",
       "    </tr>\n",
       "  </thead>\n",
       "  <tbody>\n",
       "    <tr>\n",
       "      <th>0</th>\n",
       "      <td>102</td>\n",
       "      <td>101</td>\n",
       "      <td>67</td>\n",
       "      <td>41</td>\n",
       "      <td>1.634146</td>\n",
       "      <td>0.611940</td>\n",
       "    </tr>\n",
       "    <tr>\n",
       "      <th>1</th>\n",
       "      <td>103</td>\n",
       "      <td>102</td>\n",
       "      <td>684</td>\n",
       "      <td>813</td>\n",
       "      <td>0.841328</td>\n",
       "      <td>1.188596</td>\n",
       "    </tr>\n",
       "  </tbody>\n",
       "</table>\n",
       "</div>"
      ],
      "text/plain": [
       "   st_id1  st_id2  1to2  2to1  1to2Rate  2to1Rate\n",
       "0     102     101    67    41  1.634146  0.611940\n",
       "1     103     102   684   813  0.841328  1.188596"
      ]
     },
     "execution_count": 178,
     "metadata": {},
     "output_type": "execute_result"
    }
   ],
   "source": [
    "j = pd.read_csv('./assets/saveForBikeRate.csv',encoding='cp949',index_col=0)\n",
    "j['2to1']=j['2to1'].replace(5,10)\n",
    "j['1to2Rate']= j['1to2']/j['2to1']\n",
    "j['2to1Rate']= j['2to1']/j['1to2']\n",
    "j.head(2)"
   ]
  },
  {
   "cell_type": "code",
   "execution_count": 225,
   "metadata": {},
   "outputs": [
    {
     "data": {
      "text/html": [
       "<div>\n",
       "<style scoped>\n",
       "    .dataframe tbody tr th:only-of-type {\n",
       "        vertical-align: middle;\n",
       "    }\n",
       "\n",
       "    .dataframe tbody tr th {\n",
       "        vertical-align: top;\n",
       "    }\n",
       "\n",
       "    .dataframe thead th {\n",
       "        text-align: right;\n",
       "    }\n",
       "</style>\n",
       "<table border=\"1\" class=\"dataframe\">\n",
       "  <thead>\n",
       "    <tr style=\"text-align: right;\">\n",
       "      <th></th>\n",
       "      <th>st_id1</th>\n",
       "      <th>st_id2</th>\n",
       "      <th>1to2</th>\n",
       "      <th>2to1</th>\n",
       "      <th>1to2Rate</th>\n",
       "      <th>2to1Rate</th>\n",
       "    </tr>\n",
       "  </thead>\n",
       "  <tbody>\n",
       "    <tr>\n",
       "      <th>63410</th>\n",
       "      <td>2092</td>\n",
       "      <td>2026</td>\n",
       "      <td>505</td>\n",
       "      <td>12</td>\n",
       "      <td>42.083333</td>\n",
       "      <td>0.023762</td>\n",
       "    </tr>\n",
       "    <tr>\n",
       "      <th>46345</th>\n",
       "      <td>1550</td>\n",
       "      <td>1531</td>\n",
       "      <td>291</td>\n",
       "      <td>10</td>\n",
       "      <td>29.100000</td>\n",
       "      <td>0.034364</td>\n",
       "    </tr>\n",
       "    <tr>\n",
       "      <th>94292</th>\n",
       "      <td>3310</td>\n",
       "      <td>2169</td>\n",
       "      <td>1666</td>\n",
       "      <td>66</td>\n",
       "      <td>25.242424</td>\n",
       "      <td>0.039616</td>\n",
       "    </tr>\n",
       "    <tr>\n",
       "      <th>27351</th>\n",
       "      <td>975</td>\n",
       "      <td>912</td>\n",
       "      <td>274</td>\n",
       "      <td>11</td>\n",
       "      <td>24.909091</td>\n",
       "      <td>0.040146</td>\n",
       "    </tr>\n",
       "    <tr>\n",
       "      <th>19869</th>\n",
       "      <td>762</td>\n",
       "      <td>736</td>\n",
       "      <td>235</td>\n",
       "      <td>10</td>\n",
       "      <td>23.500000</td>\n",
       "      <td>0.042553</td>\n",
       "    </tr>\n",
       "  </tbody>\n",
       "</table>\n",
       "</div>"
      ],
      "text/plain": [
       "       st_id1  st_id2  1to2  2to1   1to2Rate  2to1Rate\n",
       "63410    2092    2026   505    12  42.083333  0.023762\n",
       "46345    1550    1531   291    10  29.100000  0.034364\n",
       "94292    3310    2169  1666    66  25.242424  0.039616\n",
       "27351     975     912   274    11  24.909091  0.040146\n",
       "19869     762     736   235    10  23.500000  0.042553"
      ]
     },
     "execution_count": 225,
     "metadata": {},
     "output_type": "execute_result"
    }
   ],
   "source": [
    "# 1to2 비율체크\n",
    "jjk = j.sort_values(by='1to2Rate',ascending=False).head(50)\n",
    "\n",
    "# #2to1 비율체크\n",
    "# jjk = j.sort_values(by='2to1Rate',ascending=False).head(5)\n",
    "jjk.head(5)"
   ]
  },
  {
   "cell_type": "code",
   "execution_count": 231,
   "metadata": {},
   "outputs": [
    {
     "name": "stdout",
     "output_type": "stream",
     "text": [
      "출발 대여소 : 금호역 1번출구 앞 ||  id : 522\n",
      "도착 대여소 : 을지로3가역 3번출구 ||  id : 398\n",
      "\n",
      "전체 대여기록 154 건\n",
      "3     152\n",
      "20      2\n",
      "Name: date, dtype: int64\n"
     ]
    }
   ],
   "source": [
    "#1to2 체크중\n",
    "a = jjk[['st_id1','st_id2']].values.tolist()\n",
    "find = a[26]\n",
    "kb = btstation[(btstation['value'].isin(find))].sort_values(by='value',ascending=False)\n",
    "print(f'출발 대여소 : {kb.label.values[0]} ||  id : {kb.value.values[0]}')\n",
    "print(f'도착 대여소 : {kb.label.values[1]} ||  id : {kb.value.values[1]}')\n",
    "print('')\n",
    "id1 = kb.value.values[0]\n",
    "id2 = kb.value.values[1]\n",
    "print(f'전체 대여기록 {len(seoul_bike[(seoul_bike[\"st_id1\"] == id1) & (seoul_bike[\"st_id2\"] == id2)])} 건')\n",
    "print(seoul_bike[(seoul_bike[\"st_id1\"] == id1) & (seoul_bike[\"st_id2\"] == id2)]['date'].dt.hour.value_counts().head(5))\n",
    "\n",
    "# drawMap(find)"
   ]
  },
  {
   "cell_type": "code",
   "execution_count": 82,
   "metadata": {},
   "outputs": [
    {
     "data": {
      "text/html": [
       "<div>\n",
       "<style scoped>\n",
       "    .dataframe tbody tr th:only-of-type {\n",
       "        vertical-align: middle;\n",
       "    }\n",
       "\n",
       "    .dataframe tbody tr th {\n",
       "        vertical-align: top;\n",
       "    }\n",
       "\n",
       "    .dataframe thead th {\n",
       "        text-align: right;\n",
       "    }\n",
       "</style>\n",
       "<table border=\"1\" class=\"dataframe\">\n",
       "  <thead>\n",
       "    <tr style=\"text-align: right;\">\n",
       "      <th></th>\n",
       "      <th>st_id1</th>\n",
       "      <th>st_id2</th>\n",
       "      <th>1to2</th>\n",
       "      <th>2to1</th>\n",
       "      <th>1to2Rate</th>\n",
       "      <th>2to1Rate</th>\n",
       "    </tr>\n",
       "  </thead>\n",
       "  <tbody>\n",
       "    <tr>\n",
       "      <th>0</th>\n",
       "      <td>102</td>\n",
       "      <td>101</td>\n",
       "      <td>67</td>\n",
       "      <td>41</td>\n",
       "      <td>0.708537</td>\n",
       "      <td>-0.708537</td>\n",
       "    </tr>\n",
       "    <tr>\n",
       "      <th>1</th>\n",
       "      <td>103</td>\n",
       "      <td>102</td>\n",
       "      <td>684</td>\n",
       "      <td>813</td>\n",
       "      <td>-0.249259</td>\n",
       "      <td>0.249259</td>\n",
       "    </tr>\n",
       "  </tbody>\n",
       "</table>\n",
       "</div>"
      ],
      "text/plain": [
       "   st_id1  st_id2  1to2  2to1  1to2Rate  2to1Rate\n",
       "0     102     101    67    41  0.708537 -0.708537\n",
       "1     103     102   684   813 -0.249259  0.249259"
      ]
     },
     "execution_count": 82,
     "metadata": {},
     "output_type": "execute_result"
    }
   ],
   "source": [
    "#log2로 변환\n",
    "newj = j.copy()\n",
    "newj['1to2Rate'] = np.log2(newj['1to2Rate'])\n",
    "newj['2to1Rate'] = np.log2(newj['2to1Rate'])\n",
    "\n",
    "newj.head(2)"
   ]
  },
  {
   "cell_type": "code",
   "execution_count": null,
   "metadata": {},
   "outputs": [],
   "source": [
    "test1 = np.abs(newj['1to2Rate'])\n",
    "# test2= pd.cut(test1,bins=[0,1,2,3,4,8],labels=['1~2배','2~4배','4~8배','8~16배','16배~'])\n",
    "\n",
    "test1 = newj['1to2Rate']\n",
    "test2= pd.cut(test1,10)\n",
    "# test2 = test2.fillna(0)"
   ]
  },
  {
   "cell_type": "code",
   "execution_count": 173,
   "metadata": {},
   "outputs": [
    {
     "data": {
      "text/plain": [
       "<AxesSubplot:xlabel='categories'>"
      ]
     },
     "execution_count": 173,
     "metadata": {},
     "output_type": "execute_result"
    },
    {
     "data": {
      "image/png": "[encoded data removed]",
      "text/plain": [
       "<Figure size 432x288 with 1 Axes>"
      ]
     },
     "metadata": {},
     "output_type": "display_data"
    }
   ],
   "source": [
    "test2= pd.cut(test1,bins=[-6,-2,-1,1,2,6])\n",
    "test2bar = test2.values.describe()\n",
    "test2bar['counts'].plot.bar()\n",
    "\n",
    "test3 = pd.cut(test1,bins=[-1,-0.5,0,0.5,1]).dropna()\n",
    "test3bar = test3.values.describe()\n",
    "test3bar['counts'].plot.bar()"
   ]
  },
  {
   "cell_type": "code",
   "execution_count": null,
   "metadata": {},
   "outputs": [],
   "source": [
    "plt.figure(figsize=(6,5))\n",
    "test2bar=test2.value_counts().sort_values(ascending=False)\n",
    "plt.barh(y=test2bar.index,width=test2bar,)\n",
    "plt.title(label='대여소 이동 비율 차이',fontdict={'size': 20},y=1.05)\n",
    "plt.xlabel(xlabel='A->B/B->A',fontdict={'size':14})\n",
    "plt.ylabel(ylabel='대여소(개)',fontdict={'size':14})\n",
    "plt.xticks(fontsize=12,weight='bold')\n",
    "plt.yticks(fontsize=12,weight='bold')"
   ]
  },
  {
   "cell_type": "code",
   "execution_count": 202,
   "metadata": {},
   "outputs": [],
   "source": []
  },
  {
   "cell_type": "code",
   "execution_count": 216,
   "metadata": {},
   "outputs": [],
   "source": [
    "# stationInteraction(1830)"
   ]
  }
 ],
 "metadata": {
  "kernelspec": {
   "display_name": "Python 3.9.1 64-bit",
   "language": "python",
   "name": "python3"
  },
  "language_info": {
   "codemirror_mode": {
    "name": "ipython",
    "version": 3
   },
   "file_extension": ".py",
   "mimetype": "text/x-python",
   "name": "python",
   "nbconvert_exporter": "python",
   "pygments_lexer": "ipython3",
   "version": "3.9.1"
  },
  "orig_nbformat": 4,
  "vscode": {
   "interpreter": {
    "hash": "b2097164ba635ebffc0e3795dc845ae25b57eedf0c1eb5773ded6aee9fc1b279"
   }
  }
 },
 "nbformat": 4,
 "nbformat_minor": 2
}
