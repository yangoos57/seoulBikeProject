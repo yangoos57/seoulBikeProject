{
 "cells": [
  {
   "cell_type": "code",
   "execution_count": 1,
   "metadata": {},
   "outputs": [],
   "source": [
    "import pandas as pd\n",
    "import numpy as np"
   ]
  },
  {
   "cell_type": "code",
   "execution_count": 3,
   "metadata": {},
   "outputs": [],
   "source": [
    "def haversine_np(\n",
    "    lon1: float, lat1: float, lon2: float, lat2: float\n",
    ") -> np.array:\n",
    "    \"\"\"\n",
    "    Calculate the great circle distance between two points\n",
    "    on the earth (specified in decimal degrees)\n",
    "\n",
    "    All args must be of equal length.\n",
    "\n",
    "    \"\"\"\n",
    "    lon1, lat1, lon2, lat2 = map(np.radians, [lon1, lat1, lon2, lat2])\n",
    "\n",
    "    dlon = lon2 - lon1\n",
    "    dlat = lat2 - lat1\n",
    "\n",
    "    a = (\n",
    "        np.sin(dlat / 2.0) ** 2\n",
    "        + np.cos(lat1) * np.cos(lat2) * np.sin(dlon / 2.0) ** 2\n",
    "    )\n",
    "\n",
    "    c = 2 * np.arcsin(np.sqrt(a))\n",
    "    m = 6367 * c * 1000\n",
    "    return m"
   ]
  },
  {
   "cell_type": "code",
   "execution_count": 4,
   "metadata": {},
   "outputs": [],
   "source": [
    "def raw_data( val: int) -> pd.DataFrame:\n",
    "    quert_st_id1 = seoul_bike[seoul_bike[\"st_id1\"] == val]\n",
    "    quert_st_id2 = seoul_bike[seoul_bike[\"st_id2\"] == val]\n",
    "    filtered_data = pd.concat(\n",
    "        [quert_st_id1, quert_st_id2], axis=0\n",
    "    ).drop_duplicates()\n",
    "    filtered_data.drop(columns=\"index\", inplace=True)\n",
    "    bm = (filtered_data[\"st_id1\"] == val) & (filtered_data[\"st_id2\"] == val)\n",
    "    filtered_data = filtered_data[~bm]\n",
    "\n",
    "    # # 반납\n",
    "    # filtered_data_end = filtered_data[\n",
    "    #     (filtered_data[\"st_id2\"] == val) & (filtered_data[\"st_id1\"] != val)\n",
    "    # ]\n",
    "\n",
    "    return filtered_data"
   ]
  },
  {
   "cell_type": "code",
   "execution_count": 5,
   "metadata": {},
   "outputs": [],
   "source": [
    "station = pd.read_csv(\n",
    "    \"assets/seoul_bike_station_01_12.csv\", encoding=\"CP949\", index_col=0\n",
    ")\n",
    "\n",
    "near_bus = pd.read_csv(\n",
    "    \"assets/near_bus_500m.csv\", encoding=\"CP949\", index_col=0\n",
    ")\n",
    "\n",
    "seoul_bike = pd.read_parquet(\"/Users/yangwoolee/git_repo/seoulBikeProject/parquet/220607_bike_record.parquet.gzip\")\n",
    "\n",
    "sub_info = pd.read_csv(\n",
    "    \"assets/sub_and_bike_info.csv\", encoding=\"CP949\", index_col=0\n",
    ")\n",
    "\n",
    "search_info = pd.read_csv(\n",
    "    \"assets/search_info.csv\", encoding=\"CP949\", index_col=0\n",
    ")\n",
    "btstation = pd.read_csv(\n",
    "    \"assets/station_info.csv\", encoding=\"CP949\", index_col=0\n",
    ")\n",
    "\n",
    "near_sub = pd.read_csv(\n",
    "    \"assets/near_sub_station.csv\", encoding=\"CP949\", index_col=0\n",
    ")"
   ]
  },
  {
   "cell_type": "code",
   "execution_count": 22,
   "metadata": {},
   "outputs": [],
   "source": [
    "idList=btstation['value'].tolist()"
   ]
  },
  {
   "cell_type": "code",
   "execution_count": 65,
   "metadata": {},
   "outputs": [],
   "source": [
    "# def findInteractionNum(id:int) :\n",
    "def stationInteraction(id:int) :\n",
    "    stationInteraction = seoul_bike[seoul_bike[\"st_id1\"] == id ].groupby(by='st_id2').size()\n",
    "\n",
    "    data = stationInteraction[stationInteraction>=50].sort_values(ascending=False)\n",
    "    result = pd.DataFrame(data).reset_index(drop=False)\n",
    "    result['st_id1']= id\n",
    "    result = result[['st_id1','st_id2',0]]\n",
    "    return result\n",
    "\n",
    "listDataFrame = list(map(stationInteraction,idList))"
   ]
  },
  {
   "cell_type": "code",
   "execution_count": 66,
   "metadata": {},
   "outputs": [],
   "source": [
    "Interactions = pd.concat(listDataFrame)\n",
    "counts = Interactions[0]"
   ]
  },
  {
   "cell_type": "code",
   "execution_count": 69,
   "metadata": {},
   "outputs": [
    {
     "data": {
      "text/plain": [
       "40.12864077669903"
      ]
     },
     "execution_count": 69,
     "metadata": {},
     "output_type": "execute_result"
    }
   ],
   "source": [
    "len(counts)/len(btstation)"
   ]
  },
  {
   "cell_type": "code",
   "execution_count": 68,
   "metadata": {},
   "outputs": [
    {
     "data": {
      "text/plain": [
       "<AxesSubplot:ylabel='Frequency'>"
      ]
     },
     "execution_count": 68,
     "metadata": {},
     "output_type": "execute_result"
    },
    {
     "data": {
      "image/png": "[encoded data removed]",
      "text/plain": [
       "<Figure size 432x288 with 1 Axes>"
      ]
     },
     "metadata": {
      "needs_background": "light"
     },
     "output_type": "display_data"
    }
   ],
   "source": [
    "counts[ counts > counts.quantile(q=0.99)].plot.hist(bins=30)\n",
    "# counts[ (counts > 100) & (counts < 2500)].plot.hist(bins=10)"
   ]
  },
  {
   "cell_type": "code",
   "execution_count": 6,
   "metadata": {},
   "outputs": [],
   "source": [
    "def findNearBus(id:int) ->pd.DataFrame :\n",
    "    #bikeStation\n",
    "    k = station[station.index == id]\n",
    "\n",
    "    #haversine 계산\n",
    "    tLong = k['longtitude'].values\n",
    "    tLat = k['latitude'].values\n",
    "    bLong=near_bus['longtitude']\n",
    "    bLat=near_bus['latitude']\n",
    "    dist = haversine_np(tLong,tLat,bLong,bLat)\n",
    "\n",
    "    #column에 포함\n",
    "    nearBusCopy = near_bus.copy()\n",
    "    nearBusCopy['dist'] = dist\n",
    "    busSort = nearBusCopy[dist <= 4000]\n",
    "\n",
    "    # 이용가능한 bus Df만들기\n",
    "    busNums = busSort['bus'].unique().tolist()\n",
    "    val = [busSort[busSort['bus']==busNum].sort_values(by='dist',ascending=True).iloc[0] for busNum in busNums]\n",
    "    busInfoNear4000 = pd.concat(val,axis=1).T.sort_values(by='dist',ascending=True)\n",
    "    return busInfoNear4000"
   ]
  },
  {
   "cell_type": "code",
   "execution_count": 7,
   "metadata": {},
   "outputs": [],
   "source": [
    "def findNearSub(id:int) -> pd.DataFrame :\n",
    "    k = station[station.index == id]\n",
    "    tLong = k['longtitude'].values\n",
    "    tLat = k['latitude'].values\n",
    "    bLong=sub_info['longtitude']\n",
    "    bLat=sub_info['latitude']\n",
    "    dist = haversine_np(tLong,tLat,bLong,bLat)\n",
    "\n",
    "    #column에 포함\n",
    "    subInfoCopy = sub_info.copy()\n",
    "    subInfoCopy['dist'] = dist\n",
    "    subSort = subInfoCopy[dist <= 4000]\n",
    "    subNames = subSort['sub_name'].unique().tolist()\n",
    "    val = [subSort[subSort['sub_name']==subName].sort_values(by='dist',ascending=True).iloc[0] for subName in subNames]\n",
    "    subInfoNear4000 = pd.concat(val,axis=1).T.sort_values(by='dist',ascending=True)\n",
    "    return subInfoNear4000\n"
   ]
  },
  {
   "cell_type": "code",
   "execution_count": 11,
   "metadata": {},
   "outputs": [],
   "source": [
    "def findNearBike(id:int,rawData:pd.DataFrame) -> pd.DataFrame :\n",
    "    rawData = raw_data(id)\n",
    "    k = station[station.index == id]\n",
    "    tLong = k['longtitude'].values\n",
    "    tLat = k['latitude'].values\n",
    "    bLong=station['longtitude']\n",
    "    bLat=station['latitude']\n",
    "    dist = haversine_np(tLong,tLat,bLong,bLat)\n",
    "\n",
    "    subInfoCopy = station.copy()\n",
    "    subInfoCopy['dist'] = dist\n",
    "    bikeSort = subInfoCopy[(dist <= 4000) & (dist >= 1000)]\n",
    "\n",
    "    top20 = rawData['st_id1'].value_counts()[:30].index.tolist()\n",
    "    bikeSort[bikeSort.index.isin(top20)]\n",
    "    return bikeSort\n",
    "\n"
   ]
  },
  {
   "cell_type": "code",
   "execution_count": 10,
   "metadata": {},
   "outputs": [
    {
     "data": {
      "text/html": [
       "<div>\n",
       "<style scoped>\n",
       "    .dataframe tbody tr th:only-of-type {\n",
       "        vertical-align: middle;\n",
       "    }\n",
       "\n",
       "    .dataframe tbody tr th {\n",
       "        vertical-align: top;\n",
       "    }\n",
       "\n",
       "    .dataframe thead th {\n",
       "        text-align: right;\n",
       "    }\n",
       "</style>\n",
       "<table border=\"1\" class=\"dataframe\">\n",
       "  <thead>\n",
       "    <tr style=\"text-align: right;\">\n",
       "      <th></th>\n",
       "      <th>st_name</th>\n",
       "      <th>district</th>\n",
       "      <th>latitude</th>\n",
       "      <th>longtitude</th>\n",
       "      <th>dist</th>\n",
       "    </tr>\n",
       "    <tr>\n",
       "      <th>st_id</th>\n",
       "      <th></th>\n",
       "      <th></th>\n",
       "      <th></th>\n",
       "      <th></th>\n",
       "      <th></th>\n",
       "    </tr>\n",
       "  </thead>\n",
       "  <tbody>\n",
       "    <tr>\n",
       "      <th>102</th>\n",
       "      <td>망원역 1번출구 앞</td>\n",
       "      <td>마포구</td>\n",
       "      <td>37.555649</td>\n",
       "      <td>126.910629</td>\n",
       "      <td>3397.983757</td>\n",
       "    </tr>\n",
       "    <tr>\n",
       "      <th>103</th>\n",
       "      <td>망원역 2번출구 앞</td>\n",
       "      <td>마포구</td>\n",
       "      <td>37.554951</td>\n",
       "      <td>126.910835</td>\n",
       "      <td>3378.049419</td>\n",
       "    </tr>\n",
       "    <tr>\n",
       "      <th>104</th>\n",
       "      <td>합정역 1번출구 앞</td>\n",
       "      <td>마포구</td>\n",
       "      <td>37.550629</td>\n",
       "      <td>126.914986</td>\n",
       "      <td>3536.028309</td>\n",
       "    </tr>\n",
       "    <tr>\n",
       "      <th>105</th>\n",
       "      <td>합정역 5번출구 앞</td>\n",
       "      <td>마포구</td>\n",
       "      <td>37.550007</td>\n",
       "      <td>126.914825</td>\n",
       "      <td>3502.438336</td>\n",
       "    </tr>\n",
       "    <tr>\n",
       "      <th>106</th>\n",
       "      <td>합정역 7번출구 앞</td>\n",
       "      <td>마포구</td>\n",
       "      <td>37.548645</td>\n",
       "      <td>126.912827</td>\n",
       "      <td>3292.355643</td>\n",
       "    </tr>\n",
       "    <tr>\n",
       "      <th>...</th>\n",
       "      <td>...</td>\n",
       "      <td>...</td>\n",
       "      <td>...</td>\n",
       "      <td>...</td>\n",
       "      <td>...</td>\n",
       "    </tr>\n",
       "    <tr>\n",
       "      <th>152</th>\n",
       "      <td>마포구민체육센터 앞</td>\n",
       "      <td>마포구</td>\n",
       "      <td>37.556610</td>\n",
       "      <td>126.898018</td>\n",
       "      <td>2547.442394</td>\n",
       "    </tr>\n",
       "    <tr>\n",
       "      <th>707</th>\n",
       "      <td>신정3동주민센터</td>\n",
       "      <td>양천구</td>\n",
       "      <td>37.515156</td>\n",
       "      <td>126.854897</td>\n",
       "      <td>3467.471130</td>\n",
       "    </tr>\n",
       "    <tr>\n",
       "      <th>3755</th>\n",
       "      <td>어위쉬예다인오피스텔</td>\n",
       "      <td>강서구</td>\n",
       "      <td>37.563011</td>\n",
       "      <td>126.851006</td>\n",
       "      <td>3319.848741</td>\n",
       "    </tr>\n",
       "    <tr>\n",
       "      <th>101</th>\n",
       "      <td>(구)합정동 주민센터</td>\n",
       "      <td>마포구</td>\n",
       "      <td>37.549561</td>\n",
       "      <td>126.905754</td>\n",
       "      <td>2727.311236</td>\n",
       "    </tr>\n",
       "    <tr>\n",
       "      <th>151</th>\n",
       "      <td>망원1동주민센터</td>\n",
       "      <td>마포구</td>\n",
       "      <td>37.555687</td>\n",
       "      <td>126.905548</td>\n",
       "      <td>3013.673071</td>\n",
       "    </tr>\n",
       "  </tbody>\n",
       "</table>\n",
       "<p>251 rows × 5 columns</p>\n",
       "</div>"
      ],
      "text/plain": [
       "           st_name district   latitude  longtitude         dist\n",
       "st_id                                                          \n",
       "102     망원역 1번출구 앞      마포구  37.555649  126.910629  3397.983757\n",
       "103     망원역 2번출구 앞      마포구  37.554951  126.910835  3378.049419\n",
       "104     합정역 1번출구 앞      마포구  37.550629  126.914986  3536.028309\n",
       "105     합정역 5번출구 앞      마포구  37.550007  126.914825  3502.438336\n",
       "106     합정역 7번출구 앞      마포구  37.548645  126.912827  3292.355643\n",
       "...            ...      ...        ...         ...          ...\n",
       "152     마포구민체육센터 앞      마포구  37.556610  126.898018  2547.442394\n",
       "707       신정3동주민센터      양천구  37.515156  126.854897  3467.471130\n",
       "3755    어위쉬예다인오피스텔      강서구  37.563011  126.851006  3319.848741\n",
       "101    (구)합정동 주민센터      마포구  37.549561  126.905754  2727.311236\n",
       "151       망원1동주민센터      마포구  37.555687  126.905548  3013.673071\n",
       "\n",
       "[251 rows x 5 columns]"
      ]
     },
     "execution_count": 10,
     "metadata": {},
     "output_type": "execute_result"
    }
   ],
   "source": [
    "findNearBike(754)"
   ]
  }
 ],
 "metadata": {
  "kernelspec": {
   "display_name": "Python 3.9.1 64-bit",
   "language": "python",
   "name": "python3"
  },
  "language_info": {
   "codemirror_mode": {
    "name": "ipython",
    "version": 3
   },
   "file_extension": ".py",
   "mimetype": "text/x-python",
   "name": "python",
   "nbconvert_exporter": "python",
   "pygments_lexer": "ipython3",
   "version": "3.9.1"
  },
  "orig_nbformat": 4,
  "vscode": {
   "interpreter": {
    "hash": "b2097164ba635ebffc0e3795dc845ae25b57eedf0c1eb5773ded6aee9fc1b279"
   }
  }
 },
 "nbformat": 4,
 "nbformat_minor": 2
}
