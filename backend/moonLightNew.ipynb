{
 "cells": [
  {
   "cell_type": "code",
   "execution_count": 2,
   "metadata": {},
   "outputs": [],
   "source": [
    "import pandas as pd\n",
    "import numpy as np"
   ]
  },
  {
   "cell_type": "code",
   "execution_count": 3,
   "metadata": {},
   "outputs": [],
   "source": [
    "def haversine_np(\n",
    "    lon1: float, lat1: float, lon2: float, lat2: float\n",
    ") -> np.array:\n",
    "    \"\"\"\n",
    "    Calculate the great circle distance between two points\n",
    "    on the earth (specified in decimal degrees)\n",
    "\n",
    "    All args must be of equal length.\n",
    "\n",
    "    \"\"\"\n",
    "    lon1, lat1, lon2, lat2 = map(np.radians, [lon1, lat1, lon2, lat2])\n",
    "\n",
    "    dlon = lon2 - lon1\n",
    "    dlat = lat2 - lat1\n",
    "\n",
    "    a = (\n",
    "        np.sin(dlat / 2.0) ** 2\n",
    "        + np.cos(lat1) * np.cos(lat2) * np.sin(dlon / 2.0) ** 2\n",
    "    )\n",
    "\n",
    "    c = 2 * np.arcsin(np.sqrt(a))\n",
    "    m = 6367 * c * 1000\n",
    "    return m"
   ]
  },
  {
   "cell_type": "code",
   "execution_count": 4,
   "metadata": {},
   "outputs": [],
   "source": [
    "def raw_data( val: int) -> pd.DataFrame:\n",
    "    quert_st_id1 = seoul_bike[seoul_bike[\"st_id1\"] == val]\n",
    "    quert_st_id2 = seoul_bike[seoul_bike[\"st_id2\"] == val]\n",
    "    filtered_data = pd.concat(\n",
    "        [quert_st_id1, quert_st_id2], axis=0\n",
    "    ).drop_duplicates()\n",
    "    filtered_data.drop(columns=\"index\", inplace=True)\n",
    "    bm = (filtered_data[\"st_id1\"] == val) & (filtered_data[\"st_id2\"] == val)\n",
    "    filtered_data = filtered_data[~bm]\n",
    "\n",
    "    # # 반납\n",
    "    # filtered_data_end = filtered_data[\n",
    "    #     (filtered_data[\"st_id2\"] == val) & (filtered_data[\"st_id1\"] != val)\n",
    "    # ]\n",
    "\n",
    "    return filtered_data"
   ]
  },
  {
   "cell_type": "code",
   "execution_count": 5,
   "metadata": {},
   "outputs": [],
   "source": [
    "station = pd.read_csv(\n",
    "    \"assets/seoul_bike_station_01_12.csv\", encoding=\"CP949\", index_col=0\n",
    ")\n",
    "\n",
    "near_bus = pd.read_csv(\n",
    "    \"assets/near_bus_500m.csv\", encoding=\"CP949\", index_col=0\n",
    ")\n",
    "\n",
    "seoul_bike = pd.read_parquet(\"/Users/yangwoolee/git_repo/seoulBikeProject/parquet/220607_bike_record.parquet.gzip\")\n",
    "\n",
    "sub_info = pd.read_csv(\n",
    "    \"assets/sub_and_bike_info.csv\", encoding=\"CP949\", index_col=0\n",
    ")\n",
    "\n",
    "search_info = pd.read_csv(\n",
    "    \"assets/search_info.csv\", encoding=\"CP949\", index_col=0\n",
    ")\n",
    "btstation = pd.read_csv(\n",
    "    \"assets/btbtstation_info.csv\", encoding=\"CP949\", index_col=0\n",
    ")\n",
    "\n",
    "near_sub = pd.read_csv(\n",
    "    \"assets/near_sub_station.csv\", encoding=\"CP949\", index_col=0\n",
    ")"
   ]
  },
  {
   "cell_type": "markdown",
   "metadata": {},
   "source": [
    "### 전체 상호작용 중 대여기록이 50건 이상인 상호작용은 얼마나 될까?"
   ]
  },
  {
   "cell_type": "code",
   "execution_count": 6,
   "metadata": {},
   "outputs": [],
   "source": [
    "# def findInteractionNum(id:int) :\n",
    "def stationInteraction(id:int) :\n",
    "    stationInteraction = seoul_bike[seoul_bike[\"st_id1\"] == id ].groupby(by='st_id2').size()\n",
    "\n",
    "    data = stationInteraction[stationInteraction>=50].sort_values(ascending=False)\n",
    "    result = pd.DataFrame(data).reset_index(drop=False)\n",
    "    result['st_id1']= id\n",
    "    result = result[['st_id1','st_id2',0]]\n",
    "    return result\n",
    "\n",
    "## 전체 대여소간 대여상호작용을 리스트로 그림 \n",
    "listDataFrame = list(map(stationInteraction,station.index))"
   ]
  },
  {
   "cell_type": "code",
   "execution_count": 10,
   "metadata": {},
   "outputs": [],
   "source": [
    "Interactions = pd.concat(listDataFrame)\n",
    "counts = Interactions[0]"
   ]
  },
  {
   "cell_type": "code",
   "execution_count": 11,
   "metadata": {},
   "outputs": [
    {
     "data": {
      "text/plain": [
       "37.68958966565349"
      ]
     },
     "execution_count": 11,
     "metadata": {},
     "output_type": "execute_result"
    }
   ],
   "source": [
    "len(counts)/len(station)"
   ]
  },
  {
   "cell_type": "code",
   "execution_count": 21,
   "metadata": {},
   "outputs": [
    {
     "data": {
      "text/html": [
       "<div>\n",
       "<style scoped>\n",
       "    .dataframe tbody tr th:only-of-type {\n",
       "        vertical-align: middle;\n",
       "    }\n",
       "\n",
       "    .dataframe tbody tr th {\n",
       "        vertical-align: top;\n",
       "    }\n",
       "\n",
       "    .dataframe thead th {\n",
       "        text-align: right;\n",
       "    }\n",
       "</style>\n",
       "<table border=\"1\" class=\"dataframe\">\n",
       "  <thead>\n",
       "    <tr style=\"text-align: right;\">\n",
       "      <th></th>\n",
       "      <th>st_id1</th>\n",
       "      <th>st_id2</th>\n",
       "      <th>0</th>\n",
       "    </tr>\n",
       "  </thead>\n",
       "  <tbody>\n",
       "    <tr>\n",
       "      <th>0</th>\n",
       "      <td>102</td>\n",
       "      <td>102</td>\n",
       "      <td>3100</td>\n",
       "    </tr>\n",
       "    <tr>\n",
       "      <th>1</th>\n",
       "      <td>102</td>\n",
       "      <td>107</td>\n",
       "      <td>1990</td>\n",
       "    </tr>\n",
       "    <tr>\n",
       "      <th>2</th>\n",
       "      <td>102</td>\n",
       "      <td>152</td>\n",
       "      <td>1925</td>\n",
       "    </tr>\n",
       "    <tr>\n",
       "      <th>3</th>\n",
       "      <td>102</td>\n",
       "      <td>184</td>\n",
       "      <td>1596</td>\n",
       "    </tr>\n",
       "    <tr>\n",
       "      <th>4</th>\n",
       "      <td>102</td>\n",
       "      <td>154</td>\n",
       "      <td>1127</td>\n",
       "    </tr>\n",
       "    <tr>\n",
       "      <th>...</th>\n",
       "      <td>...</td>\n",
       "      <td>...</td>\n",
       "      <td>...</td>\n",
       "    </tr>\n",
       "    <tr>\n",
       "      <th>1</th>\n",
       "      <td>2714</td>\n",
       "      <td>1152</td>\n",
       "      <td>83</td>\n",
       "    </tr>\n",
       "    <tr>\n",
       "      <th>2</th>\n",
       "      <td>2714</td>\n",
       "      <td>2715</td>\n",
       "      <td>81</td>\n",
       "    </tr>\n",
       "    <tr>\n",
       "      <th>3</th>\n",
       "      <td>2714</td>\n",
       "      <td>1153</td>\n",
       "      <td>76</td>\n",
       "    </tr>\n",
       "    <tr>\n",
       "      <th>4</th>\n",
       "      <td>2714</td>\n",
       "      <td>2701</td>\n",
       "      <td>69</td>\n",
       "    </tr>\n",
       "    <tr>\n",
       "      <th>5</th>\n",
       "      <td>2714</td>\n",
       "      <td>2717</td>\n",
       "      <td>68</td>\n",
       "    </tr>\n",
       "  </tbody>\n",
       "</table>\n",
       "<p>99199 rows × 3 columns</p>\n",
       "</div>"
      ],
      "text/plain": [
       "    st_id1  st_id2     0\n",
       "0      102     102  3100\n",
       "1      102     107  1990\n",
       "2      102     152  1925\n",
       "3      102     184  1596\n",
       "4      102     154  1127\n",
       "..     ...     ...   ...\n",
       "1     2714    1152    83\n",
       "2     2714    2715    81\n",
       "3     2714    1153    76\n",
       "4     2714    2701    69\n",
       "5     2714    2717    68\n",
       "\n",
       "[99199 rows x 3 columns]"
      ]
     },
     "execution_count": 21,
     "metadata": {},
     "output_type": "execute_result"
    }
   ],
   "source": [
    "Interactions"
   ]
  },
  {
   "cell_type": "code",
   "execution_count": 18,
   "metadata": {},
   "outputs": [
    {
     "data": {
      "text/plain": [
       "<AxesSubplot:ylabel='Frequency'>"
      ]
     },
     "execution_count": 18,
     "metadata": {},
     "output_type": "execute_result"
    },
    {
     "data": {
      "image/png": "[encoded data removed]",
      "text/plain": [
       "<Figure size 432x288 with 1 Axes>"
      ]
     },
     "metadata": {
      "needs_background": "light"
     },
     "output_type": "display_data"
    }
   ],
   "source": [
    "# counts[ counts > counts.quantile(q=0.90)].plot.hist(bins=30)\n",
    "# counts[ (counts > 100) & (counts < 2500)].plot.hist(bins=10)\n",
    "counts[counts < 200].plot.hist(bins=10)"
   ]
  },
  {
   "cell_type": "markdown",
   "metadata": {},
   "source": [
    "### 끝"
   ]
  },
  {
   "cell_type": "code",
   "execution_count": 6,
   "metadata": {},
   "outputs": [],
   "source": [
    "def findNearBus(id:int) ->pd.DataFrame :\n",
    "    #bikeStation\n",
    "    k = station[station.index == id]\n",
    "\n",
    "    #haversine 계산\n",
    "    tLong = k['longtitude'].values\n",
    "    tLat = k['latitude'].values\n",
    "    bLong=near_bus['longtitude']\n",
    "    bLat=near_bus['latitude']\n",
    "    dist = haversine_np(tLong,tLat,bLong,bLat)\n",
    "\n",
    "    #column에 포함\n",
    "    nearBusCopy = near_bus.copy()\n",
    "    nearBusCopy['dist'] = dist\n",
    "    busSort = nearBusCopy[dist <= 4000]\n",
    "\n",
    "    # 이용가능한 bus Df만들기\n",
    "    busNums = busSort['bus'].unique().tolist()\n",
    "    val = [busSort[busSort['bus']==busNum].sort_values(by='dist',ascending=True).iloc[0] for busNum in busNums]\n",
    "    busInfoNear4000 = pd.concat(val,axis=1).T.sort_values(by='dist',ascending=True)\n",
    "    return busInfoNear4000"
   ]
  },
  {
   "cell_type": "code",
   "execution_count": 7,
   "metadata": {},
   "outputs": [],
   "source": [
    "def findNearSub(id:int) -> pd.DataFrame :\n",
    "    k = station[station.index == id]\n",
    "    tLong = k['longtitude'].values\n",
    "    tLat = k['latitude'].values\n",
    "    bLong=sub_info['longtitude']\n",
    "    bLat=sub_info['latitude']\n",
    "    dist = haversine_np(tLong,tLat,bLong,bLat)\n",
    "\n",
    "    #column에 포함\n",
    "    subInfoCopy = sub_info.copy()\n",
    "    subInfoCopy['dist'] = dist\n",
    "    subSort = subInfoCopy[dist <= 4000]\n",
    "    subNames = subSort['sub_name'].unique().tolist()\n",
    "    val = [subSort[subSort['sub_name']==subName].sort_values(by='dist',ascending=True).iloc[0] for subName in subNames]\n",
    "    subInfoNear4000 = pd.concat(val,axis=1).T.sort_values(by='dist',ascending=True)\n",
    "    return subInfoNear4000\n"
   ]
  },
  {
   "cell_type": "code",
   "execution_count": 19,
   "metadata": {},
   "outputs": [],
   "source": [
    "def findNearBike(id:int,rawData:pd.DataFrame) -> pd.DataFrame :\n",
    "    k = station[station.index == id]\n",
    "    tLong = k['longtitude'].values\n",
    "    tLat = k['latitude'].values\n",
    "    bLong=station['longtitude']\n",
    "    bLat=station['latitude']\n",
    "    dist = haversine_np(tLong,tLat,bLong,bLat)\n",
    "\n",
    "    subInfoCopy = station.copy()\n",
    "    subInfoCopy['dist'] = dist\n",
    "    bikeSort = subInfoCopy[(dist <= 4000) & (dist >= 1000)]\n",
    "\n",
    "    top20 = rawData['st_id1'].value_counts()[:30].index.tolist()\n",
    "    bikeSort = bikeSort[bikeSort.index.isin(top20)].reset_index()\n",
    "    return bikeSort\n",
    "\n"
   ]
  },
  {
   "cell_type": "code",
   "execution_count": 28,
   "metadata": {},
   "outputs": [],
   "source": [
    "id = 754\n",
    "val = raw_data(id)\n",
    "bike = findNearBike(id, val)\n",
    "bus = findNearBus(id)\n",
    "sub = findNearSub(id)"
   ]
  }
 ],
 "metadata": {
  "kernelspec": {
   "display_name": "Python 3.9.1 64-bit",
   "language": "python",
   "name": "python3"
  },
  "language_info": {
   "codemirror_mode": {
    "name": "ipython",
    "version": 3
   },
   "file_extension": ".py",
   "mimetype": "text/x-python",
   "name": "python",
   "nbconvert_exporter": "python",
   "pygments_lexer": "ipython3",
   "version": "3.9.1"
  },
  "orig_nbformat": 4,
  "vscode": {
   "interpreter": {
    "hash": "b2097164ba635ebffc0e3795dc845ae25b57eedf0c1eb5773ded6aee9fc1b279"
   }
  }
 },
 "nbformat": 4,
 "nbformat_minor": 2
}
