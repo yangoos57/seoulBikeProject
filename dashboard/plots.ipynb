{
 "cells": [
  {
   "cell_type": "code",
   "execution_count": 1,
   "metadata": {},
   "outputs": [],
   "source": [
    "from io import BytesIO\n",
    "import plotly.express as px\n",
    "import plotly.graph_objects as go\n",
    "import ast\n",
    "import pandas as pd\n",
    "import numpy as np\n",
    "import matplotlib.pyplot as plt\n",
    "import matplotlib.patches as patches\n",
    "import matplotlib\n",
    "import base64\n",
    "import time\n",
    "import seaborn as sns\n",
    "plt.rc('font', family='Malgun Gothic') # For Windows"
   ]
  },
  {
   "cell_type": "code",
   "execution_count": 2,
   "metadata": {},
   "outputs": [],
   "source": [
    "filtered_data = pd.read_parquet('D:\\git_local_repository\\data_for_project\\seoul_bike/220607_bike_record.parquet.gzip')"
   ]
  },
  {
   "cell_type": "markdown",
   "metadata": {},
   "source": [
    "> ### 기본 함수와 변수들"
   ]
  },
  {
   "cell_type": "code",
   "execution_count": 4,
   "metadata": {},
   "outputs": [],
   "source": [
    "def raw_data(query_data,val) : \n",
    "        quert_st_id1 = query_data[query_data['st_id1']==val]\n",
    "        quert_st_id2 = query_data[query_data['st_id2']==val]\n",
    "        filtered_data = pd.concat([quert_st_id1,quert_st_id2],axis=0).drop_duplicates()\n",
    "        filtered_data.drop(columns='index',inplace=True)\n",
    "        # filtered_data.reset_index(drop=True, inplace=True)\n",
    "\n",
    "        # 대여\n",
    "        filtered_data_start = filtered_data[(filtered_data['st_id1'] ==val) & (filtered_data['st_id2'] !=val)]\n",
    "\n",
    "        # 반납\n",
    "        filtered_data_end = filtered_data[(filtered_data['st_id2'] ==val) & (filtered_data['st_id1'] !=val)]\n",
    "        \n",
    "        return [filtered_data,filtered_data_end,filtered_data_start]\n",
    "\n",
    "test_data = raw_data(filtered_data, 754)\n",
    "\n",
    "bike_info = pd.read_csv('D:\\git_local_repository\\django_data_visualization\\dashBoard\\static\\options.csv', encoding='CP949')\n",
    "\n",
    "def haversine_np(lon1, lat1, lon2, lat2):\n",
    "    \"\"\"\n",
    "    Calculate the great circle distance between two points\n",
    "    on the earth (specified in decimal degrees)\n",
    "\n",
    "    All args must be of equal length.    \n",
    "\n",
    "    \"\"\"\n",
    "    lon1, lat1, lon2, lat2 = map(np.radians, [lon1, lat1, lon2, lat2])\n",
    "\n",
    "    dlon = lon2 - lon1\n",
    "    dlat = lat2 - lat1\n",
    "\n",
    "    a = np.sin(dlat / 2.0) ** 2 + np.cos(lat1) * np.cos(lat2) * np.sin(dlon / 2.0) ** 2\n",
    "\n",
    "    c = 2 * np.arcsin(np.sqrt(a))\n",
    "    m = 6367 * c * 1000\n",
    "    return m"
   ]
  },
  {
   "cell_type": "code",
   "execution_count": 75,
   "metadata": {},
   "outputs": [
    {
     "ename": "NameError",
     "evalue": "name 'get_graph' is not defined",
     "output_type": "error",
     "traceback": [
      "\u001b[1;31m---------------------------------------------------------------------------\u001b[0m",
      "\u001b[1;31mNameError\u001b[0m                                 Traceback (most recent call last)",
      "\u001b[1;32m~\\AppData\\Local\\Temp/ipykernel_16000/1324788865.py\u001b[0m in \u001b[0;36m<module>\u001b[1;34m\u001b[0m\n\u001b[0;32m     63\u001b[0m     \u001b[1;32mreturn\u001b[0m \u001b[0mgraph\u001b[0m\u001b[1;33m\u001b[0m\u001b[1;33m\u001b[0m\u001b[0m\n\u001b[0;32m     64\u001b[0m \u001b[1;33m\u001b[0m\u001b[0m\n\u001b[1;32m---> 65\u001b[1;33m \u001b[0mday_rent\u001b[0m\u001b[1;33m(\u001b[0m\u001b[0mtest_data\u001b[0m\u001b[1;33m)\u001b[0m\u001b[1;33m\u001b[0m\u001b[1;33m\u001b[0m\u001b[0m\n\u001b[0m",
      "\u001b[1;32m~\\AppData\\Local\\Temp/ipykernel_16000/1324788865.py\u001b[0m in \u001b[0;36mday_rent\u001b[1;34m(filtered_data)\u001b[0m\n\u001b[0;32m     60\u001b[0m     \u001b[0mplt\u001b[0m\u001b[1;33m.\u001b[0m\u001b[0mylim\u001b[0m\u001b[1;33m(\u001b[0m\u001b[1;36m0\u001b[0m\u001b[1;33m,\u001b[0m\u001b[1;36m1.5\u001b[0m\u001b[1;33m)\u001b[0m\u001b[1;33m\u001b[0m\u001b[1;33m\u001b[0m\u001b[0m\n\u001b[0;32m     61\u001b[0m     \u001b[0mplt\u001b[0m\u001b[1;33m.\u001b[0m\u001b[0maxis\u001b[0m\u001b[1;33m(\u001b[0m\u001b[1;34m'off'\u001b[0m\u001b[1;33m)\u001b[0m\u001b[1;33m\u001b[0m\u001b[1;33m\u001b[0m\u001b[0m\n\u001b[1;32m---> 62\u001b[1;33m     \u001b[0mgraph\u001b[0m \u001b[1;33m=\u001b[0m \u001b[0mget_graph\u001b[0m\u001b[1;33m(\u001b[0m\u001b[1;33m)\u001b[0m\u001b[1;33m\u001b[0m\u001b[1;33m\u001b[0m\u001b[0m\n\u001b[0m\u001b[0;32m     63\u001b[0m     \u001b[1;32mreturn\u001b[0m \u001b[0mgraph\u001b[0m\u001b[1;33m\u001b[0m\u001b[1;33m\u001b[0m\u001b[0m\n\u001b[0;32m     64\u001b[0m \u001b[1;33m\u001b[0m\u001b[0m\n",
      "\u001b[1;31mNameError\u001b[0m: name 'get_graph' is not defined"
     ]
    },
    {
     "data": {
      "image/png": "[encoded data removed]",
      "text/plain": [
       "<Figure size 576x576 with 1 Axes>"
      ]
     },
     "metadata": {
      "needs_background": "light"
     },
     "output_type": "display_data"
    }
   ],
   "source": [
    "def day_rent(filtered_data) :\n",
    "    # 일별 자전거 대여\n",
    "    filtered_data = filtered_data[0]\n",
    "    filtered_data['weekday'] = filtered_data['date'].dt.weekday\n",
    "    data = filtered_data.groupby('weekday').size()\n",
    "    data_numpy = data.to_numpy()\n",
    "\n",
    "    # max 요일\n",
    "    max_value= np.where(data_numpy == data_numpy.max())[0][0]\n",
    "    max_value\n",
    "\n",
    "    # min 요일\n",
    "    min_value= np.where(data_numpy == data_numpy.min())[0][0]\n",
    "    min_value\n",
    "\n",
    "    # 높이 normalize 후 0.5 더함( 0.5는 막대 길이를 의미함)\n",
    "    height = list(map(lambda x : round(((x-data_numpy.min())/(data_numpy.max()-data_numpy.min()))+0.5,2), data_numpy ))\n",
    "\n",
    "    # 사각형 정보\n",
    "    bars = []\n",
    "    for num, h in enumerate(height) :\n",
    "        ist = [num,0,h,0.8] # x,y,h,w\n",
    "        bars.append(ist)\n",
    "    #날짜\n",
    "    days = [\"월\",\"화\",\"수\",\"목\",\"금\",\"토\",\"일\"]\n",
    "\n",
    "    # plot\n",
    "    fig, ax = plt.subplots(figsize=(8,8))\n",
    "\n",
    "    # bar = rect\n",
    "    for num,(bar, days) in enumerate(zip(bars, days)) :\n",
    "        x = bar[0]; y = bar[1]; h = bar[2];  w = bar[3]\n",
    "        #max\n",
    "        if num == max_value :\n",
    "            color = ['blue','white'] # full color, font-color\n",
    "        #min\n",
    "        elif num == min_value : \n",
    "            color = ['green','black'] # full color, font-color\n",
    "        # 나머지\n",
    "        else : \n",
    "            color = ['gray','black'] # full color, font-color\n",
    "        \n",
    "        bbox = patches.FancyBboxPatch(\n",
    "            (x,y),w,h,\n",
    "            boxstyle=\"round,pad=-0.01,rounding_size=0.2\",\n",
    "            ec=\"none\", fc=color[0],\n",
    "            mutation_aspect= 0.5,\n",
    "            alpha=0.5\n",
    "        )\n",
    "        ax.add_patch(bbox)\n",
    "\n",
    "        # 요일 넣기(padding고려해서 num으로 조정)\n",
    "        plt.text(x+0.3,y+0.05, days, fontdict={'fontsize' : 14, 'color' : color[1]})\n",
    "\n",
    "        # 개수 넣기\n",
    "        plt.text(x+0.3,h-0.2, data[num],rotation=90, fontdict={'fontsize' : 14, 'color' : color[1]})\n",
    "\n",
    "\n",
    "    plt.xlim(0,6.8) # 넓이가 0.8이라서 그럼\n",
    "    plt.ylim(0,1.5)\n",
    "    plt.axis('off')\n",
    "    graph = get_graph()\n",
    "    return graph\n",
    "\n",
    "day_rent(test_data)"
   ]
  },
  {
   "cell_type": "code",
   "execution_count": 6,
   "metadata": {},
   "outputs": [],
   "source": []
  },
  {
   "cell_type": "markdown",
   "metadata": {},
   "source": [
    "> ### Class Test 중"
   ]
  },
  {
   "cell_type": "code",
   "execution_count": 126,
   "metadata": {},
   "outputs": [],
   "source": [
    "val = 754\n",
    "BM = (df['st_id1'] == val) | (df['st_id2'] == val )\n",
    "filtered_data = df[BM]"
   ]
  },
  {
   "cell_type": "code",
   "execution_count": 151,
   "metadata": {},
   "outputs": [],
   "source": [
    "# 변수 보기\n",
    "# class stationInformation(models.Model) : \n",
    "#     st_id = models.IntegerField(db_index=True)\n",
    "#     st_name = models.CharField(max_length=40)\n",
    "#     district = models.CharField(max_length=10)\n",
    "#     latitude  = models.FloatField()\n",
    "#     longtitude  = models.FloatField()\n",
    "\n",
    "# class station_near_subway(models.Model) : \n",
    "#     bi_st_id = models.IntegerField()\n",
    "#     sub_st_id = models.IntegerField(null=True)\n",
    "#     sub_name = models.CharField(max_length=20,null=True) \n",
    "#     sub_line = models.CharField(max_length=10,null=True) \n",
    "#     sub_long = models.FloatField(null=True)         \n",
    "#     sub_lat = models.FloatField(null=True)      \n",
    "# \n",
    "# \n",
    "# class seoul_bike_2021(models.Model) :\n",
    "#     date = models.DateField()         \n",
    "#     weekday = models.IntegerField()      \n",
    "#     by_id = models.IntegerField()        \n",
    "#     st_id1 = models.IntegerField(db_index=True)       \n",
    "#     st_id2 = models.IntegerField(db_index=True)       \n",
    "#     riding_time = models.IntegerField()  \n",
    "#     dist = models.FloatField()         \n",
    "#     m_pm = models.FloatField()    \n",
    "\n",
    "stat_id = 754\n",
    "include_st=300\n",
    "filter_start = \"대여소\"\n",
    "\"\"\"\n",
    "목적 : 해당 대여소 + 주변 300m 대여소를 찾고 관련 기록을 모은다.\n",
    "\n",
    "stat_id : 기준 대여소\n",
    "rank_substation : 보여줄 지하철역 개수\n",
    "incldue_st : 기준 대여소 600미터 내 대여소 검색\n",
    "\n",
    "return : 1 to 2 이동 정보, 2 to 1 이동 정보, 시간정보\n",
    "\"\"\"\n",
    "# 따릉이 대여소 정보\n",
    "station = pd.read_csv(\n",
    "    \"static/seoul_bike_station_01_12.csv\", encoding=\"CP949\")  \n",
    "# 지하철역 인근 따릉이 대여소 정보\n",
    "near_sub = pd.read_csv(\n",
    "    \"static/near_sub_station.csv\", encoding=\"CP949\")\n",
    "\n",
    "\n",
    "### 주변지역 포함하는 매소드.. query 시간이 단축되지 않는 이상은 쓰기 어려울듯..\n",
    "\n",
    "# # stat_id 기준으로 반경 600m 내 대여소 찾기\n",
    "# distance = haversine_np(\n",
    "#     station.loc[station[\"st_id\"] == stat_id, \"longtitude\"].values, # id\n",
    "#     station.loc[station[\"st_id\"] == stat_id, \"latitude\"].values,\n",
    "#     station[\"longtitude\"].values, # 경도\n",
    "#     station[\"latitude\"].values,\n",
    "# )\n",
    "# a = station.copy()\n",
    "# a[\"distance\"] = distance\n",
    "# a.dropna(inplace=True)\n",
    "\n",
    "# # 대여소 검색 결과\n",
    "# ids = (\n",
    "#     a.query(\"distance < @include_st\").sort_values(by=\"distance\")[\"st_id\"].tolist()\n",
    "# )  \n",
    "\n",
    "# # 검색된 대여소 id 출력\n",
    "# print(f\"{stat_id} 대여소 기준 {include_st}m 반경 내 대여소 : {ids}\")\n",
    "\n",
    "# # seoul_bike에서 해당 대여소 자료만 추출(자료 검색을 빠르게 하기 위함!)\n",
    "# reduce_case = []\n",
    "# for st_id in ids:\n",
    "#     BM = (filtered_data[\"st_id1\"] == st_id) | (filtered_data[\"st_id2\"] == st_id)\n",
    "#     sort_754 = filtered_data[BM]\n",
    "\n",
    "#     # 대여소 이동이 없는 경우 제거 ex) 754 => 754\n",
    "#     minus = sort_754.query(\"st_id1 == @st_id & st_id2 == @st_id\").index\n",
    "#     sorting = sort_754[~sort_754.index.isin(minus)]\n",
    "#     reduce_case.append(sorting)\n",
    "\n",
    "# # 이제는 원본 자료가 아닌 sorted_station을 가지고 이동량 계산\n",
    "# sorted_station = pd.concat(reduce_case, axis=0)\n",
    "\n"
   ]
  },
  {
   "cell_type": "markdown",
   "metadata": {},
   "source": [
    "> ### plotly 가지고오기"
   ]
  },
  {
   "cell_type": "code",
   "execution_count": 9,
   "metadata": {},
   "outputs": [
    {
     "data": {
      "application/vnd.plotly.v1+json": {
       "config": {
        "plotlyServerURL": "https://plot.ly"
       },
       "data": [
        {
         "customdata": [
          [
           3385,
           2681,
           744,
           4
          ],
          [
           440,
           719,
           766,
           8
          ]
         ],
         "hovertemplate": "<b>%{hovertext}</b><br><br>sub_name=신목동<br>latitude=%{lat}<br>longtitude=%{lon}<br>1to2=%{customdata[0]}<br>2to1=%{customdata[1]}<br>bi_st_id=%{customdata[2]}<br>대여소=%{customdata[3]}<extra></extra>",
         "hovertext": [
          "신목동",
          "신목동"
         ],
         "lat": [
          37.543842,
          37.54426
         ],
         "legendgroup": "신목동",
         "lon": [
          126.882545,
          126.88325
         ],
         "marker": {
          "color": "rgb(76,114,176)",
          "opacity": 0.5,
          "size": 15
         },
         "mode": "markers",
         "name": "<b>신목동</b>",
         "showlegend": true,
         "subplot": "mapbox",
         "type": "scattermapbox"
        },
        {
         "customdata": [
          [
           214,
           509,
           773,
           7.7
          ],
          [
           90,
           141,
           1169,
           3
          ]
         ],
         "hovertemplate": "<b>%{hovertext}</b><br><br>sub_name=염창<br>latitude=%{lat}<br>longtitude=%{lon}<br>1to2=%{customdata[0]}<br>2to1=%{customdata[1]}<br>bi_st_id=%{customdata[2]}<br>대여소=%{customdata[3]}<extra></extra>",
         "hovertext": [
          "염창",
          "염창"
         ],
         "lat": [
          37.546707,
          37.547199
         ],
         "legendgroup": "염창",
         "lon": [
          126.874573,
          126.874489
         ],
         "marker": {
          "color": "rgb(221,132,82)",
          "opacity": 0.5,
          "size": 15
         },
         "mode": "markers",
         "name": "<b>염창</b>",
         "showlegend": true,
         "subplot": "mapbox",
         "type": "scattermapbox"
        },
        {
         "customdata": [
          [
           234,
           332,
           765,
           6.3
          ],
          [
           47,
           139,
           703,
           6
          ]
         ],
         "hovertemplate": "<b>%{hovertext}</b><br><br>sub_name=오목교<br>latitude=%{lat}<br>longtitude=%{lon}<br>1to2=%{customdata[0]}<br>2to1=%{customdata[1]}<br>bi_st_id=%{customdata[2]}<br>대여소=%{customdata[3]}<extra></extra>",
         "hovertext": [
          "오목교",
          "오목교"
         ],
         "lat": [
          37.524776,
          37.524063
         ],
         "legendgroup": "오목교",
         "lon": [
          126.875481,
          126.87558
         ],
         "marker": {
          "color": "rgb(85,168,104)",
          "opacity": 0.5,
          "size": 15
         },
         "mode": "markers",
         "name": "<b>오목교</b>",
         "showlegend": true,
         "subplot": "mapbox",
         "type": "scattermapbox"
        },
        {
         "customdata": [
          [
           149,
           124,
           770,
           7
          ]
         ],
         "hovertemplate": "<b>%{hovertext}</b><br><br>sub_name=목동<br>latitude=%{lat}<br>longtitude=%{lon}<br>1to2=%{customdata[0]}<br>2to1=%{customdata[1]}<br>bi_st_id=%{customdata[2]}<br>대여소=%{customdata[3]}<extra></extra>",
         "hovertext": [
          "목동"
         ],
         "lat": [
          37.525715
         ],
         "legendgroup": "목동",
         "lon": [
          126.864868
         ],
         "marker": {
          "color": "rgb(196,78,82)",
          "opacity": 0.5,
          "size": 15
         },
         "mode": "markers",
         "name": "<b>목동</b>",
         "showlegend": true,
         "subplot": "mapbox",
         "type": "scattermapbox"
        },
        {
         "customdata": [
          [
           49,
           60,
           272,
           36.3
          ]
         ],
         "hovertemplate": "<b>%{hovertext}</b><br><br>sub_name=당산<br>latitude=%{lat}<br>longtitude=%{lon}<br>1to2=%{customdata[0]}<br>2to1=%{customdata[1]}<br>bi_st_id=%{customdata[2]}<br>대여소=%{customdata[3]}<extra></extra>",
         "hovertext": [
          "당산"
         ],
         "lat": [
          37.535339
         ],
         "legendgroup": "당산",
         "lon": [
          126.903679
         ],
         "marker": {
          "color": "rgb(129,114,179)",
          "opacity": 0.5,
          "size": 15
         },
         "mode": "markers",
         "name": "<b>당산</b>",
         "showlegend": true,
         "subplot": "mapbox",
         "type": "scattermapbox"
        },
        {
         "customdata": [
          [
           76,
           13,
           1961,
           5
          ]
         ],
         "hovertemplate": "<b>%{hovertext}</b><br><br>sub_name=신도림<br>latitude=%{lat}<br>longtitude=%{lon}<br>1to2=%{customdata[0]}<br>2to1=%{customdata[1]}<br>bi_st_id=%{customdata[2]}<br>대여소=%{customdata[3]}<extra></extra>",
         "hovertext": [
          "신도림"
         ],
         "lat": [
          37.508194
         ],
         "legendgroup": "신도림",
         "lon": [
          126.891304
         ],
         "marker": {
          "color": "rgb(147,120,96)",
          "opacity": 0.5,
          "size": 15
         },
         "mode": "markers",
         "name": "<b>신도림</b>",
         "showlegend": true,
         "subplot": "mapbox",
         "type": "scattermapbox"
        },
        {
         "lat": [
          37.541142
         ],
         "lon": [
          126.876678
         ],
         "marker": {
          "color": "cyan",
          "opacity": 0.4,
          "size": 10
         },
         "mode": "markers+text",
         "name": "대여소",
         "text": [
          "목동1단지아파트 118동 앞 (월촌초등학교 정류소 옆"
         ],
         "type": "scattermapbox"
        }
       ],
       "layout": {
        "height": 500,
        "legend": {
         "bgcolor": "rgba(223, 235, 223, 0.3)",
         "title": {
          "text": "sub_name"
         },
         "tracegroupgap": 0,
         "x": 0.99,
         "xanchor": "right",
         "y": 0.99,
         "yanchor": "top"
        },
        "mapbox": {
         "accesstoken": "pk.eyJ1IjoieWFuZ29vcyIsImEiOiJjbDNqd2tkN2IwbGdmM2pvNzF0c2M4NnZkIn0.J3IjPYg3w28cGiWkUD7bnA",
         "center": {
          "lat": 37.533343888888886,
          "lon": 126.88064100000003
         },
         "domain": {
          "x": [
           0,
           1
          ],
          "y": [
           0,
           1
          ]
         },
         "style": "carto-positron",
         "zoom": 12
        },
        "margin": {
         "b": 0,
         "l": 0,
         "r": 0,
         "t": 0
        },
        "template": {
         "data": {
          "bar": [
           {
            "error_x": {
             "color": "rgb(36,36,36)"
            },
            "error_y": {
             "color": "rgb(36,36,36)"
            },
            "marker": {
             "line": {
              "color": "rgb(234,234,242)",
              "width": 0.5
             },
             "pattern": {
              "fillmode": "overlay",
              "size": 10,
              "solidity": 0.2
             }
            },
            "type": "bar"
           }
          ],
          "barpolar": [
           {
            "marker": {
             "line": {
              "color": "rgb(234,234,242)",
              "width": 0.5
             },
             "pattern": {
              "fillmode": "overlay",
              "size": 10,
              "solidity": 0.2
             }
            },
            "type": "barpolar"
           }
          ],
          "carpet": [
           {
            "aaxis": {
             "endlinecolor": "rgb(36,36,36)",
             "gridcolor": "white",
             "linecolor": "white",
             "minorgridcolor": "white",
             "startlinecolor": "rgb(36,36,36)"
            },
            "baxis": {
             "endlinecolor": "rgb(36,36,36)",
             "gridcolor": "white",
             "linecolor": "white",
             "minorgridcolor": "white",
             "startlinecolor": "rgb(36,36,36)"
            },
            "type": "carpet"
           }
          ],
          "choropleth": [
           {
            "colorbar": {
             "outlinewidth": 0,
             "tickcolor": "rgb(36,36,36)",
             "ticklen": 8,
             "ticks": "outside",
             "tickwidth": 2
            },
            "type": "choropleth"
           }
          ],
          "contour": [
           {
            "colorbar": {
             "outlinewidth": 0,
             "tickcolor": "rgb(36,36,36)",
             "ticklen": 8,
             "ticks": "outside",
             "tickwidth": 2
            },
            "colorscale": [
             [
              0,
              "rgb(2,4,25)"
             ],
             [
              0.06274509803921569,
              "rgb(24,15,41)"
             ],
             [
              0.12549019607843137,
              "rgb(47,23,57)"
             ],
             [
              0.18823529411764706,
              "rgb(71,28,72)"
             ],
             [
              0.25098039215686274,
              "rgb(97,30,82)"
             ],
             [
              0.3137254901960784,
              "rgb(123,30,89)"
             ],
             [
              0.3764705882352941,
              "rgb(150,27,91)"
             ],
             [
              0.4392156862745098,
              "rgb(177,22,88)"
             ],
             [
              0.5019607843137255,
              "rgb(203,26,79)"
             ],
             [
              0.5647058823529412,
              "rgb(223,47,67)"
             ],
             [
              0.6274509803921569,
              "rgb(236,76,61)"
             ],
             [
              0.6901960784313725,
              "rgb(242,107,73)"
             ],
             [
              0.7529411764705882,
              "rgb(244,135,95)"
             ],
             [
              0.8156862745098039,
              "rgb(245,162,122)"
             ],
             [
              0.8784313725490196,
              "rgb(246,188,153)"
             ],
             [
              0.9411764705882353,
              "rgb(247,212,187)"
             ],
             [
              1,
              "rgb(250,234,220)"
             ]
            ],
            "type": "contour"
           }
          ],
          "contourcarpet": [
           {
            "colorbar": {
             "outlinewidth": 0,
             "tickcolor": "rgb(36,36,36)",
             "ticklen": 8,
             "ticks": "outside",
             "tickwidth": 2
            },
            "type": "contourcarpet"
           }
          ],
          "heatmap": [
           {
            "colorbar": {
             "outlinewidth": 0,
             "tickcolor": "rgb(36,36,36)",
             "ticklen": 8,
             "ticks": "outside",
             "tickwidth": 2
            },
            "colorscale": [
             [
              0,
              "rgb(2,4,25)"
             ],
             [
              0.06274509803921569,
              "rgb(24,15,41)"
             ],
             [
              0.12549019607843137,
              "rgb(47,23,57)"
             ],
             [
              0.18823529411764706,
              "rgb(71,28,72)"
             ],
             [
              0.25098039215686274,
              "rgb(97,30,82)"
             ],
             [
              0.3137254901960784,
              "rgb(123,30,89)"
             ],
             [
              0.3764705882352941,
              "rgb(150,27,91)"
             ],
             [
              0.4392156862745098,
              "rgb(177,22,88)"
             ],
             [
              0.5019607843137255,
              "rgb(203,26,79)"
             ],
             [
              0.5647058823529412,
              "rgb(223,47,67)"
             ],
             [
              0.6274509803921569,
              "rgb(236,76,61)"
             ],
             [
              0.6901960784313725,
              "rgb(242,107,73)"
             ],
             [
              0.7529411764705882,
              "rgb(244,135,95)"
             ],
             [
              0.8156862745098039,
              "rgb(245,162,122)"
             ],
             [
              0.8784313725490196,
              "rgb(246,188,153)"
             ],
             [
              0.9411764705882353,
              "rgb(247,212,187)"
             ],
             [
              1,
              "rgb(250,234,220)"
             ]
            ],
            "type": "heatmap"
           }
          ],
          "heatmapgl": [
           {
            "colorbar": {
             "outlinewidth": 0,
             "tickcolor": "rgb(36,36,36)",
             "ticklen": 8,
             "ticks": "outside",
             "tickwidth": 2
            },
            "colorscale": [
             [
              0,
              "rgb(2,4,25)"
             ],
             [
              0.06274509803921569,
              "rgb(24,15,41)"
             ],
             [
              0.12549019607843137,
              "rgb(47,23,57)"
             ],
             [
              0.18823529411764706,
              "rgb(71,28,72)"
             ],
             [
              0.25098039215686274,
              "rgb(97,30,82)"
             ],
             [
              0.3137254901960784,
              "rgb(123,30,89)"
             ],
             [
              0.3764705882352941,
              "rgb(150,27,91)"
             ],
             [
              0.4392156862745098,
              "rgb(177,22,88)"
             ],
             [
              0.5019607843137255,
              "rgb(203,26,79)"
             ],
             [
              0.5647058823529412,
              "rgb(223,47,67)"
             ],
             [
              0.6274509803921569,
              "rgb(236,76,61)"
             ],
             [
              0.6901960784313725,
              "rgb(242,107,73)"
             ],
             [
              0.7529411764705882,
              "rgb(244,135,95)"
             ],
             [
              0.8156862745098039,
              "rgb(245,162,122)"
             ],
             [
              0.8784313725490196,
              "rgb(246,188,153)"
             ],
             [
              0.9411764705882353,
              "rgb(247,212,187)"
             ],
             [
              1,
              "rgb(250,234,220)"
             ]
            ],
            "type": "heatmapgl"
           }
          ],
          "histogram": [
           {
            "marker": {
             "pattern": {
              "fillmode": "overlay",
              "size": 10,
              "solidity": 0.2
             }
            },
            "type": "histogram"
           }
          ],
          "histogram2d": [
           {
            "colorbar": {
             "outlinewidth": 0,
             "tickcolor": "rgb(36,36,36)",
             "ticklen": 8,
             "ticks": "outside",
             "tickwidth": 2
            },
            "colorscale": [
             [
              0,
              "rgb(2,4,25)"
             ],
             [
              0.06274509803921569,
              "rgb(24,15,41)"
             ],
             [
              0.12549019607843137,
              "rgb(47,23,57)"
             ],
             [
              0.18823529411764706,
              "rgb(71,28,72)"
             ],
             [
              0.25098039215686274,
              "rgb(97,30,82)"
             ],
             [
              0.3137254901960784,
              "rgb(123,30,89)"
             ],
             [
              0.3764705882352941,
              "rgb(150,27,91)"
             ],
             [
              0.4392156862745098,
              "rgb(177,22,88)"
             ],
             [
              0.5019607843137255,
              "rgb(203,26,79)"
             ],
             [
              0.5647058823529412,
              "rgb(223,47,67)"
             ],
             [
              0.6274509803921569,
              "rgb(236,76,61)"
             ],
             [
              0.6901960784313725,
              "rgb(242,107,73)"
             ],
             [
              0.7529411764705882,
              "rgb(244,135,95)"
             ],
             [
              0.8156862745098039,
              "rgb(245,162,122)"
             ],
             [
              0.8784313725490196,
              "rgb(246,188,153)"
             ],
             [
              0.9411764705882353,
              "rgb(247,212,187)"
             ],
             [
              1,
              "rgb(250,234,220)"
             ]
            ],
            "type": "histogram2d"
           }
          ],
          "histogram2dcontour": [
           {
            "colorbar": {
             "outlinewidth": 0,
             "tickcolor": "rgb(36,36,36)",
             "ticklen": 8,
             "ticks": "outside",
             "tickwidth": 2
            },
            "colorscale": [
             [
              0,
              "rgb(2,4,25)"
             ],
             [
              0.06274509803921569,
              "rgb(24,15,41)"
             ],
             [
              0.12549019607843137,
              "rgb(47,23,57)"
             ],
             [
              0.18823529411764706,
              "rgb(71,28,72)"
             ],
             [
              0.25098039215686274,
              "rgb(97,30,82)"
             ],
             [
              0.3137254901960784,
              "rgb(123,30,89)"
             ],
             [
              0.3764705882352941,
              "rgb(150,27,91)"
             ],
             [
              0.4392156862745098,
              "rgb(177,22,88)"
             ],
             [
              0.5019607843137255,
              "rgb(203,26,79)"
             ],
             [
              0.5647058823529412,
              "rgb(223,47,67)"
             ],
             [
              0.6274509803921569,
              "rgb(236,76,61)"
             ],
             [
              0.6901960784313725,
              "rgb(242,107,73)"
             ],
             [
              0.7529411764705882,
              "rgb(244,135,95)"
             ],
             [
              0.8156862745098039,
              "rgb(245,162,122)"
             ],
             [
              0.8784313725490196,
              "rgb(246,188,153)"
             ],
             [
              0.9411764705882353,
              "rgb(247,212,187)"
             ],
             [
              1,
              "rgb(250,234,220)"
             ]
            ],
            "type": "histogram2dcontour"
           }
          ],
          "mesh3d": [
           {
            "colorbar": {
             "outlinewidth": 0,
             "tickcolor": "rgb(36,36,36)",
             "ticklen": 8,
             "ticks": "outside",
             "tickwidth": 2
            },
            "type": "mesh3d"
           }
          ],
          "parcoords": [
           {
            "line": {
             "colorbar": {
              "outlinewidth": 0,
              "tickcolor": "rgb(36,36,36)",
              "ticklen": 8,
              "ticks": "outside",
              "tickwidth": 2
             }
            },
            "type": "parcoords"
           }
          ],
          "pie": [
           {
            "automargin": true,
            "type": "pie"
           }
          ],
          "scatter": [
           {
            "marker": {
             "colorbar": {
              "outlinewidth": 0,
              "tickcolor": "rgb(36,36,36)",
              "ticklen": 8,
              "ticks": "outside",
              "tickwidth": 2
             }
            },
            "type": "scatter"
           }
          ],
          "scatter3d": [
           {
            "line": {
             "colorbar": {
              "outlinewidth": 0,
              "tickcolor": "rgb(36,36,36)",
              "ticklen": 8,
              "ticks": "outside",
              "tickwidth": 2
             }
            },
            "marker": {
             "colorbar": {
              "outlinewidth": 0,
              "tickcolor": "rgb(36,36,36)",
              "ticklen": 8,
              "ticks": "outside",
              "tickwidth": 2
             }
            },
            "type": "scatter3d"
           }
          ],
          "scattercarpet": [
           {
            "marker": {
             "colorbar": {
              "outlinewidth": 0,
              "tickcolor": "rgb(36,36,36)",
              "ticklen": 8,
              "ticks": "outside",
              "tickwidth": 2
             }
            },
            "type": "scattercarpet"
           }
          ],
          "scattergeo": [
           {
            "marker": {
             "colorbar": {
              "outlinewidth": 0,
              "tickcolor": "rgb(36,36,36)",
              "ticklen": 8,
              "ticks": "outside",
              "tickwidth": 2
             }
            },
            "type": "scattergeo"
           }
          ],
          "scattergl": [
           {
            "marker": {
             "colorbar": {
              "outlinewidth": 0,
              "tickcolor": "rgb(36,36,36)",
              "ticklen": 8,
              "ticks": "outside",
              "tickwidth": 2
             }
            },
            "type": "scattergl"
           }
          ],
          "scattermapbox": [
           {
            "marker": {
             "colorbar": {
              "outlinewidth": 0,
              "tickcolor": "rgb(36,36,36)",
              "ticklen": 8,
              "ticks": "outside",
              "tickwidth": 2
             }
            },
            "type": "scattermapbox"
           }
          ],
          "scatterpolar": [
           {
            "marker": {
             "colorbar": {
              "outlinewidth": 0,
              "tickcolor": "rgb(36,36,36)",
              "ticklen": 8,
              "ticks": "outside",
              "tickwidth": 2
             }
            },
            "type": "scatterpolar"
           }
          ],
          "scatterpolargl": [
           {
            "marker": {
             "colorbar": {
              "outlinewidth": 0,
              "tickcolor": "rgb(36,36,36)",
              "ticklen": 8,
              "ticks": "outside",
              "tickwidth": 2
             }
            },
            "type": "scatterpolargl"
           }
          ],
          "scatterternary": [
           {
            "marker": {
             "colorbar": {
              "outlinewidth": 0,
              "tickcolor": "rgb(36,36,36)",
              "ticklen": 8,
              "ticks": "outside",
              "tickwidth": 2
             }
            },
            "type": "scatterternary"
           }
          ],
          "surface": [
           {
            "colorbar": {
             "outlinewidth": 0,
             "tickcolor": "rgb(36,36,36)",
             "ticklen": 8,
             "ticks": "outside",
             "tickwidth": 2
            },
            "colorscale": [
             [
              0,
              "rgb(2,4,25)"
             ],
             [
              0.06274509803921569,
              "rgb(24,15,41)"
             ],
             [
              0.12549019607843137,
              "rgb(47,23,57)"
             ],
             [
              0.18823529411764706,
              "rgb(71,28,72)"
             ],
             [
              0.25098039215686274,
              "rgb(97,30,82)"
             ],
             [
              0.3137254901960784,
              "rgb(123,30,89)"
             ],
             [
              0.3764705882352941,
              "rgb(150,27,91)"
             ],
             [
              0.4392156862745098,
              "rgb(177,22,88)"
             ],
             [
              0.5019607843137255,
              "rgb(203,26,79)"
             ],
             [
              0.5647058823529412,
              "rgb(223,47,67)"
             ],
             [
              0.6274509803921569,
              "rgb(236,76,61)"
             ],
             [
              0.6901960784313725,
              "rgb(242,107,73)"
             ],
             [
              0.7529411764705882,
              "rgb(244,135,95)"
             ],
             [
              0.8156862745098039,
              "rgb(245,162,122)"
             ],
             [
              0.8784313725490196,
              "rgb(246,188,153)"
             ],
             [
              0.9411764705882353,
              "rgb(247,212,187)"
             ],
             [
              1,
              "rgb(250,234,220)"
             ]
            ],
            "type": "surface"
           }
          ],
          "table": [
           {
            "cells": {
             "fill": {
              "color": "rgb(231,231,240)"
             },
             "line": {
              "color": "white"
             }
            },
            "header": {
             "fill": {
              "color": "rgb(183,183,191)"
             },
             "line": {
              "color": "white"
             }
            },
            "type": "table"
           }
          ]
         },
         "layout": {
          "annotationdefaults": {
           "arrowcolor": "rgb(67,103,167)"
          },
          "autotypenumbers": "strict",
          "coloraxis": {
           "colorbar": {
            "outlinewidth": 0,
            "tickcolor": "rgb(36,36,36)",
            "ticklen": 8,
            "ticks": "outside",
            "tickwidth": 2
           }
          },
          "colorscale": {
           "sequential": [
            [
             0,
             "rgb(2,4,25)"
            ],
            [
             0.06274509803921569,
             "rgb(24,15,41)"
            ],
            [
             0.12549019607843137,
             "rgb(47,23,57)"
            ],
            [
             0.18823529411764706,
             "rgb(71,28,72)"
            ],
            [
             0.25098039215686274,
             "rgb(97,30,82)"
            ],
            [
             0.3137254901960784,
             "rgb(123,30,89)"
            ],
            [
             0.3764705882352941,
             "rgb(150,27,91)"
            ],
            [
             0.4392156862745098,
             "rgb(177,22,88)"
            ],
            [
             0.5019607843137255,
             "rgb(203,26,79)"
            ],
            [
             0.5647058823529412,
             "rgb(223,47,67)"
            ],
            [
             0.6274509803921569,
             "rgb(236,76,61)"
            ],
            [
             0.6901960784313725,
             "rgb(242,107,73)"
            ],
            [
             0.7529411764705882,
             "rgb(244,135,95)"
            ],
            [
             0.8156862745098039,
             "rgb(245,162,122)"
            ],
            [
             0.8784313725490196,
             "rgb(246,188,153)"
            ],
            [
             0.9411764705882353,
             "rgb(247,212,187)"
            ],
            [
             1,
             "rgb(250,234,220)"
            ]
           ],
           "sequentialminus": [
            [
             0,
             "rgb(2,4,25)"
            ],
            [
             0.06274509803921569,
             "rgb(24,15,41)"
            ],
            [
             0.12549019607843137,
             "rgb(47,23,57)"
            ],
            [
             0.18823529411764706,
             "rgb(71,28,72)"
            ],
            [
             0.25098039215686274,
             "rgb(97,30,82)"
            ],
            [
             0.3137254901960784,
             "rgb(123,30,89)"
            ],
            [
             0.3764705882352941,
             "rgb(150,27,91)"
            ],
            [
             0.4392156862745098,
             "rgb(177,22,88)"
            ],
            [
             0.5019607843137255,
             "rgb(203,26,79)"
            ],
            [
             0.5647058823529412,
             "rgb(223,47,67)"
            ],
            [
             0.6274509803921569,
             "rgb(236,76,61)"
            ],
            [
             0.6901960784313725,
             "rgb(242,107,73)"
            ],
            [
             0.7529411764705882,
             "rgb(244,135,95)"
            ],
            [
             0.8156862745098039,
             "rgb(245,162,122)"
            ],
            [
             0.8784313725490196,
             "rgb(246,188,153)"
            ],
            [
             0.9411764705882353,
             "rgb(247,212,187)"
            ],
            [
             1,
             "rgb(250,234,220)"
            ]
           ]
          },
          "colorway": [
           "rgb(76,114,176)",
           "rgb(221,132,82)",
           "rgb(85,168,104)",
           "rgb(196,78,82)",
           "rgb(129,114,179)",
           "rgb(147,120,96)",
           "rgb(218,139,195)",
           "rgb(140,140,140)",
           "rgb(204,185,116)",
           "rgb(100,181,205)"
          ],
          "font": {
           "color": "rgb(36,36,36)"
          },
          "geo": {
           "bgcolor": "white",
           "lakecolor": "white",
           "landcolor": "rgb(234,234,242)",
           "showlakes": true,
           "showland": true,
           "subunitcolor": "white"
          },
          "hoverlabel": {
           "align": "left"
          },
          "hovermode": "closest",
          "paper_bgcolor": "white",
          "plot_bgcolor": "rgb(234,234,242)",
          "polar": {
           "angularaxis": {
            "gridcolor": "white",
            "linecolor": "white",
            "showgrid": true,
            "ticks": ""
           },
           "bgcolor": "rgb(234,234,242)",
           "radialaxis": {
            "gridcolor": "white",
            "linecolor": "white",
            "showgrid": true,
            "ticks": ""
           }
          },
          "scene": {
           "xaxis": {
            "backgroundcolor": "rgb(234,234,242)",
            "gridcolor": "white",
            "gridwidth": 2,
            "linecolor": "white",
            "showbackground": true,
            "showgrid": true,
            "ticks": "",
            "zerolinecolor": "white"
           },
           "yaxis": {
            "backgroundcolor": "rgb(234,234,242)",
            "gridcolor": "white",
            "gridwidth": 2,
            "linecolor": "white",
            "showbackground": true,
            "showgrid": true,
            "ticks": "",
            "zerolinecolor": "white"
           },
           "zaxis": {
            "backgroundcolor": "rgb(234,234,242)",
            "gridcolor": "white",
            "gridwidth": 2,
            "linecolor": "white",
            "showbackground": true,
            "showgrid": true,
            "ticks": "",
            "zerolinecolor": "white"
           }
          },
          "shapedefaults": {
           "fillcolor": "rgb(67,103,167)",
           "line": {
            "width": 0
           },
           "opacity": 0.5
          },
          "ternary": {
           "aaxis": {
            "gridcolor": "white",
            "linecolor": "white",
            "showgrid": true,
            "ticks": ""
           },
           "baxis": {
            "gridcolor": "white",
            "linecolor": "white",
            "showgrid": true,
            "ticks": ""
           },
           "bgcolor": "rgb(234,234,242)",
           "caxis": {
            "gridcolor": "white",
            "linecolor": "white",
            "showgrid": true,
            "ticks": ""
           }
          },
          "xaxis": {
           "automargin": true,
           "gridcolor": "white",
           "linecolor": "white",
           "showgrid": true,
           "ticks": "",
           "title": {
            "standoff": 15
           },
           "zerolinecolor": "white"
          },
          "yaxis": {
           "automargin": true,
           "gridcolor": "white",
           "linecolor": "white",
           "showgrid": true,
           "ticks": "",
           "title": {
            "standoff": 15
           },
           "zerolinecolor": "white"
          }
         }
        }
       }
      }
     },
     "metadata": {},
     "output_type": "display_data"
    }
   ],
   "source": [
    "class recommend_sub_station :\n",
    "\n",
    "    def __init__(self, filtered_data, stat_id ,near_sub, station) :\n",
    "        '''\n",
    "\n",
    "        해당 대여소에서 자주 이용하는 지하철역과 그 주변에 있는 따릉이 대여소를 추천하는 매서드임.\n",
    "        filtered_data는 원하는 대여소가 sorting 된 DataFrame이 필요함.\n",
    "        \n",
    "        filter_start는 \"대여소\" 또는 \"역\"만 올 수 있음.\n",
    "\n",
    "        '''\n",
    "        # utils에서는 풀기\n",
    "        # filtered_data = filtered_data[0]\n",
    "\n",
    "        # ex) 기준대여소 to 다른 대여소 (1to2)\n",
    "        total_num_left = filtered_data[filtered_data[\"st_id1\"] == stat_id][\"st_id2\"].value_counts()  \n",
    "\n",
    "        # ex) 다른 대여소 to 기준대여소 (2to1)\n",
    "        total_num_right = filtered_data[filtered_data[\"st_id2\"] == stat_id][\"st_id1\"].value_counts()\n",
    "\n",
    "            # 1to2, 2to1 합치기\n",
    "        combine_values = pd.concat([total_num_left, total_num_right], axis=1)\n",
    "        combine_values.fillna((1), inplace=True)\n",
    "        combine_values.rename(columns=dict(st_id2=\"1to2\", st_id1=\"2to1\"), inplace=True)\n",
    "\n",
    "        # 계산 결과 종합\n",
    "        result_concat = (\n",
    "            combine_values.reset_index().groupby(\"index\")[[\"1to2\", \"2to1\"]].sum()\n",
    "        )\n",
    "\n",
    "        # 역 주변 대여소가 검색될 때 해당역 주변 대여소는 제거한다. | 316 대여소는 종각역과 관련됐는데, 종각과 관련된 대여소는 제거했다.\n",
    "        try:\n",
    "            filter_sub = near_sub.query(\"bi_st_id == @stat_id\")[\"sub_name\"].iloc[0]\n",
    "            filter_sub_2 = near_sub.query(\"sub_name ==@filter_sub\")[\"bi_st_id\"].values\n",
    "            result_concat = result_concat[~result_concat.index.isin(filter_sub_2)]\n",
    "        except:\n",
    "            pass\n",
    "\n",
    "\n",
    "        # 대여소 별로 총 이동 횟수\n",
    "        result_concat[\"total\"] = abs(\n",
    "            (result_concat[\"1to2\"] + result_concat[\"2to1\"])\n",
    "        ) \n",
    "\n",
    "        # 지하철역 인근 따릉이 대여소 정보와 종합\n",
    "        sub_bike = pd.merge(\n",
    "            result_concat,\n",
    "            near_sub,\n",
    "            how=\"left\",\n",
    "            left_on=result_concat.index,\n",
    "            right_on=\"bi_st_id\",\n",
    "        )\n",
    "\n",
    "        # 지하철역 없는 따릉이 제거 \n",
    "        sorted_sub = sub_bike.dropna(subset=[\"sub_st_id\"]).sort_values(\n",
    "            by=\"total\", ascending=False\n",
    "        ).dropna(subset=['sub_name'])\n",
    "\n",
    "        # 기록 50건 이하 제거\n",
    "        count_rent = 50\n",
    "        sorted_sub = sorted_sub[(sorted_sub['1to2'] > count_rent) | (sorted_sub['2to1'] > count_rent) ]\n",
    "\n",
    "        # 기준 대여소와 역근처 대여소 직선 거리계산\n",
    "        station_lat_lon = station[station[\"st_id\"].isin(sorted_sub[\"bi_st_id\"])][\n",
    "            [\"st_id\", \"st_name\", \"latitude\", \"longtitude\"]\n",
    "        ]\n",
    "\n",
    "        dist_to_station = haversine_np(\n",
    "            station.loc[station[\"st_id\"] == stat_id, \"longtitude\"].values,\n",
    "            station.loc[station[\"st_id\"] == stat_id, \"latitude\"].values,\n",
    "            station_lat_lon[\"longtitude\"].values,\n",
    "            station_lat_lon[\"latitude\"].values,\n",
    "        )\n",
    "        station_lat_lon[\"distance\"] = dist_to_station\n",
    "\n",
    "        #  해당 대여소와의 거리정보 종합\n",
    "        sorted_sub = pd.merge(\n",
    "            sorted_sub, station_lat_lon, left_on=\"bi_st_id\", right_on=\"st_id\"\n",
    "        ).drop(columns=[\"st_id\"])\n",
    "\n",
    "        # 대여소별 예상 도착시간 계산\n",
    "        result_station = []\n",
    "        for station_id in sorted_sub[\"bi_st_id\"]:\n",
    "\n",
    "            # 대여소 기준 해당 역으로 가는 시간\n",
    "            BM = filtered_data[\"st_id2\"] == station_id\n",
    "            st_id1_time = (\n",
    "                filtered_data[BM][\"riding_time\"]\n",
    "                .value_counts()\n",
    "                .sort_values(ascending=False)\n",
    "            )\n",
    "            mean_id1 = round(st_id1_time.index[:3].values.mean(), 1)\n",
    "\n",
    "            # 해당 역에서 대여소로 가는 시간\n",
    "            BM = filtered_data[\"st_id1\"] == station_id\n",
    "            st_id2_time = (\n",
    "                filtered_data[BM][\"riding_time\"]\n",
    "                .value_counts()\n",
    "                .sort_values(ascending=False)\n",
    "            )\n",
    "            mean_id2 = round(st_id2_time.index[:3].values.mean(), 1)\n",
    "\n",
    "            # st_id1_time.plot.bar()\n",
    "            result_station.append([mean_id1, mean_id2])\n",
    "\n",
    "\n",
    "        # 예상시간정보 종합(대여소: 대여소에서 출발)\n",
    "        est_time = pd.DataFrame(result_station, columns=[\"대여소\", \"역\"])\n",
    "\n",
    "        # return 자료 생성\n",
    "        self.nearest_sub = pd.concat([sorted_sub.reset_index(drop=True), est_time], axis=1)\n",
    "\n",
    "        if filter_start == \"대여소\":\n",
    "            sub_sorted_station = (\n",
    "                self.nearest_sub.groupby(\"sub_name\")[\"1to2\"]\n",
    "                .sum()\n",
    "                .sort_values(ascending=False)\n",
    "                .reset_index(drop=False)\n",
    "            )  # 대여소 별 이동량 종합\n",
    "            counts = \"1to2\"\n",
    "\n",
    "        elif filter_start == \"역\":\n",
    "            sub_sorted_station = (\n",
    "                self.nearest_sub.groupby(\"sub_name\")[\"2to1\"]\n",
    "                .sum()\n",
    "                .sort_values(ascending=False)\n",
    "                .reset_index(drop=False)\n",
    "            )\n",
    "            counts = \"2to1\"\n",
    "\n",
    "        # 역 이름 추출\n",
    "        self.name_sub = sub_sorted_station[\"sub_name\"].tolist()\n",
    "\n",
    "\n",
    "\n",
    "    def table_info(self, filter_start='대여소') :\n",
    "\n",
    "        # 대여소 예상시간 테이블 만들기\n",
    "        nearest_sub_sorted = (\n",
    "            self.nearest_sub[[\"bi_st_id\",\"sub_name\", counts, f\"{filter_start}\"]]\n",
    "            .sort_values(by=f\"{filter_start}\")\n",
    "            .query(\"sub_name == @name_sub\")\n",
    "            .reset_index(drop=True)\n",
    "        )\n",
    "        nearest_sub_sorted.columns = [\"대여소 번호\", \"역사명\", \"대여기록\", \"예상시간\"]\n",
    "        # nearest_sub_sorted = nearest_sub_sorted.query(\"대여기록 > 50\").copy()\n",
    "\n",
    "        nearest_sub_sorted[\"예상시간\"] = nearest_sub_sorted[\"예상시간\"].apply(\n",
    "            lambda x: str(int(x)) + \"분\"\n",
    "        )\n",
    "        nearest_sub_sorted[\"대여기록\"] = nearest_sub_sorted[\"대여기록\"].apply(\n",
    "            lambda x: str(int(x)) + \"건\"\n",
    "        )\n",
    "\n",
    "        return nearest_sub_sorted\n",
    "\n",
    "    def plotly_image(self,filter_start=\"대여소\") : \n",
    "\n",
    "        # figure 만들기\n",
    "        fig = px.scatter_mapbox(\n",
    "            self.nearest_sub.query(\"sub_name == @self.name_sub\"),\n",
    "            lat=\"latitude\",\n",
    "            lon=\"longtitude\",\n",
    "            hover_name=\"sub_name\",\n",
    "            hover_data=[\"1to2\", \"2to1\", \"bi_st_id\", f\"{filter_start}\"],\n",
    "            color=\"sub_name\",\n",
    "            opacity=0.5,\n",
    "            template=\"seaborn\",\n",
    "            mapbox_style=\"carto-positron\",\n",
    "            # size='total', size_max=20,\n",
    "            zoom=12,\n",
    "            height=500,\n",
    "        )\n",
    "        # marker 정보\n",
    "        fig.for_each_trace(lambda t: t.update(name=\"<b>\" + t.name + \"</b>\"))\n",
    "        fig.update_traces(marker={\"size\": 15})\n",
    "\n",
    "        # 해당 따릉이 대여소 색 표시\n",
    "        fig_2 = go.Figure(\n",
    "            go.Scattermapbox(\n",
    "                name=\"대여소\",\n",
    "                lat=station.query(\"st_id==@stat_id\")[\"latitude\"],\n",
    "                lon=station.query(\"st_id==@stat_id\")[\"longtitude\"],\n",
    "                mode=\"markers+text\",\n",
    "                marker={\"size\": 10, \"color\": \"cyan\", \"opacity\": 0.4},\n",
    "                text=station.query(\"st_id==@stat_id\")[\"st_name\"].values,\n",
    "            )\n",
    "        )\n",
    "\n",
    "        fig.add_trace(fig_2.data[0])\n",
    "        fig.update_layout(\n",
    "            margin=dict(l=0, r=0, t=0, b=0),\n",
    "            mapbox=dict(\n",
    "            accesstoken=\"pk.eyJ1IjoieWFuZ29vcyIsImEiOiJjbDNqd2tkN2IwbGdmM2pvNzF0c2M4NnZkIn0.J3IjPYg3w28cGiWkUD7bnA\"),\n",
    "            legend=dict(\n",
    "                yanchor=\"top\",\n",
    "                y=0.99,\n",
    "                xanchor=\"right\",\n",
    "                x=0.99,\n",
    "                bgcolor=\"rgba(223, 235, 223, 0.3)\",\n",
    "            ),\n",
    "        )\n",
    "        off_plot = plotly.io.to_html(\n",
    "            fig, include_plotlyjs=False, full_html=True, include_mathjax=False\n",
    "        )\n",
    "        bs = BeautifulSoup(off_plot, features=\"html.parser\")\n",
    "        div_data = bs.find(\"div\", \"plotly-graph-div\")\n",
    "        script_data = (\n",
    "            bs.find(\"script\")\n",
    "            .text.replace(\" \", \"\")\n",
    "            .replace(\"<br>\", \"\")\n",
    "            .replace(\"<extra>\", \"\")\n",
    "            .replace(\"</extra>\", \"\")\n",
    "        )\n",
    "        context = {\"div_data\": str(div_data), \"script_data\": str(script_data)}\n",
    "        return context\n",
    "\n",
    "station = pd.read_csv(\n",
    "    \"static/seoul_bike_station_01_12.csv\", encoding=\"CP949\")  \n",
    "# 지하철역 인근 따릉이 대여소 정보\n",
    "near_sub = pd.read_csv(\n",
    "    \"static/near_sub_station.csv\", encoding=\"CP949\")\n",
    "stat_id = 754\n",
    "filter_start = '대여소'\n",
    "\n",
    "recommend_sub_station(filtered_data, stat_id, near_sub, station).plotly_image()"
   ]
  },
  {
   "cell_type": "markdown",
   "metadata": {},
   "source": [
    "> ### subwaystation table info"
   ]
  },
  {
   "cell_type": "code",
   "execution_count": 207,
   "metadata": {},
   "outputs": [],
   "source": [
    "def recommend_sub_station(filtered_data, filter_start='대여소') :\n",
    "    # ex) 기준대여소 to 다른 대여소 (1to2)\n",
    "    total_num_left = filtered_data[filtered_data[\"st_id1\"] == stat_id][\"st_id2\"].value_counts()  # 기준 대여소에서 빌리면 주로 향하는 목적지는?\n",
    "\n",
    "    # ex) 다른 대여소 to 기준대여소 (2to1)\n",
    "    total_num_right = filtered_data[filtered_data[\"st_id2\"] == stat_id][\"st_id1\"].value_counts()  # 어떤 대여소에서 기준 대여소로 이동할까?\n",
    "\n",
    "        # 1to2, 2to1 합치기\n",
    "    combine_values = pd.concat([total_num_left, total_num_right], axis=1)\n",
    "    combine_values.fillna((1), inplace=True)\n",
    "    combine_values.rename(columns=dict(st_id2=\"1to2\", st_id1=\"2to1\"), inplace=True)\n",
    "\n",
    "    # 계산 결과 종합\n",
    "    result_concat = (\n",
    "        combine_values.reset_index().groupby(\"index\")[[\"1to2\", \"2to1\"]].sum()\n",
    "    )\n",
    "\n",
    "    # 역 주변 대여소가 검색될경우 해당 대여소는 제거하기 | 316 대여소는 종각역과 관련됐는데, 종각과 관련된 대여소는 제거했다.\n",
    "    try:\n",
    "        filter_sub = near_sub.query(\"bi_st_id == @stat_id\")[\"sub_name\"].iloc[0]\n",
    "        filter_sub_2 = near_sub.query(\"sub_name ==@filter_sub\")[\"bi_st_id\"].values\n",
    "        result_concat = result_concat[~result_concat.index.isin(filter_sub_2)]\n",
    "    except:\n",
    "        pass\n",
    "\n",
    "\n",
    "    # 대여소 별 총 이동 횟수\n",
    "    result_concat[\"total\"] = abs(\n",
    "        (result_concat[\"1to2\"] + result_concat[\"2to1\"])\n",
    "    ) \n",
    "\n",
    "    # 지하철역 인근 따릉이 대여소 정보와 종합\n",
    "    sub_bike = pd.merge(\n",
    "        result_concat,\n",
    "        near_sub,\n",
    "        how=\"left\",\n",
    "        left_on=result_concat.index,\n",
    "        right_on=\"bi_st_id\",\n",
    "    )\n",
    "\n",
    "    # 지하철역 없는 따릉이 제거 \n",
    "    sorted_sub = sub_bike.dropna(subset=[\"sub_st_id\"]).sort_values(\n",
    "        by=\"total\", ascending=False\n",
    "    ).dropna(subset=['sub_name'])\n",
    "\n",
    "    # 기록 50건 이하 제거\n",
    "    count_rent = 50\n",
    "    sorted_sub = sorted_sub[(sorted_sub['1to2'] > count_rent) | (sorted_sub['2to1'] > count_rent) ]\n",
    "\n",
    "    # 기준 대여소와 역근처 대여소 직선 거리계산\n",
    "    station_lat_lon = station[station[\"st_id\"].isin(sorted_sub[\"bi_st_id\"])][\n",
    "        [\"st_id\", \"st_name\", \"latitude\", \"longtitude\"]\n",
    "    ]\n",
    "    return station_lat_lon\n",
    "    dist_to_station = haversine_np(\n",
    "        station.loc[station[\"st_id\"] == stat_id, \"longtitude\"].values,\n",
    "        station.loc[station[\"st_id\"] == stat_id, \"latitude\"].values,\n",
    "        station_lat_lon[\"longtitude\"].values,\n",
    "        station_lat_lon[\"latitude\"].values,\n",
    "    )\n",
    "    station_lat_lon[\"distance\"] = dist_to_station\n",
    "\n",
    "    #  해당 대여소와의 거리정보 종합\n",
    "    sorted_sub = pd.merge(\n",
    "        sorted_sub, station_lat_lon, left_on=\"bi_st_id\", right_on=\"st_id\"\n",
    "    ).drop(columns=[\"st_id\"])\n",
    "\n",
    "    # 대여소별 예상 도착시간 계산\n",
    "    result_station = []\n",
    "    for station_id in sorted_sub[\"bi_st_id\"]:\n",
    "\n",
    "        # 대여소 기준 해당 역으로 가는 시간\n",
    "        BM = filtered_data[\"st_id2\"] == station_id\n",
    "        st_id1_time = (\n",
    "            filtered_data[BM][\"riding_time\"]\n",
    "            .value_counts()\n",
    "            .sort_values(ascending=False)\n",
    "        )\n",
    "        mean_id1 = round(st_id1_time.index[:3].values.mean(), 1)\n",
    "\n",
    "        # 해당 역에서 대여소로 가는 시간\n",
    "        BM = filtered_data[\"st_id1\"] == station_id\n",
    "        st_id2_time = (\n",
    "            filtered_data[BM][\"riding_time\"]\n",
    "            .value_counts()\n",
    "            .sort_values(ascending=False)\n",
    "        )\n",
    "        mean_id2 = round(st_id2_time.index[:3].values.mean(), 1)\n",
    "\n",
    "        # st_id1_time.plot.bar()\n",
    "        result_station.append([mean_id1, mean_id2])\n",
    "\n",
    "\n",
    "    # 예상시간정보 종합(대여소: 대여소에서 출발)\n",
    "    est_time = pd.DataFrame(result_station, columns=[\"대여소\", \"역\"])\n",
    "\n",
    "\n",
    "    # return 자료 생성\n",
    "    nearest_sub = pd.concat([sorted_sub.reset_index(drop=True), est_time], axis=1)\n",
    "    \n",
    "    if filter_start == \"대여소\":\n",
    "        sub_sorted_station = (\n",
    "            nearest_sub.groupby(\"sub_name\")[\"1to2\"]\n",
    "            .sum()\n",
    "            .sort_values(ascending=False)\n",
    "            .reset_index(drop=False)\n",
    "        )  # 대여소 별 이동량 종합\n",
    "        counts = \"1to2\"\n",
    "\n",
    "    elif filter_start == \"역\":\n",
    "        sub_sorted_station = (\n",
    "            nearest_sub.groupby(\"sub_name\")[\"2to1\"]\n",
    "            .sum()\n",
    "            .sort_values(ascending=False)\n",
    "            .reset_index(drop=False)\n",
    "        )\n",
    "        counts = \"2to1\"\n",
    "\n",
    "    # 역 이름 추출\n",
    "    name_sub = sub_sorted_station[\"sub_name\"].tolist()\n",
    "\n",
    "    # 대여소 예상시간 테이블 만들기\n",
    "    nearest_sub_sorted = (\n",
    "        nearest_sub[[\"bi_st_id\",\"sub_name\", counts, f\"{filter_start}\"]]\n",
    "        .sort_values(by=f\"{filter_start}\")\n",
    "        .query(\"sub_name == @name_sub\")\n",
    "        .reset_index(drop=True)\n",
    "    )\n",
    "    nearest_sub_sorted.columns = [\"대여소 번호\", \"역사명\", \"대여기록\", \"예상시간\"]\n",
    "    # nearest_sub_sorted = nearest_sub_sorted.query(\"대여기록 > 50\").copy()\n",
    "\n",
    "    nearest_sub_sorted[\"예상시간\"] = nearest_sub_sorted[\"예상시간\"].apply(\n",
    "        lambda x: str(int(x)) + \"분\"\n",
    "    )\n",
    "    nearest_sub_sorted[\"대여기록\"] = nearest_sub_sorted[\"대여기록\"].apply(\n",
    "        lambda x: str(int(x)) + \"건\"\n",
    "    )\n",
    "\n",
    "    return nearest_sub_sorted\n",
    "\n",
    "recommend_sub_station(filtered_data, filter_start='대여소')"
   ]
  },
  {
   "cell_type": "code",
   "execution_count": 208,
   "metadata": {},
   "outputs": [
    {
     "data": {
      "text/html": [
       "<div>\n",
       "<style scoped>\n",
       "    .dataframe tbody tr th:only-of-type {\n",
       "        vertical-align: middle;\n",
       "    }\n",
       "\n",
       "    .dataframe tbody tr th {\n",
       "        vertical-align: top;\n",
       "    }\n",
       "\n",
       "    .dataframe thead th {\n",
       "        text-align: right;\n",
       "    }\n",
       "</style>\n",
       "<table border=\"1\" class=\"dataframe\">\n",
       "  <thead>\n",
       "    <tr style=\"text-align: right;\">\n",
       "      <th></th>\n",
       "      <th>대여소 번호</th>\n",
       "      <th>역사명</th>\n",
       "      <th>대여기록</th>\n",
       "      <th>예상시간</th>\n",
       "    </tr>\n",
       "  </thead>\n",
       "  <tbody>\n",
       "    <tr>\n",
       "      <th>0</th>\n",
       "      <td>744</td>\n",
       "      <td>신목동</td>\n",
       "      <td>3385건</td>\n",
       "      <td>3분</td>\n",
       "    </tr>\n",
       "    <tr>\n",
       "      <th>1</th>\n",
       "      <td>766</td>\n",
       "      <td>신목동</td>\n",
       "      <td>440건</td>\n",
       "      <td>5분</td>\n",
       "    </tr>\n",
       "    <tr>\n",
       "      <th>2</th>\n",
       "      <td>773</td>\n",
       "      <td>염창</td>\n",
       "      <td>214건</td>\n",
       "      <td>9분</td>\n",
       "    </tr>\n",
       "    <tr>\n",
       "      <th>3</th>\n",
       "      <td>1169</td>\n",
       "      <td>염창</td>\n",
       "      <td>90건</td>\n",
       "      <td>9분</td>\n",
       "    </tr>\n",
       "    <tr>\n",
       "      <th>4</th>\n",
       "      <td>765</td>\n",
       "      <td>오목교</td>\n",
       "      <td>234건</td>\n",
       "      <td>11분</td>\n",
       "    </tr>\n",
       "    <tr>\n",
       "      <th>5</th>\n",
       "      <td>770</td>\n",
       "      <td>목동</td>\n",
       "      <td>149건</td>\n",
       "      <td>12분</td>\n",
       "    </tr>\n",
       "    <tr>\n",
       "      <th>6</th>\n",
       "      <td>703</td>\n",
       "      <td>오목교</td>\n",
       "      <td>47건</td>\n",
       "      <td>13분</td>\n",
       "    </tr>\n",
       "    <tr>\n",
       "      <th>7</th>\n",
       "      <td>1961</td>\n",
       "      <td>신도림</td>\n",
       "      <td>76건</td>\n",
       "      <td>29분</td>\n",
       "    </tr>\n",
       "    <tr>\n",
       "      <th>8</th>\n",
       "      <td>272</td>\n",
       "      <td>당산</td>\n",
       "      <td>49건</td>\n",
       "      <td>37분</td>\n",
       "    </tr>\n",
       "  </tbody>\n",
       "</table>\n",
       "</div>"
      ],
      "text/plain": [
       "   대여소 번호  역사명   대여기록 예상시간\n",
       "0     744  신목동  3385건   3분\n",
       "1     766  신목동   440건   5분\n",
       "2     773   염창   214건   9분\n",
       "3    1169   염창    90건   9분\n",
       "4     765  오목교   234건  11분\n",
       "5     770   목동   149건  12분\n",
       "6     703  오목교    47건  13분\n",
       "7    1961  신도림    76건  29분\n",
       "8     272   당산    49건  37분"
      ]
     },
     "execution_count": 208,
     "metadata": {},
     "output_type": "execute_result"
    }
   ],
   "source": []
  },
  {
   "cell_type": "code",
   "execution_count": 22,
   "metadata": {},
   "outputs": [],
   "source": [
    "def raw_data(query_data , val : int) : \n",
    "    # BM = (df['st_id1'] == val) | (df['st_id2'] == val )\n",
    "    # filtered_data = df[BM]\n",
    "\n",
    "    # 대여\n",
    "    filtered_data_start = query_data[(query_data['st_id1'] ==val) & (query_data['st_id2'] !=val)]\n",
    "\n",
    "    # 반납\n",
    "    filtered_data_end = query_data[(query_data['st_id2'] ==val) & (query_data['st_id1'] !=val)]\n",
    "    \n",
    "    return [query_data,filtered_data_end,filtered_data_start]"
   ]
  },
  {
   "cell_type": "markdown",
   "metadata": {},
   "source": [
    "> ### 일별 자전거 대여"
   ]
  },
  {
   "cell_type": "markdown",
   "metadata": {},
   "source": [
    "ax.patches => 개별 bar 정보(x,y,h,w)를 확인할 수 있음.\n",
    "\n",
    "ax.patches[0].patch.get_bbox() 확인한 정보를 변수로 불러올 수 있음\n",
    "> https://stackoverflow.com/questions/61568935/seaborn-barplot-with-rounded-corners\n",
    "\n",
    "print(p.properties()) <= 정보를 불러오는 기능인듯 "
   ]
  },
  {
   "cell_type": "code",
   "execution_count": 39,
   "metadata": {},
   "outputs": [
    {
     "data": {
      "image/png": "[encoded data removed]",
      "text/plain": [
       "<Figure size 576x576 with 1 Axes>"
      ]
     },
     "metadata": {
      "needs_background": "light"
     },
     "output_type": "display_data"
    }
   ],
   "source": [
    "def day_rent(filtered_data :list) :\n",
    "    # 일별 자전거 대여\n",
    "    data = filtered_data[0].groupby('weekday').size()\n",
    "\n",
    "    data_numpy = data.to_numpy()\n",
    "\n",
    "    # max 요일\n",
    "    max_value= np.where(data_numpy == data_numpy.max())[0][0]\n",
    "    max_value\n",
    "\n",
    "    # min 요일\n",
    "    min_value= np.where(data_numpy == data_numpy.min())[0][0]\n",
    "    min_value\n",
    "\n",
    "    # 높이 normalize 후 0.5 더함( 0.5는 막대 길이를 의미함)\n",
    "    height = list(map(lambda x : round(((x-data_numpy.min())/(data_numpy.max()-data_numpy.min()))+0.5,2), data_numpy ))\n",
    "\n",
    "    # 사각형 정보\n",
    "    bars = []\n",
    "    for num, h in enumerate(height) :\n",
    "        ist = [num,0,h,0.8] # x,y,h,w\n",
    "        bars.append(ist)\n",
    "    #날짜\n",
    "    days = [\"월\",\"화\",\"수\",\"목\",\"금\",\"토\",\"일\"]\n",
    "\n",
    "    # plot\n",
    "    fig, ax = plt.subplots(figsize=(8,8))\n",
    "\n",
    "    # bar = rect\n",
    "    for num,(bar, days) in enumerate(zip(bars, days)) :\n",
    "        x = bar[0]; y = bar[1]; h = bar[2];  w = bar[3]\n",
    "        #max\n",
    "        if num == max_value :\n",
    "            color = ['blue','white'] # full color, font-color\n",
    "        #min\n",
    "        elif num == min_value : \n",
    "            color = ['green','black'] # full color, font-color\n",
    "        # 나머지\n",
    "        else : \n",
    "            color = ['gray','black'] # full color, font-color\n",
    "        \n",
    "        bbox = patches.FancyBboxPatch(\n",
    "            (x,y),w,h,\n",
    "            boxstyle=\"round,pad=-0.01,rounding_size=0.2\",\n",
    "            ec=\"none\", fc=color[0],\n",
    "            mutation_aspect= 0.5,\n",
    "            alpha=0.5\n",
    "        )\n",
    "        ax.add_patch(bbox)\n",
    "\n",
    "        # 요일 넣기(padding고려해서 num으로 조정)\n",
    "        plt.text(x+0.3,y+0.05, days, fontdict={'fontsize' : 14, 'color' : color[1]})\n",
    "\n",
    "        # 개수 넣기\n",
    "        plt.text(x+0.3,h-0.2, data[num],rotation=90, fontdict={'fontsize' : 14, 'color' : color[1]})\n",
    "\n",
    "\n",
    "    plt.xlim(0,6.8) # 넓이가 0.8이라서 그럼\n",
    "    plt.ylim(0,1.5)\n",
    "    plt.axis('off')\n",
    "    # plt.close()\n",
    "\n",
    "\n",
    "day_rent(raw_data)"
   ]
  },
  {
   "cell_type": "markdown",
   "metadata": {},
   "source": [
    "> ### 시간대별 이용 비교"
   ]
  },
  {
   "cell_type": "code",
   "execution_count": 88,
   "metadata": {},
   "outputs": [],
   "source": [
    "BM = (df['st_id1'] == val) | (df['st_id2'] == val )\n",
    "query_data = df[BM]"
   ]
  },
  {
   "cell_type": "code",
   "execution_count": null,
   "metadata": {},
   "outputs": [],
   "source": [
    "query_data['time'] =  '2021-01-01 ' + query_data['date'].dt.time.apply(str)\n",
    "query_data\n",
    "\n",
    "# query_data[']\n",
    "test_count = query_data.groupby([pd.Grouper(key='time',freq='H')]).size()\n",
    "test_count"
   ]
  },
  {
   "cell_type": "code",
   "execution_count": null,
   "metadata": {},
   "outputs": [],
   "source": [
    "def day_rent(filtered_data :list) :\n",
    "    # 일별 자전거 대여\n",
    "    data = filtered_data[0].groupby('weekday').size()\n",
    "\n",
    "    data_numpy = data.to_numpy()\n",
    "\n",
    "    # max 요일\n",
    "    max_value= np.where(data_numpy == data_numpy.max())[0][0]\n",
    "    max_value\n",
    "\n",
    "    # min 요일\n",
    "    min_value= np.where(data_numpy == data_numpy.min())[0][0]\n",
    "    min_value\n",
    "\n",
    "    # 높이 normalize 후 0.5 더함( 0.5는 막대 길이를 의미함)\n",
    "    height = list(map(lambda x : round(((x-data_numpy.min())/(data_numpy.max()-data_numpy.min()))+0.5,2), data_numpy ))\n",
    "\n",
    "    # 사각형 정보\n",
    "    bars = []\n",
    "    for num, h in enumerate(height) :\n",
    "        ist = [num,0,h,0.8] # x,y,h,w\n",
    "        bars.append(ist)\n",
    "    #날짜\n",
    "    days = [\"월\",\"화\",\"수\",\"목\",\"금\",\"토\",\"일\"]\n",
    "\n",
    "    # plot\n",
    "    fig, ax = plt.subplots(figsize=(8,8))\n",
    "\n",
    "    # bar = rect\n",
    "    for num,(bar, days) in enumerate(zip(bars, days)) :\n",
    "        x = bar[0]; y = bar[1]; h = bar[2];  w = bar[3]\n",
    "        #max\n",
    "        if num == max_value :\n",
    "            color = ['blue','white'] # full color, font-color\n",
    "        #min\n",
    "        elif num == min_value : \n",
    "            color = ['green','black'] # full color, font-color\n",
    "        # 나머지\n",
    "        else : \n",
    "            color = ['gray','black'] # full color, font-color\n",
    "        \n",
    "        bbox = patches.FancyBboxPatch(\n",
    "            (x,y),w,h,\n",
    "            boxstyle=\"round,pad=-0.01,rounding_size=0.2\",\n",
    "            ec=\"none\", fc=color[0],\n",
    "            mutation_aspect= 0.5,\n",
    "            alpha=0.5\n",
    "        )\n",
    "        ax.add_patch(bbox)\n",
    "\n",
    "        # 요일 넣기(padding고려해서 num으로 조정)\n",
    "        plt.text(x+0.3,y+0.05, days, fontdict={'fontsize' : 14, 'color' : color[1]})\n",
    "\n",
    "        # 개수 넣기\n",
    "        plt.text(x+0.3,h-0.2, data[num],rotation=90, fontdict={'fontsize' : 14, 'color' : color[1]})\n",
    "\n",
    "\n",
    "    plt.xlim(0,6.8) # 넓이가 0.8이라서 그럼\n",
    "    plt.ylim(0,1.5)\n",
    "    plt.axis('off')\n",
    "    # plt.close()\n",
    "\n",
    "\n",
    "day_rent(raw_data)"
   ]
  },
  {
   "cell_type": "markdown",
   "metadata": {},
   "source": [
    "> ### 자주 이용하는 대여소"
   ]
  },
  {
   "cell_type": "code",
   "execution_count": 37,
   "metadata": {},
   "outputs": [
    {
     "name": "stdout",
     "output_type": "stream",
     "text": [
      "[[0, 0, 1, 0.5], [0, 1, 1, 0.6], [0, 2, 1, 1.5]]\n"
     ]
    },
    {
     "data": {
      "image/png": "[encoded data removed]",
      "text/plain": [
       "<Figure size 576x288 with 1 Axes>"
      ]
     },
     "metadata": {
      "needs_background": "light"
     },
     "output_type": "display_data"
    }
   ],
   "source": [
    "# 반납 : filtered_data_end(=val 1), 대여 : filtered_data_start(=val 2)\n",
    "def frequent_station(filtered_data,val) :\n",
    "    data = filtered_data[val].groupby(f'st_id{val}').size().sort_values(ascending=False)[:3]\n",
    "    data_index = data.index\n",
    "    labels = [ bike_info.query('st_id == @i')['label'].iloc[0] for i in data_index]\n",
    "    data_numpy = data.to_numpy()\n",
    "    height = list(map(lambda x : round(((x-data_numpy.min())/(data_numpy.max()-data_numpy.min()))+0.5,2), data_numpy ))\n",
    "\n",
    "    bars = []\n",
    "    for num, w in enumerate(height[::-1]):\n",
    "        ist = [0, num, 1, w]  # x,y,h,w\n",
    "        bars.append(ist)\n",
    "    print(bars)\n",
    "    # 날짜\n",
    "    days = [\"월\", \"화\", \"수\", \"목\", \"금\", \"토\", \"일\"]\n",
    "\n",
    "    # plot\n",
    "    fig, ax = plt.subplots(figsize=(8, 4))\n",
    "\n",
    "    # bar = rect\n",
    "    for num, (bar, label) in enumerate(zip(bars, labels)):\n",
    "        x = bar[0]\n",
    "        y = bar[1]\n",
    "        h = bar[2]\n",
    "        w = bar[3]\n",
    "        color = [\"#A1C9EE\", \"#79B2E7\", \"#579FE1\"]  # full color, font-color\n",
    "        bbox = patches.FancyBboxPatch(\n",
    "            (x, y),\n",
    "            w,\n",
    "            h,\n",
    "            boxstyle=\"round,pad=-0.0001,rounding_size=0\",\n",
    "            ec=\"none\",\n",
    "            fc=color[num],\n",
    "            mutation_aspect=0.5,\n",
    "            # alpha=1\n",
    "        )\n",
    "        ax.add_patch(bbox)\n",
    "\n",
    "        # # 요일 넣기(padding고려해서 num으로 조정)\n",
    "        plt.text(\n",
    "            0.01, y + 0.4, f\"{label[:20]}\", fontdict={\"fontsize\": 14, \"color\": \"black\"}\n",
    "        )\n",
    "\n",
    "        # # 개수 넣기\n",
    "        # len(data)-1-num으로 한 이유는 역순으로 뽑아야 하기때문\n",
    "        plt.text(\n",
    "            1.4,\n",
    "            y + 0.25,\n",
    "            data.iloc[len(data) - 1 - num],\n",
    "            rotation=90,\n",
    "            fontdict={\"fontsize\": 14, \"color\": \"black\"},\n",
    "        )\n",
    "\n",
    "\n",
    "    plt.xlim(0, 1.5)  # 넓이가 0.8이라서 그럼\n",
    "    plt.ylim(0, 2.8)\n",
    "    plt.axis(\"off\")\n",
    "    # plt.close()\n",
    "\n",
    "frequent_station(raw_data,2)\n"
   ]
  },
  {
   "cell_type": "code",
   "execution_count": 38,
   "metadata": {},
   "outputs": [
    {
     "data": {
      "image/png": "[encoded data removed]",
      "text/plain": [
       "<Figure size 432x216 with 1 Axes>"
      ]
     },
     "metadata": {},
     "output_type": "display_data"
    }
   ],
   "source": [
    "def total_rent(filtered_data) :\n",
    "    fig, ax = plt.subplots(figsize=(6, 3), subplot_kw=dict(aspect=\"equal\"))\n",
    "\n",
    "    # 데이터 정제\n",
    "    a = len(filtered_data[1])\n",
    "    b = len(filtered_data[2])\n",
    "    percent = int(a / (a + b) * 100)\n",
    "\n",
    "    # plot에 필요한 변수 설정\n",
    "    tag = [f\"반납 : {percent}%\", f\"대여 :{100-percent}%\"]\n",
    "    data = [a, b]\n",
    "    wedge_properties = {\"edgecolor\": \"k\", \"linewidth\": 2}\n",
    "    bbox_props = dict(boxstyle=\"square,pad=0.3\", fc=\"w\", ec=\"k\", lw=0.72)\n",
    "    kw = dict(bbox=bbox_props, zorder=0, va=\"center\")\n",
    "\n",
    "    # pie plot\n",
    "    wedges, texts = ax.pie(\n",
    "        data,\n",
    "        wedgeprops=dict(width=0.3, edgecolor=\"k\", linewidth=0.5),\n",
    "        startangle=-40,\n",
    "        colors=[\"#79B2E7\", \"#DCDEDF\"],\n",
    "    )\n",
    "\n",
    "    # annotation 설정\n",
    "    for i, p in enumerate(wedges):\n",
    "        ang = (p.theta2 - p.theta1) / 2.0 + p.theta1\n",
    "        y = np.sin(np.deg2rad(ang))\n",
    "        x = np.cos(np.deg2rad(ang))\n",
    "        horizontalalignment = {-1: \"right\", 1: \"left\"}[int(np.sign(x))]\n",
    "        connectionstyle = \"angle,angleA=0,angleB={}\".format(ang)\n",
    "        # kw[\"arrowprops\"].update({\"connectionstyle\": connectionstyle})\n",
    "        ax.annotate(\n",
    "            tag[i],\n",
    "            xy=(x, y),\n",
    "            xytext=(1 * np.sign(x), 1 * y),\n",
    "            horizontalalignment=horizontalalignment,\n",
    "            **kw,\n",
    "        )\n",
    "        ax.text(-0.4, 0.05, \"대여소 이용\", fontdict={\"color\": \"white\"})\n",
    "        ax.text(-0.3, -0.15, f\"{a+b}건\", fontdict={\"color\": \"white\"})\n",
    "\n",
    "    # ax.set_title(\"Matplotlib bakery: A donut\")\n",
    "\n",
    "    # plt.close()\n",
    "\n",
    "total_rent(raw_data)"
   ]
  }
 ],
 "metadata": {
  "kernelspec": {
   "display_name": "Python 3.9.7 ('base')",
   "language": "python",
   "name": "python3"
  },
  "language_info": {
   "codemirror_mode": {
    "name": "ipython",
    "version": 3
   },
   "file_extension": ".py",
   "mimetype": "text/x-python",
   "name": "python",
   "nbconvert_exporter": "python",
   "pygments_lexer": "ipython3",
   "version": "3.9.7"
  },
  "orig_nbformat": 4,
  "vscode": {
   "interpreter": {
    "hash": "47be6c136d2b4a6c76f7d3db2f991a133eb39bf1d99b20f1b6e05e99edd1faf4"
   }
  }
 },
 "nbformat": 4,
 "nbformat_minor": 2
}
