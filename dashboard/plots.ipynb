{
 "cells": [
  {
   "cell_type": "code",
   "execution_count": 1,
   "metadata": {},
   "outputs": [
    {
     "data": {
      "text/plain": [
       "'/Users/yangwoolee/git_repo/seoul_bike_dash/dashboard'"
      ]
     },
     "execution_count": 1,
     "metadata": {},
     "output_type": "execute_result"
    }
   ],
   "source": [
    "from io import BytesIO\n",
    "import plotly\n",
    "import plotly.express as px\n",
    "import plotly.graph_objects as go\n",
    "import ast\n",
    "import pandas as pd\n",
    "import numpy as np\n",
    "import matplotlib.pyplot as plt\n",
    "import matplotlib.patches as patches\n",
    "from matplotlib import rc\n",
    "import matplotlib\n",
    "import base64\n",
    "import time\n",
    "import seaborn as sns\n",
    "import os\n",
    "from bs4 import BeautifulSoup\n",
    "rc('font', family='AppleGothic') \t\t\n",
    "plt.rcParams['axes.unicode_minus'] = False\n",
    "\n",
    "os.getcwd()"
   ]
  },
  {
   "cell_type": "code",
   "execution_count": 2,
   "metadata": {},
   "outputs": [],
   "source": [
    "filtered_data = pd.read_parquet('/Users/yangwoolee/git_repo/data/220607_bike_record.parquet.gzip')\n",
    "bike_info = pd.read_csv('/Users/yangwoolee/git_repo/data/static/options.csv', encoding='CP949')\n",
    "near_sub = pd.read_csv(\"/Users/yangwoolee/git_repo/data/static/near_sub_station.csv\", encoding=\"CP949\")\n",
    "station = pd.read_csv(\n",
    "    \"/Users/yangwoolee/git_repo/data/static/seoul_bike_station_01_12.csv\", encoding=\"CP949\")  "
   ]
  },
  {
   "cell_type": "markdown",
   "metadata": {},
   "source": [
    "> ### 기본 함수 및 변수\n",
    "raw_data(2022_06_15 수정)"
   ]
  },
  {
   "cell_type": "code",
   "execution_count": 9,
   "metadata": {},
   "outputs": [],
   "source": [
    "def raw_data(query_data,val) : \n",
    "        quert_st_id1 = query_data[query_data['st_id1']==val]\n",
    "        quert_st_id2 = query_data[query_data['st_id2']==val]\n",
    "        filtered_data = pd.concat([quert_st_id1,quert_st_id2],axis=0).drop_duplicates()\n",
    "        filtered_data.drop(columns='index',inplace=True)\n",
    "        bm = (filtered_data['st_id1'] == val) & (filtered_data['st_id2'] == val)\n",
    "        filtered_data = filtered_data[~bm]\n",
    "        # filtered_data.reset_index(drop=True, inplace=True)\n",
    "\n",
    "        # 대여\n",
    "        filtered_data_start = filtered_data[(filtered_data['st_id1'] ==val) & (filtered_data['st_id2'] !=val)]\n",
    "\n",
    "        # 반납\n",
    "        filtered_data_end = filtered_data[(filtered_data['st_id2'] ==val) & (filtered_data['st_id1'] !=val)]\n",
    "        \n",
    "        return [filtered_data,filtered_data_end,filtered_data_start]\n",
    "\n",
    "\n",
    "test_data = raw_data(filtered_data, 754)\n",
    "\n",
    "\n",
    "def haversine_np(lon1, lat1, lon2, lat2):\n",
    "    \"\"\"\n",
    "    Calculate the great circle distance between two points\n",
    "    on the earth (specified in decimal degrees)\n",
    "\n",
    "    All args must be of equal length.    \n",
    "\n",
    "    \"\"\"\n",
    "    lon1, lat1, lon2, lat2 = map(np.radians, [lon1, lat1, lon2, lat2])\n",
    "\n",
    "    dlon = lon2 - lon1\n",
    "    dlat = lat2 - lat1\n",
    "\n",
    "    a = np.sin(dlat / 2.0) ** 2 + np.cos(lat1) * np.cos(lat2) * np.sin(dlon / 2.0) ** 2\n",
    "\n",
    "    c = 2 * np.arcsin(np.sqrt(a))\n",
    "    m = 6367 * c * 1000\n",
    "    return m"
   ]
  },
  {
   "cell_type": "markdown",
   "metadata": {},
   "source": [
    "> ### day_rent(22_06_15)"
   ]
  },
  {
   "cell_type": "code",
   "execution_count": null,
   "metadata": {},
   "outputs": [],
   "source": [
    "def day_rent(filtered_data) :\n",
    "    # 일별 자전거 대여\n",
    "    filtered_data = filtered_data[0]\n",
    "    filtered_data['weekday'] = filtered_data['date'].dt.weekday\n",
    "    data = filtered_data.groupby('weekday').size()\n",
    "    data_numpy = data.to_numpy()\n",
    "\n",
    "    # max 요일\n",
    "    max_value= np.where(data_numpy == data_numpy.max())[0][0]\n",
    "\n",
    "    # 높이 normalize 후 0.5 더함( 0.5는 막대 길이를 의미함)\n",
    "    height = list(map(lambda x : round(((x-data_numpy.min())/(data_numpy.max()-data_numpy.min()))+0.5,2), data_numpy ))\n",
    "\n",
    "    # 사각형 정보\n",
    "    bars = []\n",
    "    for num, h in enumerate(height) :\n",
    "        ist = [num,0,h,0.8] # x,y,h,w\n",
    "        bars.append(ist)\n",
    "    #날짜\n",
    "    days = [\"Mon\",\"Tue\",\"Wed\",\"Thu\",\"Fri\",\"Sat\",\"Sun\"]\n",
    "    # days = [\"월\",\"화\",\"수\",\"목\",\"금\",\"토\",\"일\"]\n",
    "\n",
    "    # plot\n",
    "    fig, ax = plt.subplots(figsize=(8,8))\n",
    "\n",
    "    # bar = rect\n",
    "    for num,(bar, days) in enumerate(zip(bars, days)) :\n",
    "        x = bar[0]; y = bar[1]; h = bar[2];  w = bar[3]\n",
    "        #max\n",
    "        if num == max_value :\n",
    "            color = '#35C768' # full color, font-color\n",
    "        # 나머지\n",
    "        else : \n",
    "            color = '#EBEEF2' # full color, font-color\n",
    "        \n",
    "        bbox = patches.FancyBboxPatch(\n",
    "            (x,y),w,h,\n",
    "            boxstyle=\"round,pad=-0.01,rounding_size=0.0\",\n",
    "            ec=\"none\", fc=color,\n",
    "            mutation_aspect= 0.5,\n",
    "        )\n",
    "        ax.add_patch(bbox)\n",
    "\n",
    "        # 요일 넣기(padding고려해서 num으로 조정)\n",
    "        if days == 'Fri' :\n",
    "            plt.text(x+0.25, y-0.07, days, fontdict={'fontsize' : 14, 'color' :(0, 0, 0, 0.7)})\n",
    "        else :    \n",
    "            plt.text(x+0.15, y-0.07, days, fontdict={'fontsize' : 14, 'color' :(0, 0, 0, 0.7)})\n",
    "\n",
    "        # 개수 넣기\n",
    "        if data[num] > 10000 :\n",
    "            plt.text(x+0.02,h+0.02, data[num], fontdict={'fontsize' : 14, 'color' :(0, 0, 0, 0.7)})\n",
    "\n",
    "        elif 10000> data[num] > 1000 :\n",
    "            plt.text(x+0.07,h+0.02, data[num], fontdict={'fontsize' : 14, 'color' :(0, 0, 0, 0.7)})\n",
    "            \n",
    "        else :\n",
    "            plt.text(x+0.2,h+0.02, data[num], fontdict={'fontsize' : 14, 'color' :(0, 0, 0, 0.7)})\n",
    "\n",
    "    plt.xlim(-0.2,7) # 넓이가 0.8이라서 그럼\n",
    "    plt.ylim(0,2)\n",
    "    plt.axis('off')\n",
    "    # plt.close()\n",
    "\n",
    "    # return fig\n",
    "\n",
    "day_rent(test_data)"
   ]
  },
  {
   "cell_type": "markdown",
   "metadata": {},
   "source": [
    "> ### time_rent(22_06_15)"
   ]
  },
  {
   "cell_type": "code",
   "execution_count": 31,
   "metadata": {},
   "outputs": [
    {
     "data": {
      "image/png": "[encoded data removed]",
      "text/plain": [
       "<Figure size 576x576 with 1 Axes>"
      ]
     },
     "metadata": {
      "needs_background": "light"
     },
     "output_type": "display_data"
    }
   ],
   "source": [
    "def time_rent(filtered_data) :\n",
    "    # date 나눔\n",
    "    time_data = test_data[0]['date']\n",
    "\n",
    "    # 평일 주말 구분\n",
    "    weekday = time_data.dt.weekday.isin([0,1,2,3,4])\n",
    "    weekend = time_data.dt.weekday.isin([5,6])\n",
    "    asd ='주말'\n",
    "\n",
    "    a = time_data[weekend].dt.hour\n",
    "    bins = [-1, 5, 8, 11, 14, 17, 20, 23]\n",
    "    time=['0-5','6-8','9-11','12-14','15-17','18-20','21-23']\n",
    "    data = a.groupby(pd.cut(a, bins=bins, labels=time)).size()\n",
    "    data_numpy = data.to_numpy()\n",
    "\n",
    "    # max 요일\n",
    "    max_value= np.where(data_numpy == data_numpy.max())[0][0]\n",
    "\n",
    "    # 높이 normalize 후 0.5 더함( 0.5는 막대 길이를 의미함)\n",
    "    height = list(map(lambda x : round(((x-data_numpy.min())/(data_numpy.max()-data_numpy.min()))+0.5,2), data_numpy ))\n",
    "\n",
    "    bars = []\n",
    "    for num, h in enumerate(height) :\n",
    "        ist = [num,0,h,0.9] # x,y,h,w\n",
    "        bars.append(ist)\n",
    "\n",
    "    # plot\n",
    "    fig, ax = plt.subplots(figsize=(8,8))\n",
    "\n",
    "    # bar = rect\n",
    "    for num,(bar, time) in enumerate(zip(bars, time)) :\n",
    "        x = bar[0]; y = bar[1]; h = bar[2];  w = bar[3]\n",
    "        #max\n",
    "        if num == max_value :\n",
    "            color = '#35C768' # bg-color\n",
    "        # 나머지\n",
    "        else : \n",
    "            color = '#EBEEF2' # bg-color\n",
    "        \n",
    "        bbox = patches.FancyBboxPatch(\n",
    "            (x,y),w,h,\n",
    "            boxstyle=\"round,pad=-0.01,rounding_size=0.0\",\n",
    "            ec=\"none\", fc=color,\n",
    "            mutation_aspect= 0.5,\n",
    "        )\n",
    "        ax.add_patch(bbox)\n",
    "\n",
    "        # 요일 넣기(padding고려해서 num으로 조정)\n",
    "        if len(time) > 4 :\n",
    "            plt.text(x+0.1, y-0.07, time, fontdict={'fontsize' : 13, 'color' :(0, 0, 0, 0.7)})\n",
    "        else :    \n",
    "            plt.text(x+0.15, y-0.07, time, fontdict={'fontsize' : 14, 'color' :(0, 0, 0, 0.7)})\n",
    "\n",
    "        # 개수 넣기\n",
    "        if data[num] > 10000 :\n",
    "            plt.text(x+0.02,h+0.02, data[num], fontdict={'fontsize' : 14, 'color' :(0, 0, 0, 0.7)})\n",
    "\n",
    "        elif 10000> data[num] > 1000 :\n",
    "            plt.text(x+0.07,h+0.02, data[num], fontdict={'fontsize' : 14, 'color' :(0, 0, 0, 0.7)})\n",
    "            \n",
    "        else :\n",
    "            plt.text(x+0.2,h+0.02, data[num], fontdict={'fontsize' : 14, 'color' :(0, 0, 0, 0.7)})\n",
    "\n",
    "    plt.xlim(-0.2,7) # 넓이가 0.8이라서 그럼\n",
    "    plt.ylim(0,2)\n",
    "    plt.axis('off')\n",
    "time_rent(test_data)"
   ]
  },
  {
   "cell_type": "code",
   "execution_count": 71,
   "metadata": {},
   "outputs": [
    {
     "data": {
      "image/png": "[encoded data removed]",
      "text/plain": [
       "<Figure size 432x288 with 1 Axes>"
      ]
     },
     "metadata": {},
     "output_type": "display_data"
    }
   ],
   "source": [
    "def total_rent(filtered_data) :\n",
    "    # 데이터 정제\n",
    "    a = len(filtered_data[1])\n",
    "    b = len(filtered_data[2])\n",
    "    percent = int(a / (a + b) * 100)\n",
    "\n",
    "    ratio = [percent, 100-percent]\n",
    "    colors = ['#35C768','#35c76880']\n",
    "    plt.pie(ratio,startangle=270, autopct='%.1f%%',colors=colors, textprops=dict(color=\"w\"))\n",
    "    # plt.legend(['대여','반납'], bbox_to_anchor=(1,1), borderpad=0, framealpha=0) ## 범례 표시\n",
    "    texts = [\"대여\", \"반납\"]\n",
    "    patches = [plt.plot([],[], marker=\"o\", ms=10, ls=\"\", mec=None, color=colors[i], \n",
    "            label=\"{:s}\".format(texts[i]) )[0]  for i in range(len(texts)) ]\n",
    "    plt.legend(handles=patches, bbox_to_anchor=(1, 1), \n",
    "           loc='center', facecolor=\"white\", framealpha=0 )\n",
    "total_rent(test_data)"
   ]
  },
  {
   "cell_type": "markdown",
   "metadata": {},
   "source": [
    "> ### recommend_sub_station(22_05_15)"
   ]
  },
  {
   "cell_type": "code",
   "execution_count": null,
   "metadata": {},
   "outputs": [],
   "source": [
    "class recommend_sub_station:\n",
    "    def __init__(self, filtered_data, stat_id, near_sub, station, bike_info, num=20):\n",
    "        \"\"\"\n",
    "\n",
    "        해당 대여소에서 자주 이용하는 지하철역과 그 주변에 있는 따릉이 대여소를 추천하는 매서드임.\n",
    "        filtered_data는 원하는 대여소가 sorting 된 DataFrame이 필요함.\n",
    "        \n",
    "        filter_start는 \"대여소\" 또는 \"역\"만 올 수 있음.\n",
    "\n",
    "        \"\"\"\n",
    "        self.stat_id = stat_id\n",
    "        self.near_sub = near_sub\n",
    "        self.station = station\n",
    "        self.filtered_data = filtered_data\n",
    "        self.bike_info = bike_info\n",
    "\n",
    "        print(self.bike_info.query('value == @self.stat_id').label)\n",
    "        \"\"\"\n",
    "        개별 대여소별로 해당 대여소와 얼마나 교류가 있는지 확인한다.\n",
    "        \"\"\"\n",
    "\n",
    "        # ex) 기준대여소 to 다른 대여소 (1to2)\n",
    "        total_num_left = filtered_data[filtered_data[\"st_id1\"] == stat_id][\n",
    "            \"st_id2\"\n",
    "        ].value_counts()\n",
    "\n",
    "        # ex) 다른 대여소 to 기준대여소 (2to1)\n",
    "        total_num_right = filtered_data[filtered_data[\"st_id2\"] == stat_id][\n",
    "            \"st_id1\"\n",
    "        ].value_counts()\n",
    "\n",
    "        # 1to2, 2to1 합치기\n",
    "        combine_values = pd.concat([total_num_left, total_num_right], axis=1)\n",
    "        combine_values.fillna((1), inplace=True)\n",
    "        combine_values.rename(columns=dict(st_id2=\"1to2\", st_id1=\"2to1\"), inplace=True)\n",
    "\n",
    "        # 계산 결과 종합\n",
    "        result_concat = (\n",
    "            combine_values.reset_index().groupby(\"index\")[[\"1to2\", \"2to1\"]].sum()\n",
    "        )\n",
    "\n",
    "        \"\"\"\n",
    "        역 주변 대여소로 특정할 경우 역과 관련된 따릉이 대여소는 제외하는 기능 추가\n",
    "        \"\"\"\n",
    "        # 역 주변 대여소가 검색될 때 해당역 주변 대여소는 제거한다. | 316 대여소는 종각역과 관련됐는데, 종각과 관련된 대여소는 제거했다.\n",
    "        try:\n",
    "            filter_sub = near_sub.query(\"bi_st_id == @stat_id\")[\"sub_name\"].iloc[0]\n",
    "            filter_sub_2 = near_sub.query(\"sub_name ==@filter_sub\")[\"bi_st_id\"].values\n",
    "            result_concat = result_concat[~result_concat.index.isin(filter_sub_2)]\n",
    "        except:\n",
    "            pass\n",
    "\n",
    "        \"\"\"\n",
    "        총 이동횟수를 구한 뒤 50회 미만인 대여소는 이동량이 없다고 판단.\n",
    "        \"\"\"\n",
    "\n",
    "        # 이동기록 기록 50건 이하 제거\n",
    "        count_rent = 50\n",
    "        result_concat = result_concat[\n",
    "            (result_concat[\"1to2\"] > count_rent) | (result_concat[\"2to1\"] > count_rent)\n",
    "        ]\n",
    "\n",
    "        ### 지하철만 모은건데 전체 대여소를 설정하는게 더 좋다고 생각해서 아래와 같이 변경하였음.\n",
    "        # 지하철역 인근 따릉이 대여소 정보와 종합\n",
    "        # sorted_sub = pd.merge(\n",
    "        #     result_concat,\n",
    "        #     near_sub,\n",
    "        #     how=\"left\",\n",
    "        #     left_on=result_concat.index,\n",
    "        #     right_on=\"bi_st_id\",\n",
    "        # ).dropna(subset=[\"sub_name\"])\n",
    "        # self.asd= sorted_sub.copy()\n",
    "\n",
    "        sorted_sub = pd.merge(\n",
    "            result_concat,\n",
    "            near_sub,\n",
    "            how=\"left\",\n",
    "            left_on=result_concat.index,\n",
    "            right_on=\"bi_st_id\",\n",
    "        ).sort_values(by=['1to2'],ascending=False)\n",
    "        # sorted_sub = pd.merge(\n",
    "        #     result_concat,\n",
    "        #     near_sub,\n",
    "        #     how=\"left\",\n",
    "        #     left_on=result_concat.index,\n",
    "        #     right_on=\"bi_st_id\",\n",
    "        # ).sort_values(by=['1to2'],ascending=False)[:50]\n",
    "\n",
    "        \"\"\"\n",
    "        대여소를 기준으로 다른 대여소와 거리 계산 \n",
    "        \"\"\"\n",
    "        # 기준 대여소와 역근처 대여소 직선 거리계산\n",
    "        station_lat_lon = station[station[\"st_id\"].isin(sorted_sub[\"bi_st_id\"])][\n",
    "            [\"st_id\", \"st_name\", \"latitude\", \"longtitude\"]\n",
    "        ]\n",
    "\n",
    "        dist_to_station = haversine_np(\n",
    "            station.loc[station[\"st_id\"] == stat_id, \"longtitude\"].values,\n",
    "            station.loc[station[\"st_id\"] == stat_id, \"latitude\"].values,\n",
    "            station_lat_lon[\"longtitude\"].values,\n",
    "            station_lat_lon[\"latitude\"].values,\n",
    "        )\n",
    "        station_lat_lon[\"distance\"] = dist_to_station\n",
    "\n",
    "        #  해당 대여소와의 거리정보 종합\n",
    "        sorted_sub = pd.merge(\n",
    "            sorted_sub, station_lat_lon, left_on=\"bi_st_id\", right_on=\"st_id\"\n",
    "        ).drop(columns=[\"st_id\"])\n",
    "\n",
    "        \"\"\"\n",
    "        연산 속도를 줄이기 위해 top num개 대여소만 선정\n",
    "        \"\"\"\n",
    "        sorted_sub[\"total\"] = sorted_sub[\"1to2\"] + sorted_sub[\"2to1\"]\n",
    "        sorted_sub = sorted_sub.sort_values(by=\"total\", ascending=False)[\n",
    "            :num\n",
    "        ]  #####################\n",
    "        self.test_val = sorted_sub\n",
    "\n",
    "        \"\"\"\n",
    "        가는 시간 및 거리 계산\n",
    "        \"\"\"\n",
    "        # 대여소별 예상 도착시간 계산\n",
    "        result_station = []\n",
    "        for j in sorted_sub['bi_st_id'] : \n",
    "            BM = (test_data[0][\"st_id2\"] == j)\n",
    "            st_id1_time = (\n",
    "                test_data[0][BM][\"riding_time\"]\n",
    "                .value_counts()\n",
    "                .sort_values(ascending=False)\n",
    "            )\n",
    "            BM = (test_data[0][\"st_id1\"] == j)\n",
    "            st_id2_time = (\n",
    "                test_data[0][BM][\"riding_time\"]\n",
    "                .value_counts()\n",
    "                .sort_values(ascending=False)\n",
    "            )\n",
    "\n",
    "            ### 1to2 걸린시간 + 2to1 걸린시간 합\n",
    "            all_rent =  st_id1_time.add(st_id2_time, fill_value=0)\n",
    "\n",
    "            ### 1to2 & 2to1 대여기록 합\n",
    "            total_record = all_rent.sum()\n",
    "\n",
    "            k=[]\n",
    "            i=2\n",
    "            ### 기록 많은 순만 종합\n",
    "            while len(k) < 1 :\n",
    "                k = all_rent[all_rent>= (total_record/i)]\n",
    "                i=i*1.5\n",
    "                \n",
    "            ### 대여시간 \n",
    "            ind = k.index\n",
    "            ### 대여기록\n",
    "            val = k.values\n",
    "            ### 대여기록 합\n",
    "            a = k.sum()\n",
    "            ### 대여시간 * 대여기록\n",
    "            asddd = sum([ a*b for a,b in zip(ind,val)])\n",
    "            # 평균 시간\n",
    "            ddddd = asddd/a\n",
    "\n",
    "            # 올림 \n",
    "            result = round(ddddd,0)\n",
    "            result_station.append(result)\n",
    "\n",
    "        # 예상시간정보 종합(대여소: 대여소에서 출발)\n",
    "        est_time = pd.DataFrame(result_station, columns=[\"대여소\"])\n",
    "\n",
    "        # return 자료 생성\n",
    "        self.nearest_sub = pd.concat(\n",
    "            [sorted_sub.reset_index(drop=True), est_time], axis=1\n",
    "        )\n",
    "\n",
    "        b= self.nearest_sub.sub_name.isna()\n",
    "\n",
    "        var = np.where(b==True,'자주가는 대여소','자주가는 지하철역')\n",
    "\n",
    "        self.nearest_sub['color']=var\n",
    "\n",
    "\n",
    "    def table_info(self):\n",
    "\n",
    "        # 대여소 예상시간 테이블 만들기\n",
    "        nearest_sub_sorted = (\n",
    "            self.nearest_sub[\n",
    "                [\"sub_name\", '대여소']\n",
    "            ]\n",
    "        ).dropna(subset='sub_name').drop_duplicates(subset='sub_name')\n",
    "        nearest_sub_sorted.columns = [\"역이름\", \"예상시간\"]\n",
    "\n",
    "        nearest_sub_sorted[\"예상시간\"] = nearest_sub_sorted[\"예상시간\"].apply(\n",
    "            lambda x: str(int(x)) + \"분\"\n",
    "        )\n",
    "\n",
    "        return nearest_sub_sorted\n",
    "\n",
    "    def frequent_estimation(self ,num=30) : \n",
    "        data = (\n",
    "        self.nearest_sub\n",
    "        .query('color == \"자주가는 대여소\"')[:num]\n",
    "        )\n",
    "        data_index = data.bi_st_id.to_list()\n",
    "\n",
    "        # labels = bike_info.query('value == @data_index')\n",
    "        est_time = data[['st_name','대여소']]\n",
    "        est_time.columns = ['대여소 이름', '예상시간']\n",
    "        # result = pd.merge(labels, est_time, how='left', left_on='value',right_on='bi_st_id').sort_values(by='total',ascending=False)\n",
    "        return est_time\n",
    "\n",
    "\n",
    "    def plotly_image(self):\n",
    "\n",
    "        # figure 만들기\n",
    "        fig = px.scatter_mapbox(\n",
    "            self.nearest_sub,\n",
    "            lat=\"latitude\",\n",
    "            lon=\"longtitude\",\n",
    "            # hover_data={'latitude':False,'longtitude':False,'st_name':True},\n",
    "            opacity=0.8,\n",
    "            # size='total', size_max=20,\n",
    "            zoom=13,\n",
    "            custom_data=['st_name','대여소','total','distance'],\n",
    "            color='color',\n",
    "            color_discrete_sequence=[\"green\", \"brown\"],\n",
    "        )\n",
    "        # marker 정보\n",
    "        # fig.for_each_trace(lambda t: t.update(name=\"<b>\" + t.name + \"</b>\"))\n",
    "        fig.update_traces(marker={\"size\": 9},hovertemplate=\"대여소 : %{customdata[0]} <br>예상시간 : %{customdata[1]}분 <br>대여기록 : %{customdata[2]}건\")\n",
    "\n",
    "        # 해당 따릉이 대여소 색 표시\n",
    "        fig_2 = go.Figure(\n",
    "            go.Scattermapbox(\n",
    "                lat=self.station.query(\"st_id==@self.stat_id\")[\"latitude\"],\n",
    "                lon=self.station.query(\"st_id==@self.stat_id\")[\"longtitude\"],\n",
    "                mode=\"markers\",\n",
    "                marker={\"size\": 20, \"color\": \"black\", \"opacity\": 0.3},\n",
    "                showlegend=False\n",
    "            )\n",
    "        )\n",
    "        fig_2.update_traces(hoverinfo='skip')\n",
    "        fig.add_trace(fig_2.data[0])\n",
    "\n",
    "        # 해당 따릉이 대여소 둘레 표시\n",
    "        fig_3 = go.Figure(\n",
    "            go.Scattermapbox(\n",
    "                name=\"\",\n",
    "                lat=self.station.query(\"st_id==@self.stat_id\")[\"latitude\"],\n",
    "                lon=self.station.query(\"st_id==@self.stat_id\")[\"longtitude\"],\n",
    "                mode=\"markers\",\n",
    "                marker={\"size\": 9, \"color\": \"red\", \"opacity\": 0.9},\n",
    "                text=self.bike_info.query(\"value==@self.stat_id\")[\"label\"].values,\n",
    "                hovertemplate = \"%{text}\",\n",
    "                showlegend=False\n",
    "            )\n",
    "        )\n",
    "        # fig_3.update_traces(hoverinfo='skip',hovertemplate=None)\n",
    "        fig.add_trace(fig_3.data[0])\n",
    "        \n",
    "\n",
    "        # 지도 정보 업데이트\n",
    "        # fig.update_traces(hoverinfo='skip',hovertemplate=None)\n",
    "        fig.update_layout(\n",
    "            margin=dict(l=0, r=0, t=0, b=0),\n",
    "                mapbox=dict(\n",
    "                accesstoken=\"pk.eyJ1IjoieWFuZ29vcyIsImEiOiJjbDNqd2tkN2IwbGdmM2pvNzF0c2M4NnZkIn0.J3IjPYg3w28cGiWkUD7bnA\",\n",
    "                style='mapbox://styles/yangoos/cl4cljdka001o14n3cll7whrh/draft'\n",
    "            ),\n",
    "            legend=dict(\n",
    "                yanchor=\"top\",\n",
    "                y=0.98,\n",
    "                xanchor=\"right\",\n",
    "                x=0.98,\n",
    "                bgcolor=\"rgba(223, 235, 223, 0.8)\",\n",
    "                title={'text': None}\n",
    "            ),\n",
    "        )\n",
    "        fig.show()\n",
    "        # off_plot = plotly.io.to_html(\n",
    "        #     fig,\n",
    "        #     config=dict(displayModeBar=False),\n",
    "        #     include_plotlyjs=False,\n",
    "        #     full_html=True,\n",
    "        #     include_mathjax=False,\n",
    "        # )\n",
    "        # bs = BeautifulSoup(off_plot, features=\"html.parser\")\n",
    "        # div_data = bs.find(\"div\", \"plotly-graph-div\")\n",
    "        # script_data = bs.find(\"script\").text.replace(\" \", \"\")\n",
    "        # context = {\"div_data\": str(div_data), \"script_data\": str(script_data)}\n",
    "        # return context\n",
    "\n",
    "\n",
    "sorted_sub = recommend_sub_station(test_data[0],754,near_sub, station, bike_info).test_val\n",
    "# sorted_sub = recommend_sub_station(test_data[0],141,near_sub, station, bike_info).table_info()\n",
    "\n",
    "\n"
   ]
  },
  {
   "cell_type": "code",
   "execution_count": 23,
   "metadata": {},
   "outputs": [
    {
     "data": {
      "text/html": [
       "<div>\n",
       "<style scoped>\n",
       "    .dataframe tbody tr th:only-of-type {\n",
       "        vertical-align: middle;\n",
       "    }\n",
       "\n",
       "    .dataframe tbody tr th {\n",
       "        vertical-align: top;\n",
       "    }\n",
       "\n",
       "    .dataframe thead th {\n",
       "        text-align: right;\n",
       "    }\n",
       "</style>\n",
       "<table border=\"1\" class=\"dataframe\">\n",
       "  <thead>\n",
       "    <tr style=\"text-align: right;\">\n",
       "      <th></th>\n",
       "      <th>1to2</th>\n",
       "      <th>2to1</th>\n",
       "      <th>bi_st_id</th>\n",
       "      <th>sub_st_id</th>\n",
       "      <th>sub_name</th>\n",
       "      <th>sub_line</th>\n",
       "      <th>sub_long</th>\n",
       "      <th>sub_lat</th>\n",
       "      <th>st_name</th>\n",
       "      <th>latitude</th>\n",
       "      <th>longtitude</th>\n",
       "      <th>distance</th>\n",
       "      <th>total</th>\n",
       "    </tr>\n",
       "  </thead>\n",
       "  <tbody>\n",
       "    <tr>\n",
       "      <th>0</th>\n",
       "      <td>3385.0</td>\n",
       "      <td>2681.0</td>\n",
       "      <td>744</td>\n",
       "      <td>4111</td>\n",
       "      <td>신목동</td>\n",
       "      <td>9호선</td>\n",
       "      <td>126.883080</td>\n",
       "      <td>37.544277</td>\n",
       "      <td>신목동역 2번 출구</td>\n",
       "      <td>37.543842</td>\n",
       "      <td>126.882545</td>\n",
       "      <td>597.711355</td>\n",
       "      <td>6066.0</td>\n",
       "    </tr>\n",
       "    <tr>\n",
       "      <th>5</th>\n",
       "      <td>440.0</td>\n",
       "      <td>719.0</td>\n",
       "      <td>766</td>\n",
       "      <td>4111</td>\n",
       "      <td>신목동</td>\n",
       "      <td>9호선</td>\n",
       "      <td>126.883080</td>\n",
       "      <td>37.544277</td>\n",
       "      <td>신목동역 3번출구</td>\n",
       "      <td>37.544260</td>\n",
       "      <td>126.883250</td>\n",
       "      <td>674.811933</td>\n",
       "      <td>1159.0</td>\n",
       "    </tr>\n",
       "    <tr>\n",
       "      <th>14</th>\n",
       "      <td>214.0</td>\n",
       "      <td>509.0</td>\n",
       "      <td>773</td>\n",
       "      <td>4110</td>\n",
       "      <td>염창</td>\n",
       "      <td>9호선</td>\n",
       "      <td>126.874916</td>\n",
       "      <td>37.546936</td>\n",
       "      <td>염창역 3, 4번 출구 사이</td>\n",
       "      <td>37.546707</td>\n",
       "      <td>126.874573</td>\n",
       "      <td>645.625170</td>\n",
       "      <td>723.0</td>\n",
       "    </tr>\n",
       "    <tr>\n",
       "      <th>12</th>\n",
       "      <td>234.0</td>\n",
       "      <td>332.0</td>\n",
       "      <td>765</td>\n",
       "      <td>2522</td>\n",
       "      <td>오목교</td>\n",
       "      <td>5호선</td>\n",
       "      <td>126.875181</td>\n",
       "      <td>37.524496</td>\n",
       "      <td>오목교역 3번출구</td>\n",
       "      <td>37.524776</td>\n",
       "      <td>126.875481</td>\n",
       "      <td>1821.730026</td>\n",
       "      <td>566.0</td>\n",
       "    </tr>\n",
       "    <tr>\n",
       "      <th>17</th>\n",
       "      <td>149.0</td>\n",
       "      <td>124.0</td>\n",
       "      <td>770</td>\n",
       "      <td>2521</td>\n",
       "      <td>목동</td>\n",
       "      <td>5호선</td>\n",
       "      <td>126.864931</td>\n",
       "      <td>37.526065</td>\n",
       "      <td>목동역5번출구 교통정보센터 앞</td>\n",
       "      <td>37.525715</td>\n",
       "      <td>126.864868</td>\n",
       "      <td>2005.496748</td>\n",
       "      <td>273.0</td>\n",
       "    </tr>\n",
       "  </tbody>\n",
       "</table>\n",
       "</div>"
      ],
      "text/plain": [
       "      1to2    2to1  bi_st_id  sub_st_id sub_name sub_line    sub_long  \\\n",
       "0   3385.0  2681.0       744       4111      신목동      9호선  126.883080   \n",
       "5    440.0   719.0       766       4111      신목동      9호선  126.883080   \n",
       "14   214.0   509.0       773       4110       염창      9호선  126.874916   \n",
       "12   234.0   332.0       765       2522      오목교      5호선  126.875181   \n",
       "17   149.0   124.0       770       2521       목동      5호선  126.864931   \n",
       "\n",
       "      sub_lat           st_name   latitude  longtitude     distance   total  \n",
       "0   37.544277        신목동역 2번 출구  37.543842  126.882545   597.711355  6066.0  \n",
       "5   37.544277         신목동역 3번출구  37.544260  126.883250   674.811933  1159.0  \n",
       "14  37.546936   염창역 3, 4번 출구 사이  37.546707  126.874573   645.625170   723.0  \n",
       "12  37.524496         오목교역 3번출구  37.524776  126.875481  1821.730026   566.0  \n",
       "17  37.526065  목동역5번출구 교통정보센터 앞  37.525715  126.864868  2005.496748   273.0  "
      ]
     },
     "execution_count": 23,
     "metadata": {},
     "output_type": "execute_result"
    }
   ],
   "source": [
    "sorted_sub.dropna(subset='sub_name').head(10)"
   ]
  },
  {
   "cell_type": "code",
   "execution_count": 277,
   "metadata": {},
   "outputs": [
    {
     "name": "stdout",
     "output_type": "stream",
     "text": [
      "36    141 : 연대 대운동장 옆\n",
      "Name: label, dtype: object\n",
      "128 5.0\n",
      "3116 5.0\n",
      "134 5.0\n",
      "3119 3.0\n",
      "135 5.0\n",
      "116 6.0\n",
      "138 3.0\n",
      "3010 8.0\n",
      "421 20.0\n",
      "196 5.0\n",
      "137 8.0\n",
      "498 8.0\n",
      "191 16.0\n",
      "125 9.0\n",
      "114 10.0\n",
      "162 8.0\n",
      "3107 6.0\n",
      "130 7.0\n",
      "115 7.0\n",
      "167 16.0\n"
     ]
    }
   ],
   "source": [
    "def raw_data(query_data,val) : \n",
    "        quert_st_id1 = query_data[query_data['st_id1']==val]\n",
    "        quert_st_id2 = query_data[query_data['st_id2']==val]\n",
    "        filtered_data = pd.concat([quert_st_id1,quert_st_id2],axis=0).drop_duplicates()\n",
    "        filtered_data.drop(columns='index',inplace=True)\n",
    "        bm = (filtered_data['st_id1'] == val) & (filtered_data['st_id2'] == val)\n",
    "        filtered_data = filtered_data[~bm]\n",
    "        # filtered_data.reset_index(drop=True, inplace=True)\n",
    "\n",
    "        # 대여\n",
    "        filtered_data_start = filtered_data[(filtered_data['st_id1'] ==val) & (filtered_data['st_id2'] !=val)]\n",
    "\n",
    "        # 반납\n",
    "        filtered_data_end = filtered_data[(filtered_data['st_id2'] ==val) & (filtered_data['st_id1'] !=val)]\n",
    "        \n",
    "        return [filtered_data,filtered_data_end,filtered_data_start]\n",
    "\n",
    "\n",
    "num = 141\n",
    "\n",
    "test_data = raw_data(filtered_data, num)\n",
    "\n",
    "\n",
    "sorted_sub = recommend_sub_station(test_data[0],num,near_sub, station, bike_info).test_val\n",
    "\n",
    "for j in sorted_sub['bi_st_id'] : \n",
    "    BM = (test_data[0][\"st_id2\"] == j)\n",
    "    st_id1_time = (\n",
    "        test_data[0][BM][\"riding_time\"]\n",
    "        .value_counts()\n",
    "        .sort_values(ascending=False)\n",
    "    )\n",
    "    BM = (test_data[0][\"st_id1\"] == j)\n",
    "    st_id2_time = (\n",
    "        test_data[0][BM][\"riding_time\"]\n",
    "        .value_counts()\n",
    "        .sort_values(ascending=False)\n",
    "    )\n",
    "\n",
    "    ### 1to2 걸린시간 + 2to1 걸린시간 합\n",
    "    # print(st_id1_time.sum(),st_id2_time.sum())\n",
    "    all_rent =  st_id1_time.add(st_id2_time, fill_value=0)\n",
    "\n",
    "    ### 1to2 & 2to1 대여기록 합\n",
    "    total_record = all_rent.sum()\n",
    "\n",
    "    k=[]\n",
    "    i=2\n",
    "    ### 기록 많은 순만 종합\n",
    "    while len(k) < 1 :\n",
    "        k = all_rent[all_rent>= (total_record/i)]\n",
    "        i=i*1.5\n",
    "    # print(len(k))\n",
    "        \n",
    "    ### 대여시간 \n",
    "    ind = k.index\n",
    "    ### 대여기록\n",
    "    val = k.values\n",
    "    ### 대여기록 합\n",
    "    a = k.sum()\n",
    "    # print('대여기록' ,a)\n",
    "    ### 대여시간 * 대여기록\n",
    "    asddd = sum([ a*b for a,b in zip(ind,val)])\n",
    "    # print('대여시간' ,asddd)\n",
    "    # 평균 시간\n",
    "    ddddd = asddd/a\n",
    "\n",
    "    # 올림 \n",
    "    result = round(ddddd,0)\n",
    "    print(j,result)\n"
   ]
  },
  {
   "cell_type": "code",
   "execution_count": 191,
   "metadata": {},
   "outputs": [
    {
     "data": {
      "text/plain": [
       "a    2.0\n",
       "b    4.0\n",
       "c    3.0\n",
       "d    3.0\n",
       "f    8.0\n",
       "dtype: float64"
      ]
     },
     "execution_count": 191,
     "metadata": {},
     "output_type": "execute_result"
    }
   ],
   "source": [
    "a = pd.Series({'a':1,'b':2,'c':3,'f':4})\n",
    "b = pd.Series({'a':1,'b':2,'d':3,'f':4})\n",
    "a.add(b, fill_value=0)"
   ]
  },
  {
   "cell_type": "code",
   "execution_count": 278,
   "metadata": {},
   "outputs": [
    {
     "data": {
      "text/html": [
       "<div>\n",
       "<style scoped>\n",
       "    .dataframe tbody tr th:only-of-type {\n",
       "        vertical-align: middle;\n",
       "    }\n",
       "\n",
       "    .dataframe tbody tr th {\n",
       "        vertical-align: top;\n",
       "    }\n",
       "\n",
       "    .dataframe thead th {\n",
       "        text-align: right;\n",
       "    }\n",
       "</style>\n",
       "<table border=\"1\" class=\"dataframe\">\n",
       "  <thead>\n",
       "    <tr style=\"text-align: right;\">\n",
       "      <th></th>\n",
       "      <th>Unnamed: 0</th>\n",
       "      <th>value</th>\n",
       "      <th>label</th>\n",
       "    </tr>\n",
       "  </thead>\n",
       "  <tbody>\n",
       "    <tr>\n",
       "      <th>22</th>\n",
       "      <td>22</td>\n",
       "      <td>125</td>\n",
       "      <td>125 : 서강대 남문 옆</td>\n",
       "    </tr>\n",
       "  </tbody>\n",
       "</table>\n",
       "</div>"
      ],
      "text/plain": [
       "    Unnamed: 0  value           label\n",
       "22          22    125  125 : 서강대 남문 옆"
      ]
     },
     "execution_count": 278,
     "metadata": {},
     "output_type": "execute_result"
    }
   ],
   "source": [
    "bike_info[bike_info.label.str.contains('서강대 남문')]"
   ]
  },
  {
   "cell_type": "code",
   "execution_count": 242,
   "metadata": {},
   "outputs": [
    {
     "name": "stdout",
     "output_type": "stream",
     "text": [
      "393    565 : 옥수역 3번출구\n",
      "Name: label, dtype: object\n"
     ]
    },
    {
     "data": {
      "application/vnd.plotly.v1+json": {
       "config": {
        "plotlyServerURL": "https://plot.ly"
       },
       "data": [
        {
         "customdata": [
          [
           "응봉역 1번출구",
           10,
           4774,
           1889.0431715059922
          ],
          [
           "금호나들목",
           4,
           3237,
           571.6218469609488
          ],
          [
           "한남나들목 입구",
           9,
           2723,
           1672.5214466206753
          ],
          [
           "청계천 생태교실 앞",
           22.3,
           2597,
           3920.7804288878774
          ],
          [
           "금호스포츠센터앞",
           7,
           2052,
           837.7657475565738
          ],
          [
           "서빙고동 주민센터 앞",
           17,
           1679,
           3116.3808181199083
          ],
          [
           "서울숲 관리사무소",
           44.7,
           1123,
           2157.9146679058003
          ],
          [
           "성수2가1동 공영주차장 인근",
           19.7,
           946,
           3371.352998195237
          ],
          [
           "한남 유수지 복개주차장",
           9,
           931,
           1536.0481988358858
          ],
          [
           "한신16차아파트 119동 앞",
           31.7,
           884,
           2842.466445257107
          ],
          [
           "보광동 삼성리버빌아파트 앞",
           15.3,
           834,
           2399.913460357093
          ],
          [
           "한양대병원사거리",
           15,
           722,
           2726.8344105885703
          ],
          [
           "반포쇼핑타운 2동 앞",
           28.3,
           714,
           4201.644830889634
          ],
          [
           "현대고등학교 건너편",
           30.7,
           693,
           1955.7048974674606
          ],
          [
           "LG한강 자이아파트 앞",
           29,
           642,
           4711.702769183815
          ],
          [
           "이마트 버스정류소 옆",
           25,
           636,
           3083.3988482828845
          ],
          [
           "래미안금호하이리버 아파트 102동 옆",
           13,
           621,
           1369.1351014580318
          ],
          [
           "서울숲 남문 버스정류소 옆",
           20.7,
           580,
           2303.1431311857878
          ]
         ],
         "hovertemplate": "대여소 : %{customdata[0]} <br>예상시간 : %{customdata[1]}분 <br>대여기록 : %{customdata[2]}건",
         "lat": [
          37.55125,
          37.544041,
          37.52906,
          37.56797028,
          37.546089,
          37.520336,
          37.542816,
          37.536808,
          37.530167,
          37.516598,
          37.52401,
          37.558052,
          37.505608,
          37.524071,
          37.520695,
          37.539654,
          37.5522,
          37.541222
         ],
         "legendgroup": "자주가는 대여소",
         "lon": [
          127.035103,
          127.023201,
          127.006729,
          127.0468903,
          127.02507,
          126.994263,
          127.042084,
          127.055489,
          127.007439,
          127.00959,
          127.00145,
          127.040352,
          127.002159,
          127.02179,
          126.970978,
          127.052589,
          127.025055,
          127.0438
         ],
         "marker": {
          "color": "green",
          "opacity": 0.8,
          "size": 9
         },
         "mode": "markers",
         "name": "자주가는 대여소",
         "showlegend": true,
         "subplot": "mapbox",
         "type": "scattermapbox"
        },
        {
         "customdata": [
          [
           "뚝섬유원지역 1번출구 앞",
           26,
           2969,
           4490.435249480478
          ],
          [
           "고속터미널역 8-1번, 8-2번 출구 사이",
           28.7,
           836,
           4090.3642289826926
          ]
         ],
         "hovertemplate": "대여소 : %{customdata[0]} <br>예상시간 : %{customdata[1]}분 <br>대여기록 : %{customdata[2]}건",
         "lat": [
          37.53186,
          37.506199
         ],
         "legendgroup": "자주가는 지하철역",
         "lon": [
          127.067192,
          127.003944
         ],
         "marker": {
          "color": "brown",
          "opacity": 0.8,
          "size": 9
         },
         "mode": "markers",
         "name": "자주가는 지하철역",
         "showlegend": true,
         "subplot": "mapbox",
         "type": "scattermapbox"
        },
        {
         "hoverinfo": "skip",
         "lat": [
          37.541363
         ],
         "lon": [
          127.017662
         ],
         "marker": {
          "color": "black",
          "opacity": 0.3,
          "size": 20
         },
         "mode": "markers",
         "showlegend": false,
         "type": "scattermapbox"
        },
        {
         "hovertemplate": "%{text}",
         "lat": [
          37.541363
         ],
         "lon": [
          127.017662
         ],
         "marker": {
          "color": "red",
          "opacity": 0.9,
          "size": 9
         },
         "mode": "markers",
         "name": "",
         "showlegend": false,
         "text": [
          "565 : 옥수역 3번출구"
         ],
         "type": "scattermapbox"
        }
       ],
       "layout": {
        "legend": {
         "bgcolor": "rgba(223, 235, 223, 0.8)",
         "title": {},
         "tracegroupgap": 0,
         "x": 0.98,
         "xanchor": "right",
         "y": 0.98,
         "yanchor": "top"
        },
        "mapbox": {
         "accesstoken": "pk.eyJ1IjoieWFuZ29vcyIsImEiOiJjbDNqd2tkN2IwbGdmM2pvNzF0c2M4NnZkIn0.J3IjPYg3w28cGiWkUD7bnA",
         "center": {
          "lat": 37.534435314,
          "lon": 127.023758365
         },
         "domain": {
          "x": [
           0,
           1
          ],
          "y": [
           0,
           1
          ]
         },
         "style": "mapbox://styles/yangoos/cl4cljdka001o14n3cll7whrh/draft",
         "zoom": 13
        },
        "margin": {
         "b": 0,
         "l": 0,
         "r": 0,
         "t": 0
        },
        "template": {
         "data": {
          "bar": [
           {
            "error_x": {
             "color": "#2a3f5f"
            },
            "error_y": {
             "color": "#2a3f5f"
            },
            "marker": {
             "line": {
              "color": "#E5ECF6",
              "width": 0.5
             },
             "pattern": {
              "fillmode": "overlay",
              "size": 10,
              "solidity": 0.2
             }
            },
            "type": "bar"
           }
          ],
          "barpolar": [
           {
            "marker": {
             "line": {
              "color": "#E5ECF6",
              "width": 0.5
             },
             "pattern": {
              "fillmode": "overlay",
              "size": 10,
              "solidity": 0.2
             }
            },
            "type": "barpolar"
           }
          ],
          "carpet": [
           {
            "aaxis": {
             "endlinecolor": "#2a3f5f",
             "gridcolor": "white",
             "linecolor": "white",
             "minorgridcolor": "white",
             "startlinecolor": "#2a3f5f"
            },
            "baxis": {
             "endlinecolor": "#2a3f5f",
             "gridcolor": "white",
             "linecolor": "white",
             "minorgridcolor": "white",
             "startlinecolor": "#2a3f5f"
            },
            "type": "carpet"
           }
          ],
          "choropleth": [
           {
            "colorbar": {
             "outlinewidth": 0,
             "ticks": ""
            },
            "type": "choropleth"
           }
          ],
          "contour": [
           {
            "colorbar": {
             "outlinewidth": 0,
             "ticks": ""
            },
            "colorscale": [
             [
              0,
              "#0d0887"
             ],
             [
              0.1111111111111111,
              "#46039f"
             ],
             [
              0.2222222222222222,
              "#7201a8"
             ],
             [
              0.3333333333333333,
              "#9c179e"
             ],
             [
              0.4444444444444444,
              "#bd3786"
             ],
             [
              0.5555555555555556,
              "#d8576b"
             ],
             [
              0.6666666666666666,
              "#ed7953"
             ],
             [
              0.7777777777777778,
              "#fb9f3a"
             ],
             [
              0.8888888888888888,
              "#fdca26"
             ],
             [
              1,
              "#f0f921"
             ]
            ],
            "type": "contour"
           }
          ],
          "contourcarpet": [
           {
            "colorbar": {
             "outlinewidth": 0,
             "ticks": ""
            },
            "type": "contourcarpet"
           }
          ],
          "heatmap": [
           {
            "colorbar": {
             "outlinewidth": 0,
             "ticks": ""
            },
            "colorscale": [
             [
              0,
              "#0d0887"
             ],
             [
              0.1111111111111111,
              "#46039f"
             ],
             [
              0.2222222222222222,
              "#7201a8"
             ],
             [
              0.3333333333333333,
              "#9c179e"
             ],
             [
              0.4444444444444444,
              "#bd3786"
             ],
             [
              0.5555555555555556,
              "#d8576b"
             ],
             [
              0.6666666666666666,
              "#ed7953"
             ],
             [
              0.7777777777777778,
              "#fb9f3a"
             ],
             [
              0.8888888888888888,
              "#fdca26"
             ],
             [
              1,
              "#f0f921"
             ]
            ],
            "type": "heatmap"
           }
          ],
          "heatmapgl": [
           {
            "colorbar": {
             "outlinewidth": 0,
             "ticks": ""
            },
            "colorscale": [
             [
              0,
              "#0d0887"
             ],
             [
              0.1111111111111111,
              "#46039f"
             ],
             [
              0.2222222222222222,
              "#7201a8"
             ],
             [
              0.3333333333333333,
              "#9c179e"
             ],
             [
              0.4444444444444444,
              "#bd3786"
             ],
             [
              0.5555555555555556,
              "#d8576b"
             ],
             [
              0.6666666666666666,
              "#ed7953"
             ],
             [
              0.7777777777777778,
              "#fb9f3a"
             ],
             [
              0.8888888888888888,
              "#fdca26"
             ],
             [
              1,
              "#f0f921"
             ]
            ],
            "type": "heatmapgl"
           }
          ],
          "histogram": [
           {
            "marker": {
             "pattern": {
              "fillmode": "overlay",
              "size": 10,
              "solidity": 0.2
             }
            },
            "type": "histogram"
           }
          ],
          "histogram2d": [
           {
            "colorbar": {
             "outlinewidth": 0,
             "ticks": ""
            },
            "colorscale": [
             [
              0,
              "#0d0887"
             ],
             [
              0.1111111111111111,
              "#46039f"
             ],
             [
              0.2222222222222222,
              "#7201a8"
             ],
             [
              0.3333333333333333,
              "#9c179e"
             ],
             [
              0.4444444444444444,
              "#bd3786"
             ],
             [
              0.5555555555555556,
              "#d8576b"
             ],
             [
              0.6666666666666666,
              "#ed7953"
             ],
             [
              0.7777777777777778,
              "#fb9f3a"
             ],
             [
              0.8888888888888888,
              "#fdca26"
             ],
             [
              1,
              "#f0f921"
             ]
            ],
            "type": "histogram2d"
           }
          ],
          "histogram2dcontour": [
           {
            "colorbar": {
             "outlinewidth": 0,
             "ticks": ""
            },
            "colorscale": [
             [
              0,
              "#0d0887"
             ],
             [
              0.1111111111111111,
              "#46039f"
             ],
             [
              0.2222222222222222,
              "#7201a8"
             ],
             [
              0.3333333333333333,
              "#9c179e"
             ],
             [
              0.4444444444444444,
              "#bd3786"
             ],
             [
              0.5555555555555556,
              "#d8576b"
             ],
             [
              0.6666666666666666,
              "#ed7953"
             ],
             [
              0.7777777777777778,
              "#fb9f3a"
             ],
             [
              0.8888888888888888,
              "#fdca26"
             ],
             [
              1,
              "#f0f921"
             ]
            ],
            "type": "histogram2dcontour"
           }
          ],
          "mesh3d": [
           {
            "colorbar": {
             "outlinewidth": 0,
             "ticks": ""
            },
            "type": "mesh3d"
           }
          ],
          "parcoords": [
           {
            "line": {
             "colorbar": {
              "outlinewidth": 0,
              "ticks": ""
             }
            },
            "type": "parcoords"
           }
          ],
          "pie": [
           {
            "automargin": true,
            "type": "pie"
           }
          ],
          "scatter": [
           {
            "fillpattern": {
             "fillmode": "overlay",
             "size": 10,
             "solidity": 0.2
            },
            "type": "scatter"
           }
          ],
          "scatter3d": [
           {
            "line": {
             "colorbar": {
              "outlinewidth": 0,
              "ticks": ""
             }
            },
            "marker": {
             "colorbar": {
              "outlinewidth": 0,
              "ticks": ""
             }
            },
            "type": "scatter3d"
           }
          ],
          "scattercarpet": [
           {
            "marker": {
             "colorbar": {
              "outlinewidth": 0,
              "ticks": ""
             }
            },
            "type": "scattercarpet"
           }
          ],
          "scattergeo": [
           {
            "marker": {
             "colorbar": {
              "outlinewidth": 0,
              "ticks": ""
             }
            },
            "type": "scattergeo"
           }
          ],
          "scattergl": [
           {
            "marker": {
             "colorbar": {
              "outlinewidth": 0,
              "ticks": ""
             }
            },
            "type": "scattergl"
           }
          ],
          "scattermapbox": [
           {
            "marker": {
             "colorbar": {
              "outlinewidth": 0,
              "ticks": ""
             }
            },
            "type": "scattermapbox"
           }
          ],
          "scatterpolar": [
           {
            "marker": {
             "colorbar": {
              "outlinewidth": 0,
              "ticks": ""
             }
            },
            "type": "scatterpolar"
           }
          ],
          "scatterpolargl": [
           {
            "marker": {
             "colorbar": {
              "outlinewidth": 0,
              "ticks": ""
             }
            },
            "type": "scatterpolargl"
           }
          ],
          "scatterternary": [
           {
            "marker": {
             "colorbar": {
              "outlinewidth": 0,
              "ticks": ""
             }
            },
            "type": "scatterternary"
           }
          ],
          "surface": [
           {
            "colorbar": {
             "outlinewidth": 0,
             "ticks": ""
            },
            "colorscale": [
             [
              0,
              "#0d0887"
             ],
             [
              0.1111111111111111,
              "#46039f"
             ],
             [
              0.2222222222222222,
              "#7201a8"
             ],
             [
              0.3333333333333333,
              "#9c179e"
             ],
             [
              0.4444444444444444,
              "#bd3786"
             ],
             [
              0.5555555555555556,
              "#d8576b"
             ],
             [
              0.6666666666666666,
              "#ed7953"
             ],
             [
              0.7777777777777778,
              "#fb9f3a"
             ],
             [
              0.8888888888888888,
              "#fdca26"
             ],
             [
              1,
              "#f0f921"
             ]
            ],
            "type": "surface"
           }
          ],
          "table": [
           {
            "cells": {
             "fill": {
              "color": "#EBF0F8"
             },
             "line": {
              "color": "white"
             }
            },
            "header": {
             "fill": {
              "color": "#C8D4E3"
             },
             "line": {
              "color": "white"
             }
            },
            "type": "table"
           }
          ]
         },
         "layout": {
          "annotationdefaults": {
           "arrowcolor": "#2a3f5f",
           "arrowhead": 0,
           "arrowwidth": 1
          },
          "autotypenumbers": "strict",
          "coloraxis": {
           "colorbar": {
            "outlinewidth": 0,
            "ticks": ""
           }
          },
          "colorscale": {
           "diverging": [
            [
             0,
             "#8e0152"
            ],
            [
             0.1,
             "#c51b7d"
            ],
            [
             0.2,
             "#de77ae"
            ],
            [
             0.3,
             "#f1b6da"
            ],
            [
             0.4,
             "#fde0ef"
            ],
            [
             0.5,
             "#f7f7f7"
            ],
            [
             0.6,
             "#e6f5d0"
            ],
            [
             0.7,
             "#b8e186"
            ],
            [
             0.8,
             "#7fbc41"
            ],
            [
             0.9,
             "#4d9221"
            ],
            [
             1,
             "#276419"
            ]
           ],
           "sequential": [
            [
             0,
             "#0d0887"
            ],
            [
             0.1111111111111111,
             "#46039f"
            ],
            [
             0.2222222222222222,
             "#7201a8"
            ],
            [
             0.3333333333333333,
             "#9c179e"
            ],
            [
             0.4444444444444444,
             "#bd3786"
            ],
            [
             0.5555555555555556,
             "#d8576b"
            ],
            [
             0.6666666666666666,
             "#ed7953"
            ],
            [
             0.7777777777777778,
             "#fb9f3a"
            ],
            [
             0.8888888888888888,
             "#fdca26"
            ],
            [
             1,
             "#f0f921"
            ]
           ],
           "sequentialminus": [
            [
             0,
             "#0d0887"
            ],
            [
             0.1111111111111111,
             "#46039f"
            ],
            [
             0.2222222222222222,
             "#7201a8"
            ],
            [
             0.3333333333333333,
             "#9c179e"
            ],
            [
             0.4444444444444444,
             "#bd3786"
            ],
            [
             0.5555555555555556,
             "#d8576b"
            ],
            [
             0.6666666666666666,
             "#ed7953"
            ],
            [
             0.7777777777777778,
             "#fb9f3a"
            ],
            [
             0.8888888888888888,
             "#fdca26"
            ],
            [
             1,
             "#f0f921"
            ]
           ]
          },
          "colorway": [
           "#636efa",
           "#EF553B",
           "#00cc96",
           "#ab63fa",
           "#FFA15A",
           "#19d3f3",
           "#FF6692",
           "#B6E880",
           "#FF97FF",
           "#FECB52"
          ],
          "font": {
           "color": "#2a3f5f"
          },
          "geo": {
           "bgcolor": "white",
           "lakecolor": "white",
           "landcolor": "#E5ECF6",
           "showlakes": true,
           "showland": true,
           "subunitcolor": "white"
          },
          "hoverlabel": {
           "align": "left"
          },
          "hovermode": "closest",
          "mapbox": {
           "style": "light"
          },
          "paper_bgcolor": "white",
          "plot_bgcolor": "#E5ECF6",
          "polar": {
           "angularaxis": {
            "gridcolor": "white",
            "linecolor": "white",
            "ticks": ""
           },
           "bgcolor": "#E5ECF6",
           "radialaxis": {
            "gridcolor": "white",
            "linecolor": "white",
            "ticks": ""
           }
          },
          "scene": {
           "xaxis": {
            "backgroundcolor": "#E5ECF6",
            "gridcolor": "white",
            "gridwidth": 2,
            "linecolor": "white",
            "showbackground": true,
            "ticks": "",
            "zerolinecolor": "white"
           },
           "yaxis": {
            "backgroundcolor": "#E5ECF6",
            "gridcolor": "white",
            "gridwidth": 2,
            "linecolor": "white",
            "showbackground": true,
            "ticks": "",
            "zerolinecolor": "white"
           },
           "zaxis": {
            "backgroundcolor": "#E5ECF6",
            "gridcolor": "white",
            "gridwidth": 2,
            "linecolor": "white",
            "showbackground": true,
            "ticks": "",
            "zerolinecolor": "white"
           }
          },
          "shapedefaults": {
           "line": {
            "color": "#2a3f5f"
           }
          },
          "ternary": {
           "aaxis": {
            "gridcolor": "white",
            "linecolor": "white",
            "ticks": ""
           },
           "baxis": {
            "gridcolor": "white",
            "linecolor": "white",
            "ticks": ""
           },
           "bgcolor": "#E5ECF6",
           "caxis": {
            "gridcolor": "white",
            "linecolor": "white",
            "ticks": ""
           }
          },
          "title": {
           "x": 0.05
          },
          "xaxis": {
           "automargin": true,
           "gridcolor": "white",
           "linecolor": "white",
           "ticks": "",
           "title": {
            "standoff": 15
           },
           "zerolinecolor": "white",
           "zerolinewidth": 2
          },
          "yaxis": {
           "automargin": true,
           "gridcolor": "white",
           "linecolor": "white",
           "ticks": "",
           "title": {
            "standoff": 15
           },
           "zerolinecolor": "white",
           "zerolinewidth": 2
          }
         }
        }
       }
      }
     },
     "metadata": {},
     "output_type": "display_data"
    }
   ],
   "source": [
    "num = 565\n",
    "\n",
    "test_data = raw_data(filtered_data, num)\n",
    "recommend_sub_station(test_data[0],num,near_sub, station, bike_info).plotly_image()"
   ]
  },
  {
   "cell_type": "code",
   "execution_count": 308,
   "metadata": {},
   "outputs": [
    {
     "data": {
      "text/plain": [
       "['744 : 신목동역 2번 출구', '755 : 목동1단지아파트 상가 앞 (월촌중학교 버스정류소 옆)', '766 : 신목동역 3번출구']"
      ]
     },
     "execution_count": 308,
     "metadata": {},
     "output_type": "execute_result"
    }
   ],
   "source": [
    "data = (\n",
    "    test_data[0]\n",
    "    .groupby(f\"st_id1\")\n",
    "    .size()\n",
    "    .sort_values(ascending=False)[1:4]\n",
    ")\n",
    "data_index = data.index.to_list()\n",
    "\n",
    "labels = bike_info.query('value == @data_index')['label'].to_list()\n",
    "labels\n",
    "\n"
   ]
  },
  {
   "cell_type": "markdown",
   "metadata": {},
   "source": [
    "> ### subwaystation table info"
   ]
  },
  {
   "cell_type": "code",
   "execution_count": 207,
   "metadata": {},
   "outputs": [],
   "source": [
    "def recommend_sub_station(filtered_data, filter_start='대여소') :\n",
    "    # ex) 기준대여소 to 다른 대여소 (1to2)\n",
    "    total_num_left = filtered_data[filtered_data[\"st_id1\"] == stat_id][\"st_id2\"].value_counts()  # 기준 대여소에서 빌리면 주로 향하는 목적지는?\n",
    "\n",
    "    # ex) 다른 대여소 to 기준대여소 (2to1)\n",
    "    total_num_right = filtered_data[filtered_data[\"st_id2\"] == stat_id][\"st_id1\"].value_counts()  # 어떤 대여소에서 기준 대여소로 이동할까?\n",
    "\n",
    "        # 1to2, 2to1 합치기\n",
    "    combine_values = pd.concat([total_num_left, total_num_right], axis=1)\n",
    "    combine_values.fillna((1), inplace=True)\n",
    "    combine_values.rename(columns=dict(st_id2=\"1to2\", st_id1=\"2to1\"), inplace=True)\n",
    "\n",
    "    # 계산 결과 종합\n",
    "    result_concat = (\n",
    "        combine_values.reset_index().groupby(\"index\")[[\"1to2\", \"2to1\"]].sum()\n",
    "    )\n",
    "\n",
    "    # 역 주변 대여소가 검색될경우 해당 대여소는 제거하기 | 316 대여소는 종각역과 관련됐는데, 종각과 관련된 대여소는 제거했다.\n",
    "    try:\n",
    "        filter_sub = near_sub.query(\"bi_st_id == @stat_id\")[\"sub_name\"].iloc[0]\n",
    "        filter_sub_2 = near_sub.query(\"sub_name ==@filter_sub\")[\"bi_st_id\"].values\n",
    "        result_concat = result_concat[~result_concat.index.isin(filter_sub_2)]\n",
    "    except:\n",
    "        pass\n",
    "\n",
    "\n",
    "    # 대여소 별 총 이동 횟수\n",
    "    result_concat[\"total\"] = abs(\n",
    "        (result_concat[\"1to2\"] + result_concat[\"2to1\"])\n",
    "    ) \n",
    "\n",
    "    # 지하철역 인근 따릉이 대여소 정보와 종합\n",
    "    sub_bike = pd.merge(\n",
    "        result_concat,\n",
    "        near_sub,\n",
    "        how=\"left\",\n",
    "        left_on=result_concat.index,\n",
    "        right_on=\"bi_st_id\",\n",
    "    )\n",
    "\n",
    "    # 지하철역 없는 따릉이 제거 \n",
    "    sorted_sub = sub_bike.dropna(subset=[\"sub_st_id\"]).sort_values(\n",
    "        by=\"total\", ascending=False\n",
    "    ).dropna(subset=['sub_name'])\n",
    "\n",
    "    # 기록 50건 이하 제거\n",
    "    count_rent = 50\n",
    "    sorted_sub = sorted_sub[(sorted_sub['1to2'] > count_rent) | (sorted_sub['2to1'] > count_rent) ]\n",
    "\n",
    "    # 기준 대여소와 역근처 대여소 직선 거리계산\n",
    "    station_lat_lon = station[station[\"st_id\"].isin(sorted_sub[\"bi_st_id\"])][\n",
    "        [\"st_id\", \"st_name\", \"latitude\", \"longtitude\"]\n",
    "    ]\n",
    "    return station_lat_lon\n",
    "    dist_to_station = haversine_np(\n",
    "        station.loc[station[\"st_id\"] == stat_id, \"longtitude\"].values,\n",
    "        station.loc[station[\"st_id\"] == stat_id, \"latitude\"].values,\n",
    "        station_lat_lon[\"longtitude\"].values,\n",
    "        station_lat_lon[\"latitude\"].values,\n",
    "    )\n",
    "    station_lat_lon[\"distance\"] = dist_to_station\n",
    "\n",
    "    #  해당 대여소와의 거리정보 종합\n",
    "    sorted_sub = pd.merge(\n",
    "        sorted_sub, station_lat_lon, left_on=\"bi_st_id\", right_on=\"st_id\"\n",
    "    ).drop(columns=[\"st_id\"])\n",
    "\n",
    "    # 대여소별 예상 도착시간 계산\n",
    "    result_station = []\n",
    "    for station_id in sorted_sub[\"bi_st_id\"]:\n",
    "\n",
    "        # 대여소 기준 해당 역으로 가는 시간\n",
    "        BM = filtered_data[\"st_id2\"] == station_id\n",
    "        st_id1_time = (\n",
    "            filtered_data[BM][\"riding_time\"]\n",
    "            .value_counts()\n",
    "            .sort_values(ascending=False)\n",
    "        )\n",
    "        mean_id1 = round(st_id1_time.index[:3].values.mean(), 1)\n",
    "\n",
    "        # 해당 역에서 대여소로 가는 시간\n",
    "        BM = filtered_data[\"st_id1\"] == station_id\n",
    "        st_id2_time = (\n",
    "            filtered_data[BM][\"riding_time\"]\n",
    "            .value_counts()\n",
    "            .sort_values(ascending=False)\n",
    "        )\n",
    "        mean_id2 = round(st_id2_time.index[:3].values.mean(), 1)\n",
    "\n",
    "        # st_id1_time.plot.bar()\n",
    "        result_station.append([mean_id1, mean_id2])\n",
    "\n",
    "\n",
    "    # 예상시간정보 종합(대여소: 대여소에서 출발)\n",
    "    est_time = pd.DataFrame(result_station, columns=[\"대여소\", \"역\"])\n",
    "\n",
    "\n",
    "    # return 자료 생성\n",
    "    nearest_sub = pd.concat([sorted_sub.reset_index(drop=True), est_time], axis=1)\n",
    "    \n",
    "    if filter_start == \"대여소\":\n",
    "        sub_sorted_station = (\n",
    "            nearest_sub.groupby(\"sub_name\")[\"1to2\"]\n",
    "            .sum()\n",
    "            .sort_values(ascending=False)\n",
    "            .reset_index(drop=False)\n",
    "        )  # 대여소 별 이동량 종합\n",
    "        counts = \"1to2\"\n",
    "\n",
    "    elif filter_start == \"역\":\n",
    "        sub_sorted_station = (\n",
    "            nearest_sub.groupby(\"sub_name\")[\"2to1\"]\n",
    "            .sum()\n",
    "            .sort_values(ascending=False)\n",
    "            .reset_index(drop=False)\n",
    "        )\n",
    "        counts = \"2to1\"\n",
    "\n",
    "    # 역 이름 추출\n",
    "    name_sub = sub_sorted_station[\"sub_name\"].tolist()\n",
    "\n",
    "    # 대여소 예상시간 테이블 만들기\n",
    "    nearest_sub_sorted = (\n",
    "        nearest_sub[[\"bi_st_id\",\"sub_name\", counts, f\"{filter_start}\"]]\n",
    "        .sort_values(by=f\"{filter_start}\")\n",
    "        .query(\"sub_name == @name_sub\")\n",
    "        .reset_index(drop=True)\n",
    "    )\n",
    "    nearest_sub_sorted.columns = [\"대여소 번호\", \"역사명\", \"대여기록\", \"예상시간\"]\n",
    "    # nearest_sub_sorted = nearest_sub_sorted.query(\"대여기록 > 50\").copy()\n",
    "\n",
    "    nearest_sub_sorted[\"예상시간\"] = nearest_sub_sorted[\"예상시간\"].apply(\n",
    "        lambda x: str(int(x)) + \"분\"\n",
    "    )\n",
    "    nearest_sub_sorted[\"대여기록\"] = nearest_sub_sorted[\"대여기록\"].apply(\n",
    "        lambda x: str(int(x)) + \"건\"\n",
    "    )\n",
    "\n",
    "    return nearest_sub_sorted\n",
    "\n",
    "recommend_sub_station(filtered_data, filter_start='대여소')"
   ]
  },
  {
   "cell_type": "code",
   "execution_count": 22,
   "metadata": {},
   "outputs": [],
   "source": [
    "def raw_data(query_data , val : int) : \n",
    "    # BM = (df['st_id1'] == val) | (df['st_id2'] == val )\n",
    "    # filtered_data = df[BM]\n",
    "\n",
    "    # 대여\n",
    "    filtered_data_start = query_data[(query_data['st_id1'] ==val) & (query_data['st_id2'] !=val)]\n",
    "\n",
    "    # 반납\n",
    "    filtered_data_end = query_data[(query_data['st_id2'] ==val) & (query_data['st_id1'] !=val)]\n",
    "    \n",
    "    return [query_data,filtered_data_end,filtered_data_start]"
   ]
  },
  {
   "cell_type": "markdown",
   "metadata": {},
   "source": [
    "> ### 일별 자전거 대여"
   ]
  },
  {
   "cell_type": "markdown",
   "metadata": {},
   "source": [
    "ax.patches => 개별 bar 정보(x,y,h,w)를 확인할 수 있음.\n",
    "\n",
    "ax.patches[0].patch.get_bbox() 확인한 정보를 변수로 불러올 수 있음\n",
    "> https://stackoverflow.com/questions/61568935/seaborn-barplot-with-rounded-corners\n",
    "\n",
    "print(p.properties()) <= 정보를 불러오는 기능인듯 "
   ]
  },
  {
   "cell_type": "code",
   "execution_count": 39,
   "metadata": {},
   "outputs": [
    {
     "data": {
      "image/png": "[encoded data removed]",
      "text/plain": [
       "<Figure size 576x576 with 1 Axes>"
      ]
     },
     "metadata": {
      "needs_background": "light"
     },
     "output_type": "display_data"
    }
   ],
   "source": [
    "def day_rent(filtered_data :list) :\n",
    "    # 일별 자전거 대여\n",
    "    data = filtered_data[0].groupby('weekday').size()\n",
    "\n",
    "    data_numpy = data.to_numpy()\n",
    "\n",
    "    # max 요일\n",
    "    max_value= np.where(data_numpy == data_numpy.max())[0][0]\n",
    "    max_value\n",
    "\n",
    "    # min 요일\n",
    "    min_value= np.where(data_numpy == data_numpy.min())[0][0]\n",
    "    min_value\n",
    "\n",
    "    # 높이 normalize 후 0.5 더함( 0.5는 막대 길이를 의미함)\n",
    "    height = list(map(lambda x : round(((x-data_numpy.min())/(data_numpy.max()-data_numpy.min()))+0.5,2), data_numpy ))\n",
    "\n",
    "    # 사각형 정보\n",
    "    bars = []\n",
    "    for num, h in enumerate(height) :\n",
    "        ist = [num,0,h,0.8] # x,y,h,w\n",
    "        bars.append(ist)\n",
    "    #날짜\n",
    "    days = [\"월\",\"화\",\"수\",\"목\",\"금\",\"토\",\"일\"]\n",
    "\n",
    "    # plot\n",
    "    fig, ax = plt.subplots(figsize=(8,8))\n",
    "\n",
    "    # bar = rect\n",
    "    for num,(bar, days) in enumerate(zip(bars, days)) :\n",
    "        x = bar[0]; y = bar[1]; h = bar[2];  w = bar[3]\n",
    "        #max\n",
    "        if num == max_value :\n",
    "            color = ['blue','white'] # full color, font-color\n",
    "        #min\n",
    "        elif num == min_value : \n",
    "            color = ['green','black'] # full color, font-color\n",
    "        # 나머지\n",
    "        else : \n",
    "            color = ['gray','black'] # full color, font-color\n",
    "        \n",
    "        bbox = patches.FancyBboxPatch(\n",
    "            (x,y),w,h,\n",
    "            boxstyle=\"round,pad=-0.01,rounding_size=0.2\",\n",
    "            ec=\"none\", fc=color[0],\n",
    "            mutation_aspect= 0.5,\n",
    "            alpha=0.5\n",
    "        )\n",
    "        ax.add_patch(bbox)\n",
    "\n",
    "        # 요일 넣기(padding고려해서 num으로 조정)\n",
    "        plt.text(x+0.3,y+0.05, days, fontdict={'fontsize' : 14, 'color' : color[1]})\n",
    "\n",
    "        # 개수 넣기\n",
    "        plt.text(x+0.3,h-0.2, data[num],rotation=90, fontdict={'fontsize' : 14, 'color' : color[1]})\n",
    "\n",
    "\n",
    "    plt.xlim(0,6.8) # 넓이가 0.8이라서 그럼\n",
    "    plt.ylim(0,1.5)\n",
    "    plt.axis('off')\n",
    "    # plt.close()\n",
    "\n",
    "\n",
    "day_rent(raw_data)"
   ]
  },
  {
   "cell_type": "markdown",
   "metadata": {},
   "source": [
    "> ### 시간대별 이용 비교"
   ]
  },
  {
   "cell_type": "code",
   "execution_count": 88,
   "metadata": {},
   "outputs": [],
   "source": [
    "BM = (df['st_id1'] == val) | (df['st_id2'] == val )\n",
    "query_data = df[BM]"
   ]
  },
  {
   "cell_type": "code",
   "execution_count": null,
   "metadata": {},
   "outputs": [],
   "source": [
    "query_data['time'] =  '2021-01-01 ' + query_data['date'].dt.time.apply(str)\n",
    "query_data\n",
    "\n",
    "# query_data[']\n",
    "test_count = query_data.groupby([pd.Grouper(key='time',freq='H')]).size()\n",
    "test_count"
   ]
  },
  {
   "cell_type": "code",
   "execution_count": null,
   "metadata": {},
   "outputs": [],
   "source": [
    "def day_rent(filtered_data :list) :\n",
    "    # 일별 자전거 대여\n",
    "    data = filtered_data[0].groupby('weekday').size()\n",
    "\n",
    "    data_numpy = data.to_numpy()\n",
    "\n",
    "    # max 요일\n",
    "    max_value= np.where(data_numpy == data_numpy.max())[0][0]\n",
    "    max_value\n",
    "\n",
    "    # min 요일\n",
    "    min_value= np.where(data_numpy == data_numpy.min())[0][0]\n",
    "    min_value\n",
    "\n",
    "    # 높이 normalize 후 0.5 더함( 0.5는 막대 길이를 의미함)\n",
    "    height = list(map(lambda x : round(((x-data_numpy.min())/(data_numpy.max()-data_numpy.min()))+0.5,2), data_numpy ))\n",
    "\n",
    "    # 사각형 정보\n",
    "    bars = []\n",
    "    for num, h in enumerate(height) :\n",
    "        ist = [num,0,h,0.8] # x,y,h,w\n",
    "        bars.append(ist)\n",
    "    #날짜\n",
    "    days = [\"월\",\"화\",\"수\",\"목\",\"금\",\"토\",\"일\"]\n",
    "\n",
    "    # plot\n",
    "    fig, ax = plt.subplots(figsize=(8,8))\n",
    "\n",
    "    # bar = rect\n",
    "    for num,(bar, days) in enumerate(zip(bars, days)) :\n",
    "        x = bar[0]; y = bar[1]; h = bar[2];  w = bar[3]\n",
    "        #max\n",
    "        if num == max_value :\n",
    "            color = ['blue','white'] # full color, font-color\n",
    "        #min\n",
    "        elif num == min_value : \n",
    "            color = ['green','black'] # full color, font-color\n",
    "        # 나머지\n",
    "        else : \n",
    "            color = ['gray','black'] # full color, font-color\n",
    "        \n",
    "        bbox = patches.FancyBboxPatch(\n",
    "            (x,y),w,h,\n",
    "            boxstyle=\"round,pad=-0.01,rounding_size=0.2\",\n",
    "            ec=\"none\", fc=color[0],\n",
    "            mutation_aspect= 0.5,\n",
    "            alpha=0.5\n",
    "        )\n",
    "        ax.add_patch(bbox)\n",
    "\n",
    "        # 요일 넣기(padding고려해서 num으로 조정)\n",
    "        plt.text(x+0.3,y+0.05, days, fontdict={'fontsize' : 14, 'color' : color[1]})\n",
    "\n",
    "        # 개수 넣기\n",
    "        plt.text(x+0.3,h-0.2, data[num],rotation=90, fontdict={'fontsize' : 14, 'color' : color[1]})\n",
    "\n",
    "\n",
    "    plt.xlim(0,6.8) # 넓이가 0.8이라서 그럼\n",
    "    plt.ylim(0,1.5)\n",
    "    plt.axis('off')\n",
    "    # plt.close()\n",
    "\n",
    "\n",
    "day_rent(raw_data)"
   ]
  },
  {
   "cell_type": "markdown",
   "metadata": {},
   "source": [
    "> ### 자주 이용하는 대여소"
   ]
  },
  {
   "cell_type": "code",
   "execution_count": 245,
   "metadata": {},
   "outputs": [
    {
     "name": "stdout",
     "output_type": "stream",
     "text": [
      "[[0, 0, 1, 0.5], [0, 1, 1, 0.81], [0, 2, 1, 1.5]]\n"
     ]
    },
    {
     "data": {
      "image/png": "[encoded data removed]",
      "text/plain": [
       "<Figure size 576x288 with 1 Axes>"
      ]
     },
     "metadata": {
      "needs_background": "light"
     },
     "output_type": "display_data"
    }
   ],
   "source": [
    "# 반납 : filtered_data_end(=val 1), 대여 : filtered_data_start(=val 2)\n",
    "def frequent_station(filtered_data,val) :\n",
    "    data = filtered_data[val].groupby(f'st_id{val}').size().sort_values(ascending=False)[:3]\n",
    "    data_index = data.index\n",
    "    labels = [ bike_info.query('value == @i')['label'].iloc[0] for i in data_index]\n",
    "    data_numpy = data.to_numpy()\n",
    "    height = list(map(lambda x : round(((x-data_numpy.min())/(data_numpy.max()-data_numpy.min()))+0.5,2), data_numpy ))\n",
    "\n",
    "    bars = []\n",
    "    for num, w in enumerate(height[::-1]):\n",
    "        ist = [0, num, 1, w]  # x,y,h,w\n",
    "        bars.append(ist)\n",
    "    print(bars)\n",
    "    # 날짜\n",
    "    days = [\"월\", \"화\", \"수\", \"목\", \"금\", \"토\", \"일\"]\n",
    "\n",
    "    # plot\n",
    "    fig, ax = plt.subplots(figsize=(8, 4))\n",
    "\n",
    "    # bar = rect\n",
    "    for num, (bar, label) in enumerate(zip(bars, labels)):\n",
    "        x = bar[0]\n",
    "        y = bar[1]\n",
    "        h = bar[2]\n",
    "        w = bar[3]\n",
    "        color = [\"#A1C9EE\", \"#79B2E7\", \"#579FE1\"]  # full color, font-color\n",
    "        bbox = patches.FancyBboxPatch(\n",
    "            (x, y),\n",
    "            w,\n",
    "            h,\n",
    "            boxstyle=\"round,pad=-0.0001,rounding_size=0\",\n",
    "            ec=\"none\",\n",
    "            fc=color[num],\n",
    "            mutation_aspect=0.5,\n",
    "            # alpha=1\n",
    "        )\n",
    "        ax.add_patch(bbox)\n",
    "\n",
    "        # # 요일 넣기(padding고려해서 num으로 조정)\n",
    "        plt.text(\n",
    "            0.01, y + 0.4, f\"{label[:20]}\", fontdict={\"fontsize\": 14, \"color\": \"black\"}\n",
    "        )\n",
    "\n",
    "        # # 개수 넣기\n",
    "        # len(data)-1-num으로 한 이유는 역순으로 뽑아야 하기때문\n",
    "        plt.text(\n",
    "            1.4,\n",
    "            y + 0.25,\n",
    "            data.iloc[len(data) - 1 - num],\n",
    "            rotation=90,\n",
    "            fontdict={\"fontsize\": 14, \"color\": \"black\"},\n",
    "        )\n",
    "\n",
    "\n",
    "    plt.xlim(0, 1.5)  # 넓이가 0.8이라서 그럼\n",
    "    plt.ylim(0, 2.8)\n",
    "    plt.axis(\"off\")\n",
    "    # plt.close()\n",
    "\n",
    "frequent_station(test_data,1)\n"
   ]
  },
  {
   "cell_type": "code",
   "execution_count": 38,
   "metadata": {},
   "outputs": [
    {
     "data": {
      "image/png": "[encoded data removed]",
      "text/plain": [
       "<Figure size 432x216 with 1 Axes>"
      ]
     },
     "metadata": {},
     "output_type": "display_data"
    }
   ],
   "source": [
    "def total_rent(filtered_data) :\n",
    "    fig, ax = plt.subplots(figsize=(6, 3), subplot_kw=dict(aspect=\"equal\"))\n",
    "\n",
    "    # 데이터 정제\n",
    "    a = len(filtered_data[1])\n",
    "    b = len(filtered_data[2])\n",
    "    percent = int(a / (a + b) * 100)\n",
    "\n",
    "    # plot에 필요한 변수 설정\n",
    "    tag = [f\"반납 : {percent}%\", f\"대여 :{100-percent}%\"]\n",
    "    data = [a, b]\n",
    "    wedge_properties = {\"edgecolor\": \"k\", \"linewidth\": 2}\n",
    "    bbox_props = dict(boxstyle=\"square,pad=0.3\", fc=\"w\", ec=\"k\", lw=0.72)\n",
    "    kw = dict(bbox=bbox_props, zorder=0, va=\"center\")\n",
    "\n",
    "    # pie plot\n",
    "    wedges, texts = ax.pie(\n",
    "        data,\n",
    "        wedgeprops=dict(width=0.3, edgecolor=\"k\", linewidth=0.5),\n",
    "        startangle=-40,\n",
    "        colors=[\"#79B2E7\", \"#DCDEDF\"],\n",
    "    )\n",
    "\n",
    "    # annotation 설정\n",
    "    for i, p in enumerate(wedges):\n",
    "        ang = (p.theta2 - p.theta1) / 2.0 + p.theta1\n",
    "        y = np.sin(np.deg2rad(ang))\n",
    "        x = np.cos(np.deg2rad(ang))\n",
    "        horizontalalignment = {-1: \"right\", 1: \"left\"}[int(np.sign(x))]\n",
    "        connectionstyle = \"angle,angleA=0,angleB={}\".format(ang)\n",
    "        # kw[\"arrowprops\"].update({\"connectionstyle\": connectionstyle})\n",
    "        ax.annotate(\n",
    "            tag[i],\n",
    "            xy=(x, y),\n",
    "            xytext=(1 * np.sign(x), 1 * y),\n",
    "            horizontalalignment=horizontalalignment,\n",
    "            **kw,\n",
    "        )\n",
    "        ax.text(-0.4, 0.05, \"대여소 이용\", fontdict={\"color\": \"white\"})\n",
    "        ax.text(-0.3, -0.15, f\"{a+b}건\", fontdict={\"color\": \"white\"})\n",
    "\n",
    "    # ax.set_title(\"Matplotlib bakery: A donut\")\n",
    "\n",
    "    # plt.close()\n",
    "\n",
    "total_rent(raw_data)"
   ]
  }
 ],
 "metadata": {
  "kernelspec": {
   "display_name": "Python 3.8.9 64-bit",
   "language": "python",
   "name": "python3"
  },
  "language_info": {
   "codemirror_mode": {
    "name": "ipython",
    "version": 3
   },
   "file_extension": ".py",
   "mimetype": "text/x-python",
   "name": "python",
   "nbconvert_exporter": "python",
   "pygments_lexer": "ipython3",
   "version": "3.8.9"
  },
  "orig_nbformat": 4,
  "vscode": {
   "interpreter": {
    "hash": "31f2aee4e71d21fbe5cf8b01ff0e069b9275f58929596ceb00d14d90e3e16cd6"
   }
  }
 },
 "nbformat": 4,
 "nbformat_minor": 2
}
