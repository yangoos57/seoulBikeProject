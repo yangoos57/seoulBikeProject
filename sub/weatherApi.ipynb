{
 "cells": [
  {
   "cell_type": "code",
   "execution_count": 62,
   "metadata": {},
   "outputs": [],
   "source": [
    "import requests\n",
    "from datetime import datetime,timedelta\n",
    "from urllib.parse import unquote\n",
    "import ast\n",
    "\n",
    "url = 'http://apis.data.go.kr/1360000/VilageFcstInfoService_2.0/getUltraSrtFcst'\n",
    "datenow= datetime.now().strftime(\"%Y%m%d\")\n",
    "hournow=datetime.now().strftime(\"%H\")+\"00\"\n",
    "# requests에선 %를 %25로 변환한다. 이를 막기 위해 unquote를 사용한다.\n",
    "key = unquote('kweaR5p7XFQ3hpE2XziQSArbOXvFHfhOyD46cjNj1ntsPN%2B5agxteHVt6nU5Ur0OBxaVAlQYNMx9q8wEBMOdLw%3D%3D')\n",
    "params ={'serviceKey' : key, 'pageNo' : '1', 'numOfRows' : '60', 'dataType' : 'JSON', 'base_date' : datenow, 'base_time' : hournow, 'nx' : '57', 'ny' : '127' }\n",
    "\n",
    "response = requests.get(url, params=params)\n",
    "\n",
    "result = response.content\n",
    "val = result.decode('utf-8')\n",
    "val = ast.literal_eval(val)\n",
    "result = val['response']['body']['items']['item']"
   ]
  }
 ],
 "metadata": {
  "kernelspec": {
   "display_name": "Python 3.8.9 64-bit",
   "language": "python",
   "name": "python3"
  },
  "language_info": {
   "codemirror_mode": {
    "name": "ipython",
    "version": 3
   },
   "file_extension": ".py",
   "mimetype": "text/x-python",
   "name": "python",
   "nbconvert_exporter": "python",
   "pygments_lexer": "ipython3",
   "version": "3.8.9"
  },
  "orig_nbformat": 4,
  "vscode": {
   "interpreter": {
    "hash": "31f2aee4e71d21fbe5cf8b01ff0e069b9275f58929596ceb00d14d90e3e16cd6"
   }
  }
 },
 "nbformat": 4,
 "nbformat_minor": 2
}
