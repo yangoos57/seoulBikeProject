{
 "cells": [
  {
   "cell_type": "code",
   "execution_count": 1,
   "metadata": {},
   "outputs": [],
   "source": [
    "import mlutils\n",
    "import warnings\n",
    "import os\n",
    "import pandas as pd\n",
    "warnings.filterwarnings(action=\"ignore\")\n",
    "os.getcwd()\n",
    "\n",
    "station = pd.read_csv(\n",
    "    \"assets/seoul_bike_station_01_12.csv\", encoding=\"CP949\", index_col=0\n",
    ")\n",
    "near_bus = pd.read_csv(\n",
    "    \"assets/near_bus_500m.csv\", encoding=\"CP949\", index_col=0\n",
    ")\n",
    "seoul_bike = pd.read_parquet(\n",
    "    \"/Users/yangwoolee/git_repo/seoul_bike_dash/parquet/220607_bike_record.parquet.gzip\"\n",
    ")\n",
    "sub_info = pd.read_csv(\n",
    "    \"assets/sub_and_bike_info.csv\", encoding=\"CP949\", index_col=0\n",
    ")\n",
    "\n",
    "search_info = pd.read_csv(\n",
    "    \"assets/search_info.csv\", encoding=\"CP949\", index_col=0\n",
    ")\n",
    "moon_light = mlutils.moon_light(station,near_bus,seoul_bike,sub_info)\n"
   ]
  },
  {
   "cell_type": "code",
   "execution_count": null,
   "metadata": {},
   "outputs": [],
   "source": [
    "moon_light.route_data(dep_id=4443,arr_id=754)"
   ]
  },
  {
   "cell_type": "code",
   "execution_count": 7,
   "metadata": {},
   "outputs": [
    {
     "data": {
      "text/html": [
       "<div>\n",
       "<style scoped>\n",
       "    .dataframe tbody tr th:only-of-type {\n",
       "        vertical-align: middle;\n",
       "    }\n",
       "\n",
       "    .dataframe tbody tr th {\n",
       "        vertical-align: top;\n",
       "    }\n",
       "\n",
       "    .dataframe thead th {\n",
       "        text-align: right;\n",
       "    }\n",
       "</style>\n",
       "<table border=\"1\" class=\"dataframe\">\n",
       "  <thead>\n",
       "    <tr style=\"text-align: right;\">\n",
       "      <th></th>\n",
       "      <th>sub_id</th>\n",
       "      <th>sub_name</th>\n",
       "      <th>line</th>\n",
       "      <th>longtitude</th>\n",
       "      <th>latitude</th>\n",
       "      <th>bike_id</th>\n",
       "    </tr>\n",
       "  </thead>\n",
       "  <tbody>\n",
       "    <tr>\n",
       "      <th>119</th>\n",
       "      <td>4113</td>\n",
       "      <td>당산역</td>\n",
       "      <td>9호선</td>\n",
       "      <td>126.902809</td>\n",
       "      <td>37.533406</td>\n",
       "      <td>[244, 247, 267, 268, 272, 290, 3201]</td>\n",
       "    </tr>\n",
       "  </tbody>\n",
       "</table>\n",
       "</div>"
      ],
      "text/plain": [
       "    sub_id sub_name line  longtitude   latitude  \\\n",
       "119   4113      당산역  9호선  126.902809  37.533406   \n",
       "\n",
       "                                  bike_id  \n",
       "119  [244, 247, 267, 268, 272, 290, 3201]  "
      ]
     },
     "execution_count": 7,
     "metadata": {},
     "output_type": "execute_result"
    }
   ],
   "source": [
    "moon_light.departure_info(3119)"
   ]
  },
  {
   "cell_type": "markdown",
   "metadata": {},
   "source": [
    "> ### 디버그 용도"
   ]
  },
  {
   "cell_type": "code",
   "execution_count": 3,
   "metadata": {},
   "outputs": [
    {
     "name": "stdout",
     "output_type": "stream",
     "text": [
      "버스\n"
     ]
    }
   ],
   "source": [
    "#  def route_data(dep_id, arr_id):\n",
    "\n",
    "dep_id = 4443\n",
    "arr_id = 754\n",
    "dep_info = moon_light.departure_info(dep_id)  # dataframe\n",
    "arr_info = moon_light.arrival_info(arr_id)  # dataframe\n",
    "\n",
    "if dep_id < 3000:\n",
    "    print(\"자전거\")\n",
    "    bike_coor = moon_light.route_coor(dep_info, arr_info)\n",
    "    retu = dict(bike_coor=bike_coor)\n",
    "\n",
    "elif dep_id > 4000:\n",
    "    print(\"버스\")\n",
    "    # * -- 자전거 대여소 정보 추출 -- *\n",
    "\n",
    "    # * -- 출도착 버스 정보-- *\n",
    "    dep_arr_bus_info = moon_light.finding_start_end(dep_info, arr_info)\n",
    "\n",
    "    # * -- 경로 선택 및 경로 노선 추출 -- *\n",
    "    bus_whole, waypoint, bus_start_end = moon_light.bus_route_info(dep_arr_bus_info)\n",
    "\n",
    "    # * -- 좌표 받기 -- *\n",
    "\n",
    "\n",
    "    arr_trans = bus_start_end.iloc[[1]]\n",
    "\n",
    "    dep_bike_info = moon_light.near_bus_bike_info(\n",
    "    bus_start_end.iloc[[0]], arr_info\n",
    "    ).sort_values(by=\"num\", ascending=False)\n",
    "\n",
    "    arr_bike_info = moon_light.near_bus_bike_info(\n",
    "    arr_trans, arr_info\n",
    "    ).sort_values(by=\"num\", ascending=False)\n",
    "\n",
    "    dep_arr_bike = moon_light.route_coor(dep_bike_info, arr_info)\n",
    "\n",
    "\n",
    "    bus_coor = moon_light.bus_route_coor(bus_start_end, waypoint)\n",
    "    walk_coor = moon_light.route_coor(\n",
    "        arr_trans, arr_bike_info.iloc[[0]]\n",
    "    )\n",
    "    bike_coor = moon_light.route_coor(arr_bike_info.iloc[[0]], arr_info)\n",
    "    retu= dict(\n",
    "        dep_arr_bike=dep_arr_bike,\n",
    "        bus_coor=bus_coor,\n",
    "        walk_coor=walk_coor,\n",
    "        bike_coor=bike_coor,\n",
    "    )\n",
    "else:\n",
    "    print(\"지하철\")\n",
    "    # * -- 자전거 대여소 정보 추출 -- *\n",
    "    near_bus_bike_info = moon_light.near_bus_bike_info(\n",
    "        dep_info, arr_info\n",
    "    ).sort_values(by=\"dist\")\n",
    "    departure_bike_station = pd.DataFrame(near_bus_bike_info.iloc[0]).T\n",
    "\n",
    "    # * -- 자전거 경로(사실 보행로 추천이라는 사실~)-- *\n",
    "    walk_coor = moon_light.route_coor(dep_info, departure_bike_station)\n",
    "    bike_coor = moon_light.route_coor(departure_bike_station, arr_info)\n",
    "    retu= dict(\n",
    "        walk_coor=walk_coor, bike_coor=bike_coor\n",
    "    )"
   ]
  },
  {
   "cell_type": "code",
   "execution_count": 5,
   "metadata": {},
   "outputs": [],
   "source": [
    "\n",
    "\n"
   ]
  },
  {
   "cell_type": "code",
   "execution_count": 47,
   "metadata": {},
   "outputs": [
    {
     "name": "stdout",
     "output_type": "stream",
     "text": [
      "[700,773,1169,1171,2703,3761,5067]\n",
      "st_id1\n",
      "102     1\n",
      "103     3\n",
      "104     6\n",
      "105     2\n",
      "106     5\n",
      "       ..\n",
      "4582    1\n",
      "4584    1\n",
      "4605    1\n",
      "4625    2\n",
      "9999    1\n",
      "Length: 400, dtype: int64\n",
      "Int64Index([ 272,  700,  702,  703,  719,  723,  726,  731,  735,  744,  746,\n",
      "             747,  749,  752,  754,  755,  756,  758,  764,  765,  766,  768,\n",
      "             769,  770,  771,  773,  776,  786,  792,  793, 1115, 1169, 3763,\n",
      "            4526, 4527],\n",
      "           dtype='int64', name='st_id1')\n",
      "[700, 773, 1169]\n"
     ]
    }
   ],
   "source": [
    "import ast\n",
    "import numpy as np\n",
    "## station_to_station 구상\n",
    "# 여의도 환승센터 인근 500m 따릉이 대여소 검색 & 50건 이상 정보만 반환하기 \n",
    "# 목적지 대여소와 관련 정보가 있는지 확인\n",
    "# 정보가 있다면 bike 경로도 제시\n",
    "# 정류장 & 역 departure => 자전거 departure\n",
    "# 자전거 departure => 자전거 arrival\n",
    "# 정보가 없다면 관련 정보가 없다고 팝업뜨고 다시 선택해달라고 하기\n",
    "\n",
    "\n",
    "bike_id = ast.literal_eval(departure['bike_id'].iloc[0])\n",
    "\n",
    "raw = moon_light.raw_data(arrival_info.index[0])\n",
    "\n",
    "\n",
    "br_record = raw.groupby('st_id1').size()\n",
    "print(br_record)\n",
    "br_record_id = br_record[br_record >50].index\n",
    "print(br_record_id)\n",
    "\n",
    "result = np.intersect1d(bike_id,br_record_id).tolist()\n",
    "print(result)\n",
    "\n"
   ]
  },
  {
   "cell_type": "code",
   "execution_count": null,
   "metadata": {},
   "outputs": [
    {
     "name": "stdout",
     "output_type": "stream",
     "text": [
      "bike_id       [230,240,264,265,266,3206,3221]\n",
      "bus                                       N64\n",
      "order                                      34\n",
      "id                                      19163\n",
      "name                                 당산동진로아파트\n",
      "longtitude                         126.896991\n",
      "latitude                            37.521002\n",
      "Name: 1449, dtype: object\n"
     ]
    }
   ],
   "source": [
    "# search box info\n",
    "\n",
    "sub_info = pd.read_csv('assets/sub_and_bike_info.csv',encoding='CP949',index_col=0)\n",
    "bus_info = pd.read_csv(\n",
    "            \"assets/near_bus_500m.csv\", encoding=\"CP949\", index_col=0\n",
    "        )\n",
    "bike_info = pd.read_csv(\n",
    "            \"assets/seoul_bike_station_01_12.csv\", encoding=\"CP949\", index_col=0\n",
    "        )\n",
    "\n",
    "## search_box 정보\n",
    "d = pd.read_csv('assets/search_info.csv',encoding='CP949',index_col=0)\n",
    "a = d[d['name'].str.contains('당산')].drop_duplicates('name')\n",
    "\n",
    "# id에 맞는 info 불러오기\n",
    "b = a['id'].iloc[-1]\n",
    "if b < 3000 : \n",
    "    departure_info = bike_info.iloc[b]\n",
    "elif b >4000 : \n",
    "    departure_info = bus_info.iloc[b-4000]\n",
    "else :\n",
    "    departure_info = sub_info.iloc[b-3000]\n",
    "\n",
    "print(departure_info)\n",
    "# departure_info = moon_light.departure_info('당산') \n",
    "arrival_info = moon_light.arrivial_info(754)\n",
    "# route_info=moon_light.finding_start_end(departure_info, arrival_info)\n"
   ]
  },
  {
   "cell_type": "code",
   "execution_count": null,
   "metadata": {},
   "outputs": [],
   "source": []
  },
  {
   "cell_type": "markdown",
   "metadata": {},
   "source": [
    "> ### 이름으로 버스 정류장과 대여소 선택"
   ]
  },
  {
   "cell_type": "code",
   "execution_count": null,
   "metadata": {},
   "outputs": [
    {
     "data": {
      "application/vnd.plotly.v1+json": {
       "config": {
        "plotlyServerURL": "https://plot.ly"
       },
       "data": [
        {
         "hovertemplate": "latitude=%{lat}<br>longtitude=%{lon}<extra></extra>",
         "lat": [
          37.546707
         ],
         "legendgroup": "",
         "lon": [
          126.874573
         ],
         "marker": {
          "color": "blue",
          "opacity": 0.7,
          "size": 10,
          "symbol": "circle"
         },
         "mode": "markers",
         "name": "",
         "showlegend": false,
         "subplot": "mapbox",
         "type": "scattermapbox"
        },
        {
         "hovertemplate": "<b>%{hovertext}</b><br><br>latitude=%{lat}<br>longtitude=%{lon}<extra></extra>",
         "hovertext": [
          "합정역",
          "염창역.서울도시가스"
         ],
         "lat": [
          37.549682,
          37.547097
         ],
         "legendgroup": "",
         "lon": [
          126.913997,
          126.875881
         ],
         "marker": {
          "color": "#AD00FF",
          "opacity": 0.7,
          "size": 10,
          "symbol": "circle"
         },
         "mode": "markers",
         "name": "",
         "showlegend": false,
         "subplot": "mapbox",
         "type": "scattermapbox"
        },
        {
         "lat": [
          37.546707,
          37.547199,
          37.5490303,
          37.546848,
          37.547485,
          37.550049
         ],
         "lon": [
          126.874573,
          126.874489,
          126.8783646,
          126.872772,
          126.872025,
          126.873161
         ],
         "marker": {
          "color": "black",
          "opacity": 0.2,
          "size": 8
         },
         "mode": "markers",
         "name": "station with in 0.5km",
         "text": [
          "염창역 3, 4번 출구 사이",
          "염창역 1번 출구",
          "나이아가라관광호텔",
          "KB국민은행 염창역 지점 앞",
          "서울도시가스 앞 ",
          "염창동 새마을금고 건너편 (모닝글로리)"
         ],
         "type": "scattermapbox"
        },
        {
         "lat": [
          37.541142
         ],
         "lon": [
          126.876678
         ],
         "marker": {
          "color": "fuchsia",
          "opacity": 0.8,
          "size": 10
         },
         "mode": "markers",
         "name": "location",
         "text": [
          "목동1단지아파트 118동 앞 (월촌초등학교 정류소 옆"
         ],
         "type": "scattermapbox"
        },
        {
         "lat": [
          37.5496253,
          37.5494964,
          37.5494837,
          37.5493084,
          37.5492274,
          37.5490891,
          37.549049,
          37.5489978,
          37.548916,
          37.5488127,
          37.5488006,
          37.5487536,
          37.5487323,
          37.548574,
          37.5484907,
          37.5483639,
          37.5482973,
          37.5482126,
          37.5481227,
          37.5479809,
          37.5478701,
          37.5478111,
          37.5476469,
          37.5475481,
          37.5473649,
          37.5468934,
          37.5468154,
          37.5466649,
          37.5466458,
          37.5464065,
          37.5462704,
          37.5452647,
          37.5438091,
          37.5429547,
          37.5426482,
          37.5424497,
          37.5424225,
          37.5422061,
          37.5420106,
          37.5419464,
          37.5418441,
          37.5417663,
          37.5398288,
          37.539541,
          37.5391402,
          37.5390949,
          37.5389266,
          37.5388974,
          37.53887,
          37.538858,
          37.53885,
          37.5388664,
          37.5389241,
          37.5390242,
          37.5392327,
          37.5398868,
          37.5404904,
          37.5407553,
          37.541003,
          37.5410683,
          37.5415251,
          37.5415805,
          37.5416216,
          37.5417182,
          37.5418415,
          37.5426407,
          37.5432256,
          37.5432711,
          37.5435141,
          37.5440355,
          37.54525,
          37.5453508,
          37.5454962,
          37.5455605,
          37.5456372,
          37.5457247,
          37.545889,
          37.5459078,
          37.5463993,
          37.5464582,
          37.5471664,
          37.5472645,
          37.5473064,
          37.5478406,
          37.5479302,
          37.5480072,
          37.5480151,
          37.548065,
          37.5480874,
          37.5480854,
          37.5480634,
          37.5480177,
          37.5476666,
          37.5476353,
          37.5473241,
          37.547248,
          37.5472406,
          37.547235,
          37.5472274,
          37.5471907,
          37.5471888,
          37.5471714,
          37.5471439,
          37.5471132
         ],
         "lon": [
          126.9140602,
          126.9138812,
          126.9138643,
          126.9135861,
          126.9134373,
          126.9131656,
          126.9130787,
          126.9129365,
          126.9126314,
          126.9121523,
          126.9120788,
          126.911864,
          126.9117567,
          126.91109,
          126.9108359,
          126.9103592,
          126.9102012,
          126.9100298,
          126.9098788,
          126.90964,
          126.9094801,
          126.9093956,
          126.9091954,
          126.9090751,
          126.9088535,
          126.9082923,
          126.9081979,
          126.9080179,
          126.9079977,
          126.9077132,
          126.9075479,
          126.9063253,
          126.904554,
          126.9034967,
          126.9031267,
          126.9029053,
          126.9028784,
          126.9026944,
          126.9025353,
          126.9024826,
          126.9023985,
          126.9023312,
          126.9008197,
          126.9005956,
          126.900283,
          126.9002471,
          126.8999451,
          126.8998639,
          126.8997962,
          126.8997374,
          126.8995869,
          126.8994374,
          126.8992739,
          126.8991124,
          126.8988119,
          126.8978751,
          126.8969216,
          126.8965516,
          126.8961727,
          126.8960669,
          126.895324,
          126.8952364,
          126.8951636,
          126.8950202,
          126.8947996,
          126.8933386,
          126.8922687,
          126.8921902,
          126.8917694,
          126.8908018,
          126.8884419,
          126.8882248,
          126.8879406,
          126.8878156,
          126.8876655,
          126.8874995,
          126.8872027,
          126.8871743,
          126.886199,
          126.886074,
          126.8846497,
          126.8844372,
          126.8843452,
          126.8832551,
          126.8829895,
          126.8827058,
          126.8826695,
          126.8823827,
          126.882018,
          126.8818177,
          126.8815586,
          126.8812794,
          126.8798117,
          126.8796761,
          126.8782637,
          126.8778488,
          126.8778217,
          126.8777788,
          126.8777166,
          126.8774169,
          126.8773897,
          126.8771634,
          126.8765671,
          126.8758791
         ],
         "marker": {
          "color": "#AD00FF",
          "opacity": 0.1,
          "size": 15,
          "symbol": "circle"
         },
         "mode": "lines",
         "type": "scattermapbox"
        },
        {
         "lat": [
          37.547096772603894,
          37.54706898799031,
          37.54706898799031,
          37.54695788994834,
          37.546802352828394,
          37.546802352828394,
          37.54678568214964,
          37.546785681802554,
          37.54678012352131,
          37.54677456449635
         ],
         "lon": [
          126.8758753694974,
          126.87531153280024,
          126.87531153280024,
          126.8753198685023,
          126.8753393155538,
          126.8753393155538,
          126.87500601307963,
          126.87498657040793,
          126.87479769889643,
          126.87456716451705
         ],
         "marker": {
          "color": "green",
          "opacity": 0.1,
          "size": 15,
          "symbol": "circle"
         },
         "mode": "lines",
         "type": "scattermapbox"
        },
        {
         "lat": [
          37.54677456449635,
          37.54678012352131,
          37.546785681802554,
          37.54678568214964,
          37.54678568214964,
          37.546266298702726,
          37.546266298702726,
          37.545644149627165,
          37.545008113277184,
          37.54473036829542,
          37.54454706173419,
          37.544374864892895,
          37.54424432843537,
          37.54424432843537,
          37.5442109984326,
          37.54379992803486,
          37.54379992803486,
          37.54348330736253,
          37.54348330736253,
          37.543438867937255,
          37.54337498533686,
          37.54324999843376,
          37.54308334980805,
          37.54301391358721,
          37.54287781929443,
          37.54287781929443,
          37.542850046234044,
          37.542850046234044,
          37.54277505505402,
          37.54260007560089,
          37.542508419394636,
          37.542283443524134,
          37.54219178682205,
          37.54210846298012,
          37.54195848086783,
          37.54175017265117,
          37.541694624100785,
          37.54163907594703,
          37.54158352828908,
          37.541389113890936,
          37.541330789125254,
          37.541330789125254,
          37.54130579089177,
          37.54118635503061,
          37.54101414742934,
          37.54101414742934,
          37.540853057927045,
          37.540853057927045,
          37.54086416809327,
          37.54101137775862,
          37.541130813718986,
          37.541136368926054
         ],
         "lon": [
          126.87456716451705,
          126.87479769889643,
          126.87498657040793,
          126.87500601307963,
          126.87500601307963,
          126.875039357999,
          126.875039357999,
          126.87508381590976,
          126.8751282742111,
          126.8751560572767,
          126.87546159013704,
          126.87576156763564,
          126.8759809957497,
          126.8759809957497,
          126.8759504439182,
          126.87555326948291,
          126.87555326948291,
          126.87606712043771,
          126.87606712043771,
          126.8760587891153,
          126.87599490784945,
          126.8759143631567,
          126.87583937468595,
          126.87584770921454,
          126.87590326353708,
          126.87590326353708,
          126.87598659005536,
          126.87598659005536,
          126.87599214721578,
          126.87600326224036,
          126.87599215472268,
          126.87587828255019,
          126.87583939978698,
          126.87582829203464,
          126.87585329397801,
          126.87590329528436,
          126.87593384961825,
          126.87598662414851,
          126.87606717392426,
          126.87648380808008,
          126.87658380060593,
          126.87658380060593,
          126.87651991824502,
          126.8762227264805,
          126.87591998115246,
          126.87591998115246,
          126.8760810821114,
          126.8760810821114,
          126.87610052447049,
          126.876356052585,
          126.87665879939871,
          126.87667546438962
         ],
         "marker": {
          "color": "black",
          "opacity": 0.5,
          "size": 15,
          "symbol": "circle"
         },
         "mode": "lines",
         "type": "scattermapbox"
        }
       ],
       "layout": {
        "legend": {
         "tracegroupgap": 0
        },
        "mapbox": {
         "accesstoken": "pk.eyJ1IjoieWFuZ29vcyIsImEiOiJjbDNqd2tkN2IwbGdmM2pvNzF0c2M4NnZkIn0.J3IjPYg3w28cGiWkUD7bnA",
         "center": {
          "lat": 37.546707,
          "lon": 126.874573
         },
         "domain": {
          "x": [
           0,
           1
          ],
          "y": [
           0,
           1
          ]
         },
         "zoom": 8
        },
        "margin": {
         "b": 20,
         "l": 20,
         "r": 20,
         "t": 20
        },
        "template": {
         "data": {
          "bar": [
           {
            "error_x": {
             "color": "#2a3f5f"
            },
            "error_y": {
             "color": "#2a3f5f"
            },
            "marker": {
             "line": {
              "color": "#E5ECF6",
              "width": 0.5
             },
             "pattern": {
              "fillmode": "overlay",
              "size": 10,
              "solidity": 0.2
             }
            },
            "type": "bar"
           }
          ],
          "barpolar": [
           {
            "marker": {
             "line": {
              "color": "#E5ECF6",
              "width": 0.5
             },
             "pattern": {
              "fillmode": "overlay",
              "size": 10,
              "solidity": 0.2
             }
            },
            "type": "barpolar"
           }
          ],
          "carpet": [
           {
            "aaxis": {
             "endlinecolor": "#2a3f5f",
             "gridcolor": "white",
             "linecolor": "white",
             "minorgridcolor": "white",
             "startlinecolor": "#2a3f5f"
            },
            "baxis": {
             "endlinecolor": "#2a3f5f",
             "gridcolor": "white",
             "linecolor": "white",
             "minorgridcolor": "white",
             "startlinecolor": "#2a3f5f"
            },
            "type": "carpet"
           }
          ],
          "choropleth": [
           {
            "colorbar": {
             "outlinewidth": 0,
             "ticks": ""
            },
            "type": "choropleth"
           }
          ],
          "contour": [
           {
            "colorbar": {
             "outlinewidth": 0,
             "ticks": ""
            },
            "colorscale": [
             [
              0,
              "#0d0887"
             ],
             [
              0.1111111111111111,
              "#46039f"
             ],
             [
              0.2222222222222222,
              "#7201a8"
             ],
             [
              0.3333333333333333,
              "#9c179e"
             ],
             [
              0.4444444444444444,
              "#bd3786"
             ],
             [
              0.5555555555555556,
              "#d8576b"
             ],
             [
              0.6666666666666666,
              "#ed7953"
             ],
             [
              0.7777777777777778,
              "#fb9f3a"
             ],
             [
              0.8888888888888888,
              "#fdca26"
             ],
             [
              1,
              "#f0f921"
             ]
            ],
            "type": "contour"
           }
          ],
          "contourcarpet": [
           {
            "colorbar": {
             "outlinewidth": 0,
             "ticks": ""
            },
            "type": "contourcarpet"
           }
          ],
          "heatmap": [
           {
            "colorbar": {
             "outlinewidth": 0,
             "ticks": ""
            },
            "colorscale": [
             [
              0,
              "#0d0887"
             ],
             [
              0.1111111111111111,
              "#46039f"
             ],
             [
              0.2222222222222222,
              "#7201a8"
             ],
             [
              0.3333333333333333,
              "#9c179e"
             ],
             [
              0.4444444444444444,
              "#bd3786"
             ],
             [
              0.5555555555555556,
              "#d8576b"
             ],
             [
              0.6666666666666666,
              "#ed7953"
             ],
             [
              0.7777777777777778,
              "#fb9f3a"
             ],
             [
              0.8888888888888888,
              "#fdca26"
             ],
             [
              1,
              "#f0f921"
             ]
            ],
            "type": "heatmap"
           }
          ],
          "heatmapgl": [
           {
            "colorbar": {
             "outlinewidth": 0,
             "ticks": ""
            },
            "colorscale": [
             [
              0,
              "#0d0887"
             ],
             [
              0.1111111111111111,
              "#46039f"
             ],
             [
              0.2222222222222222,
              "#7201a8"
             ],
             [
              0.3333333333333333,
              "#9c179e"
             ],
             [
              0.4444444444444444,
              "#bd3786"
             ],
             [
              0.5555555555555556,
              "#d8576b"
             ],
             [
              0.6666666666666666,
              "#ed7953"
             ],
             [
              0.7777777777777778,
              "#fb9f3a"
             ],
             [
              0.8888888888888888,
              "#fdca26"
             ],
             [
              1,
              "#f0f921"
             ]
            ],
            "type": "heatmapgl"
           }
          ],
          "histogram": [
           {
            "marker": {
             "pattern": {
              "fillmode": "overlay",
              "size": 10,
              "solidity": 0.2
             }
            },
            "type": "histogram"
           }
          ],
          "histogram2d": [
           {
            "colorbar": {
             "outlinewidth": 0,
             "ticks": ""
            },
            "colorscale": [
             [
              0,
              "#0d0887"
             ],
             [
              0.1111111111111111,
              "#46039f"
             ],
             [
              0.2222222222222222,
              "#7201a8"
             ],
             [
              0.3333333333333333,
              "#9c179e"
             ],
             [
              0.4444444444444444,
              "#bd3786"
             ],
             [
              0.5555555555555556,
              "#d8576b"
             ],
             [
              0.6666666666666666,
              "#ed7953"
             ],
             [
              0.7777777777777778,
              "#fb9f3a"
             ],
             [
              0.8888888888888888,
              "#fdca26"
             ],
             [
              1,
              "#f0f921"
             ]
            ],
            "type": "histogram2d"
           }
          ],
          "histogram2dcontour": [
           {
            "colorbar": {
             "outlinewidth": 0,
             "ticks": ""
            },
            "colorscale": [
             [
              0,
              "#0d0887"
             ],
             [
              0.1111111111111111,
              "#46039f"
             ],
             [
              0.2222222222222222,
              "#7201a8"
             ],
             [
              0.3333333333333333,
              "#9c179e"
             ],
             [
              0.4444444444444444,
              "#bd3786"
             ],
             [
              0.5555555555555556,
              "#d8576b"
             ],
             [
              0.6666666666666666,
              "#ed7953"
             ],
             [
              0.7777777777777778,
              "#fb9f3a"
             ],
             [
              0.8888888888888888,
              "#fdca26"
             ],
             [
              1,
              "#f0f921"
             ]
            ],
            "type": "histogram2dcontour"
           }
          ],
          "mesh3d": [
           {
            "colorbar": {
             "outlinewidth": 0,
             "ticks": ""
            },
            "type": "mesh3d"
           }
          ],
          "parcoords": [
           {
            "line": {
             "colorbar": {
              "outlinewidth": 0,
              "ticks": ""
             }
            },
            "type": "parcoords"
           }
          ],
          "pie": [
           {
            "automargin": true,
            "type": "pie"
           }
          ],
          "scatter": [
           {
            "fillpattern": {
             "fillmode": "overlay",
             "size": 10,
             "solidity": 0.2
            },
            "type": "scatter"
           }
          ],
          "scatter3d": [
           {
            "line": {
             "colorbar": {
              "outlinewidth": 0,
              "ticks": ""
             }
            },
            "marker": {
             "colorbar": {
              "outlinewidth": 0,
              "ticks": ""
             }
            },
            "type": "scatter3d"
           }
          ],
          "scattercarpet": [
           {
            "marker": {
             "colorbar": {
              "outlinewidth": 0,
              "ticks": ""
             }
            },
            "type": "scattercarpet"
           }
          ],
          "scattergeo": [
           {
            "marker": {
             "colorbar": {
              "outlinewidth": 0,
              "ticks": ""
             }
            },
            "type": "scattergeo"
           }
          ],
          "scattergl": [
           {
            "marker": {
             "colorbar": {
              "outlinewidth": 0,
              "ticks": ""
             }
            },
            "type": "scattergl"
           }
          ],
          "scattermapbox": [
           {
            "marker": {
             "colorbar": {
              "outlinewidth": 0,
              "ticks": ""
             }
            },
            "type": "scattermapbox"
           }
          ],
          "scatterpolar": [
           {
            "marker": {
             "colorbar": {
              "outlinewidth": 0,
              "ticks": ""
             }
            },
            "type": "scatterpolar"
           }
          ],
          "scatterpolargl": [
           {
            "marker": {
             "colorbar": {
              "outlinewidth": 0,
              "ticks": ""
             }
            },
            "type": "scatterpolargl"
           }
          ],
          "scatterternary": [
           {
            "marker": {
             "colorbar": {
              "outlinewidth": 0,
              "ticks": ""
             }
            },
            "type": "scatterternary"
           }
          ],
          "surface": [
           {
            "colorbar": {
             "outlinewidth": 0,
             "ticks": ""
            },
            "colorscale": [
             [
              0,
              "#0d0887"
             ],
             [
              0.1111111111111111,
              "#46039f"
             ],
             [
              0.2222222222222222,
              "#7201a8"
             ],
             [
              0.3333333333333333,
              "#9c179e"
             ],
             [
              0.4444444444444444,
              "#bd3786"
             ],
             [
              0.5555555555555556,
              "#d8576b"
             ],
             [
              0.6666666666666666,
              "#ed7953"
             ],
             [
              0.7777777777777778,
              "#fb9f3a"
             ],
             [
              0.8888888888888888,
              "#fdca26"
             ],
             [
              1,
              "#f0f921"
             ]
            ],
            "type": "surface"
           }
          ],
          "table": [
           {
            "cells": {
             "fill": {
              "color": "#EBF0F8"
             },
             "line": {
              "color": "white"
             }
            },
            "header": {
             "fill": {
              "color": "#C8D4E3"
             },
             "line": {
              "color": "white"
             }
            },
            "type": "table"
           }
          ]
         },
         "layout": {
          "annotationdefaults": {
           "arrowcolor": "#2a3f5f",
           "arrowhead": 0,
           "arrowwidth": 1
          },
          "autotypenumbers": "strict",
          "coloraxis": {
           "colorbar": {
            "outlinewidth": 0,
            "ticks": ""
           }
          },
          "colorscale": {
           "diverging": [
            [
             0,
             "#8e0152"
            ],
            [
             0.1,
             "#c51b7d"
            ],
            [
             0.2,
             "#de77ae"
            ],
            [
             0.3,
             "#f1b6da"
            ],
            [
             0.4,
             "#fde0ef"
            ],
            [
             0.5,
             "#f7f7f7"
            ],
            [
             0.6,
             "#e6f5d0"
            ],
            [
             0.7,
             "#b8e186"
            ],
            [
             0.8,
             "#7fbc41"
            ],
            [
             0.9,
             "#4d9221"
            ],
            [
             1,
             "#276419"
            ]
           ],
           "sequential": [
            [
             0,
             "#0d0887"
            ],
            [
             0.1111111111111111,
             "#46039f"
            ],
            [
             0.2222222222222222,
             "#7201a8"
            ],
            [
             0.3333333333333333,
             "#9c179e"
            ],
            [
             0.4444444444444444,
             "#bd3786"
            ],
            [
             0.5555555555555556,
             "#d8576b"
            ],
            [
             0.6666666666666666,
             "#ed7953"
            ],
            [
             0.7777777777777778,
             "#fb9f3a"
            ],
            [
             0.8888888888888888,
             "#fdca26"
            ],
            [
             1,
             "#f0f921"
            ]
           ],
           "sequentialminus": [
            [
             0,
             "#0d0887"
            ],
            [
             0.1111111111111111,
             "#46039f"
            ],
            [
             0.2222222222222222,
             "#7201a8"
            ],
            [
             0.3333333333333333,
             "#9c179e"
            ],
            [
             0.4444444444444444,
             "#bd3786"
            ],
            [
             0.5555555555555556,
             "#d8576b"
            ],
            [
             0.6666666666666666,
             "#ed7953"
            ],
            [
             0.7777777777777778,
             "#fb9f3a"
            ],
            [
             0.8888888888888888,
             "#fdca26"
            ],
            [
             1,
             "#f0f921"
            ]
           ]
          },
          "colorway": [
           "#636efa",
           "#EF553B",
           "#00cc96",
           "#ab63fa",
           "#FFA15A",
           "#19d3f3",
           "#FF6692",
           "#B6E880",
           "#FF97FF",
           "#FECB52"
          ],
          "font": {
           "color": "#2a3f5f"
          },
          "geo": {
           "bgcolor": "white",
           "lakecolor": "white",
           "landcolor": "#E5ECF6",
           "showlakes": true,
           "showland": true,
           "subunitcolor": "white"
          },
          "hoverlabel": {
           "align": "left"
          },
          "hovermode": "closest",
          "mapbox": {
           "style": "light"
          },
          "paper_bgcolor": "white",
          "plot_bgcolor": "#E5ECF6",
          "polar": {
           "angularaxis": {
            "gridcolor": "white",
            "linecolor": "white",
            "ticks": ""
           },
           "bgcolor": "#E5ECF6",
           "radialaxis": {
            "gridcolor": "white",
            "linecolor": "white",
            "ticks": ""
           }
          },
          "scene": {
           "xaxis": {
            "backgroundcolor": "#E5ECF6",
            "gridcolor": "white",
            "gridwidth": 2,
            "linecolor": "white",
            "showbackground": true,
            "ticks": "",
            "zerolinecolor": "white"
           },
           "yaxis": {
            "backgroundcolor": "#E5ECF6",
            "gridcolor": "white",
            "gridwidth": 2,
            "linecolor": "white",
            "showbackground": true,
            "ticks": "",
            "zerolinecolor": "white"
           },
           "zaxis": {
            "backgroundcolor": "#E5ECF6",
            "gridcolor": "white",
            "gridwidth": 2,
            "linecolor": "white",
            "showbackground": true,
            "ticks": "",
            "zerolinecolor": "white"
           }
          },
          "shapedefaults": {
           "line": {
            "color": "#2a3f5f"
           }
          },
          "ternary": {
           "aaxis": {
            "gridcolor": "white",
            "linecolor": "white",
            "ticks": ""
           },
           "baxis": {
            "gridcolor": "white",
            "linecolor": "white",
            "ticks": ""
           },
           "bgcolor": "#E5ECF6",
           "caxis": {
            "gridcolor": "white",
            "linecolor": "white",
            "ticks": ""
           }
          },
          "title": {
           "x": 0.05
          },
          "xaxis": {
           "automargin": true,
           "gridcolor": "white",
           "linecolor": "white",
           "ticks": "",
           "title": {
            "standoff": 15
           },
           "zerolinecolor": "white",
           "zerolinewidth": 2
          },
          "yaxis": {
           "automargin": true,
           "gridcolor": "white",
           "linecolor": "white",
           "ticks": "",
           "title": {
            "standoff": 15
           },
           "zerolinecolor": "white",
           "zerolinewidth": 2
          }
         }
        }
       }
      }
     },
     "metadata": {},
     "output_type": "display_data"
    }
   ],
   "source": [
    "import plotly.graph_objects as go\n",
    "import plotly.express as px\n",
    "\n",
    "#-- 자전거 시작 대여소 -- #\n",
    "# dataframe밖에 안되는듯.\n",
    "fig = px.scatter_mapbox(pd.DataFrame(departure_station).T, lat='latitude', lon=\"longtitude\")\n",
    "fig.update_traces(\n",
    "    marker=go.scattermapbox.Marker(symbol=\"circle\", size=10, opacity=0.7, color=\"blue\")\n",
    ")\n",
    "\n",
    "# -- bus 정류장 출발 도착 지점 --#\n",
    "fig_2 = px.scatter_mapbox(route_start_and_end, lat=\"latitude\", lon=\"longtitude\", hover_name=\"name\")\n",
    "fig_2.update_traces(\n",
    "    marker=go.scattermapbox.Marker(symbol=\"circle\", size=10, opacity=0.7, color=\"#AD00FF\")\n",
    ")\n",
    "\n",
    "# --반경 내 따릉이 대여소--#\n",
    "fig_3 = go.Figure(\n",
    "    go.Scattermapbox(\n",
    "        name=f\"station with in {round(500/1000,2)}km\",\n",
    "        lat=bike_recommend[\"latitude\"],\n",
    "        lon=bike_recommend[\"longtitude\"],\n",
    "        mode=\"markers\",\n",
    "        marker=go.scattermapbox.Marker(size=8, color=\"black\", opacity=0.2),\n",
    "        text=bike_recommend[\"st_name\"],\n",
    "    )\n",
    ")\n",
    "\n",
    "# --목적지 대여소 -- #\n",
    "fig_4 = go.Figure(\n",
    "    go.Scattermapbox(\n",
    "        name=\"location\",\n",
    "        lat=arrival_info[\"latitude\"],\n",
    "        lon=arrival_info[\"longtitude\"],\n",
    "        mode=\"markers\",\n",
    "        # marker = {'size': 20, 'symbol': \"bus\"},\n",
    "        marker=go.scattermapbox.Marker(size=10, color=\"fuchsia\", opacity=0.8),\n",
    "        text=arrival_info[\"st_name\"].values,\n",
    "    )\n",
    ")\n",
    "\n",
    "# -- 버스 route -- #\n",
    "fig_5 = go.Figure(\n",
    "    go.Scattermapbox(\n",
    "        lat=bus_route_coor[1],\n",
    "        lon=bus_route_coor[0],\n",
    "        mode=\"lines\",\n",
    "        marker=dict(symbol=\"circle\", size=15, color='#AD00FF' , opacity=0.1),\n",
    "    )\n",
    ")\n",
    "\n",
    "# -- 도보 route -- #\n",
    "fig_6 = go.Figure(\n",
    "    go.Scattermapbox(\n",
    "        lat=walk_route_coor[1],\n",
    "        lon=walk_route_coor[0],\n",
    "        mode=\"lines\",\n",
    "        marker=dict(symbol=\"circle\", size=15, color='green' , opacity=0.1),\n",
    "    )\n",
    ")\n",
    "\n",
    "# -- 자전거 route -- #\n",
    "fig_7 = go.Figure(\n",
    "    go.Scattermapbox(\n",
    "        lat=bike_route_coor[1],\n",
    "        lon=bike_route_coor[0],\n",
    "        mode=\"lines\",\n",
    "        marker=dict(symbol=\"circle\", size=15, color='black' , opacity=0.5),\n",
    "    )\n",
    ")\n",
    "\n",
    "\n",
    "\n",
    "\n",
    "# -- main route에 종합 -- #\n",
    "fig.add_trace(fig_2.data[0])\n",
    "fig.add_trace(fig_3.data[0])\n",
    "fig.add_trace(fig_4.data[0])\n",
    "fig.add_trace(fig_5.data[0])\n",
    "fig.add_trace(fig_6.data[0])\n",
    "fig.add_trace(fig_7.data[0])\n",
    "\n",
    "fig.update_layout(\n",
    "    mapbox=dict(\n",
    "        accesstoken=\"pk.eyJ1IjoieWFuZ29vcyIsImEiOiJjbDNqd2tkN2IwbGdmM2pvNzF0c2M4NnZkIn0.J3IjPYg3w28cGiWkUD7bnA\",\n",
    "        # style='mapbox://styles/yangoos/cl3jubvl7000c14llgtoev0nm'\n",
    "    ),\n",
    "    margin=dict(l=20, r=20, t=20, b=20)\n",
    ")\n",
    "fig.show()\n"
   ]
  },
  {
   "cell_type": "code",
   "execution_count": null,
   "metadata": {},
   "outputs": [],
   "source": [
    "ending_point  = station.query(\"id == @ending_bike_id\")[['경도','위도']].values[0]\n",
    "\n",
    "starting_point = result_recommend[['경도','위도']].values[0]\n"
   ]
  },
  {
   "cell_type": "markdown",
   "metadata": {},
   "source": [
    "> ### 길찾기 기능(비추..)"
   ]
  },
  {
   "cell_type": "code",
   "execution_count": null,
   "metadata": {},
   "outputs": [],
   "source": [
    "a = [[\"합정역\", 126.913997,  37.549682] \n",
    ",[\"당산역\", 126.902410, 37.534863]]"
   ]
  },
  {
   "cell_type": "code",
   "execution_count": null,
   "metadata": {},
   "outputs": [],
   "source": [
    "import requests\n",
    "\n",
    "\n",
    "def bike_route(departure, arrival) :\n",
    "    url = \"https://apis.openapi.sk.com/tmap/routes/pedestrian?version=1\"\n",
    "\n",
    "    payload = {\n",
    "        \"angle\": 0,\n",
    "        \"speed\": 0,\n",
    "        \"reqCoordType\": \"WGS84GEO\",\n",
    "        \"searchOption\": \"0\",\n",
    "        \"resCoordType\": \"WGS84GEO\",\n",
    "        \"sort\": \"index\",\n",
    "        \"startX\": a[0][1],\n",
    "        \"startY\": a[0][2],\n",
    "        \"endX\": a[1][1],\n",
    "        \"endY\": a[1][2],\n",
    "        \"startName\": a[0][0],\n",
    "        \"endName\": a[0][0],\n",
    "    }\n",
    "    headers = {\n",
    "        \"Accept\": \"application/json\",\n",
    "        \"Content-Type\": \"application/json\",\n",
    "        \"appKey\": \"l7xxfdc75c1509a74ecdba02bf5e024ee9d5\"\n",
    "    }\n",
    "\n",
    "    response = requests.post(url, json=payload, headers=headers).text\n",
    "\n",
    "    api_data = json.loads(response).get('features')\n",
    "\n",
    "    coor_raw_data = [api_data[i].get('geometry').get('coordinates') for i in range(0,len(api_data))]\n",
    "\n",
    "    finish_data = []\n",
    "    for data in coor_raw_data :\n",
    "        # data = api_data[1].get('geometry').get('coordinates')\n",
    "        if type(data[0]) == list :\n",
    "            for i in data:\n",
    "                finish_data.append(i)\n",
    "        else :\n",
    "            pass\n",
    "    return pd.DataFrame(finish_data).T.values\n",
    "\n"
   ]
  },
  {
   "cell_type": "code",
   "execution_count": null,
   "metadata": {},
   "outputs": [],
   "source": [
    "b = pd.DataFrame(finish_data).T.values\n",
    "\n",
    "fig = go.Figure(\n",
    "    go.Scattermapbox(\n",
    "        lat=b[1],\n",
    "        lon=b[0],\n",
    "        mode=\"lines\",\n",
    "        marker=dict(symbol=\"circle\", size=15, color='#black' , opacity=0.5),\n",
    "    )\n",
    ")\n",
    "# fig.add_trace(fig_1.data[0])\n",
    "\n",
    "fig.update_layout(\n",
    "    mapbox=dict(\n",
    "        accesstoken=\"pk.eyJ1IjoieWFuZ29vcyIsImEiOiJjbDNqd2tkN2IwbGdmM2pvNzF0c2M4NnZkIn0.J3IjPYg3w28cGiWkUD7bnA\",\n",
    "        # style='mapbox://styles/yangoos/cl3jubvl7000c14llgtoev0nm'\n",
    "    ),\n",
    "    margin=dict(l=20, r=20, t=20, b=20)\n",
    ")\n",
    "fig.show()\n"
   ]
  },
  {
   "cell_type": "markdown",
   "metadata": {},
   "source": [
    "> ### 자전거 대여소 간 계산\n",
    "* 해당 경우 검색 시 \n",
    "* 지하철 -> 대여소 -> 대여소\n",
    "* 대여소 -> 대여소 "
   ]
  },
  {
   "cell_type": "code",
   "execution_count": null,
   "metadata": {},
   "outputs": [],
   "source": [
    "\n",
    "\n",
    "# 345ms\n",
    "def st_to_st_new (starting_station, ending_station):\n",
    "\n",
    "    lat_1=station.query('id==@starting_station')['위도'].values\n",
    "    lon_1=station.query('id==@starting_station')['경도'].values\n",
    "    lat_2=station.query('id==@ending_station')['위도'].values\n",
    "    lon_2=station.query('id==@ending_station')['경도'].values\n",
    "    dist_station = haversine_np(lat_1,lon_1,lat_2,lon_2)\n",
    "\n",
    "    BM_1 = (seoul_bike['st_id1'] == starting_station) & (seoul_bike['st_id2'] == ending_station)\n",
    "    BM_2 = (seoul_bike['st_id2'] == starting_station) & (seoul_bike['st_id1'] == ending_station)\n",
    "\n",
    "    # 평균거리 계산\n",
    "    sort_station = seoul_bike[BM_1 | BM_2]\n",
    "    mean_station = sort_station[sort_station['dist'] < dist_station[0]*2]['riding_time'].value_counts()[:5].index.values.mean()\n",
    "    num_station = len(sort_station)\n",
    "\n",
    "    print(mean_station,num_station,f'{dist_station[0]/1000 :.2f}km' )\n",
    "\n",
    "st_to_st_new(207, 754)\n"
   ]
  },
  {
   "cell_type": "code",
   "execution_count": null,
   "metadata": {},
   "outputs": [],
   "source": [
    "## 옛날자료\n",
    "\n",
    "def st_to_st(starting_station, ending_station):\n",
    "\n",
    "    \"\"\"\n",
    "    starting_station = list or val이고 bike_station id가 들어감\n",
    "    ending_station = list or val이고 bike_station id가 들어감\n",
    "    \"\"\"\n",
    "\n",
    "    # int 또는 list로 starting station 받기\n",
    "    if type(starting_station) == int:\n",
    "        starting_station_list = list()\n",
    "        starting_station_list.append(starting_station)\n",
    "    else:\n",
    "        starting_station_list = starting_station\n",
    "\n",
    "    for starting_station in starting_station_list:\n",
    "        BM_1 = (seoul_bike_sorting[\"st_id1\"] == starting_station) & (\n",
    "            seoul_bike_sorting[\"st_id2\"] == ending_station\n",
    "        )\n",
    "        BM_2 = (seoul_bike_sorting[\"st_id2\"] == starting_station) & (\n",
    "            seoul_bike_sorting[\"st_id1\"] == ending_station\n",
    "        )\n",
    "\n",
    "        # 평균거리 계산\n",
    "        mean_station = (\n",
    "            seoul_bike_sorting[BM_1 | BM_2][\"riding_time\"]\n",
    "            .value_counts()\n",
    "            .sort_values(ascending=False)[:5]\n",
    "            .index.values.mean()\n",
    "        )\n",
    "\n",
    "        # 이용기록 계산\n",
    "        num_station = len(seoul_bike_sorting[BM_1 | BM_2])\n",
    "\n",
    "        # 직선거리 계산\n",
    "        lat_1 = station.query(\"id==@starting_station\")[\"위도\"].values\n",
    "        lon_1 = station.query(\"id==@starting_station\")[\"경도\"].values\n",
    "        lat_2 = station.query(\"id==@ending_station\")[\"위도\"].values\n",
    "        lon_2 = station.query(\"id==@ending_station\")[\"경도\"].values\n",
    "        dist_station = haversine_np(lat_1, lon_1, lat_2, lon_2)\n",
    "        print(mean_station, num_station, f\"{dist_station[0]/1000 :.2f}km\")\n",
    "    # return\n",
    "\n",
    "\n",
    "st_to_st(counts_station, 754)\n"
   ]
  }
 ],
 "metadata": {
  "kernelspec": {
   "display_name": "Python 3.8.9 64-bit",
   "language": "python",
   "name": "python3"
  },
  "language_info": {
   "codemirror_mode": {
    "name": "ipython",
    "version": 3
   },
   "file_extension": ".py",
   "mimetype": "text/x-python",
   "name": "python",
   "nbconvert_exporter": "python",
   "pygments_lexer": "ipython3",
   "version": "3.8.9"
  },
  "orig_nbformat": 4,
  "vscode": {
   "interpreter": {
    "hash": "31f2aee4e71d21fbe5cf8b01ff0e069b9275f58929596ceb00d14d90e3e16cd6"
   }
  }
 },
 "nbformat": 4,
 "nbformat_minor": 2
}
