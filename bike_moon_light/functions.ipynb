{
 "cells": [
  {
   "cell_type": "code",
   "execution_count": 23,
   "metadata": {},
   "outputs": [],
   "source": [
    "import mlutils\n",
    "import warnings\n",
    "import os\n",
    "import pandas as pd\n",
    "warnings.filterwarnings(action=\"ignore\")\n",
    "os.getcwd()\n",
    "\n",
    "station = pd.read_csv(\n",
    "    \"assets/seoul_bike_station_01_12.csv\", encoding=\"CP949\", index_col=0\n",
    ")\n",
    "near_bus = pd.read_csv(\n",
    "    \"assets/near_bus_500m.csv\", encoding=\"CP949\", index_col=0\n",
    ")\n",
    "seoul_bike = pd.read_parquet(\n",
    "    \"/Users/yangwoolee/git_repo/seoul_bike_dash/parquet/220607_bike_record.parquet.gzip\"\n",
    ")\n",
    "sub_info = pd.read_csv(\n",
    "    \"assets/sub_and_bike_info.csv\", encoding=\"CP949\", index_col=0\n",
    ")\n",
    "\n",
    "search_info = pd.read_csv(\n",
    "    \"assets/search_info.csv\", encoding=\"CP949\", index_col=0\n",
    ")\n",
    "moon_light = mlutils.moon_light(station,near_bus,seoul_bike,sub_info)\n"
   ]
  },
  {
   "cell_type": "code",
   "execution_count": 26,
   "metadata": {},
   "outputs": [
    {
     "data": {
      "text/html": [
       "<div>\n",
       "<style scoped>\n",
       "    .dataframe tbody tr th:only-of-type {\n",
       "        vertical-align: middle;\n",
       "    }\n",
       "\n",
       "    .dataframe tbody tr th {\n",
       "        vertical-align: top;\n",
       "    }\n",
       "\n",
       "    .dataframe thead th {\n",
       "        text-align: right;\n",
       "    }\n",
       "</style>\n",
       "<table border=\"1\" class=\"dataframe\">\n",
       "  <thead>\n",
       "    <tr style=\"text-align: right;\">\n",
       "      <th></th>\n",
       "      <th>value</th>\n",
       "      <th>label</th>\n",
       "    </tr>\n",
       "  </thead>\n",
       "  <tbody>\n",
       "    <tr>\n",
       "      <th>529</th>\n",
       "      <td>529</td>\n",
       "      <td>목동1단지아파트 상가 앞 (월촌중학교 버스정류소 옆)</td>\n",
       "    </tr>\n",
       "  </tbody>\n",
       "</table>\n",
       "</div>"
      ],
      "text/plain": [
       "     value                          label\n",
       "529    529  목동1단지아파트 상가 앞 (월촌중학교 버스정류소 옆)"
      ]
     },
     "execution_count": 26,
     "metadata": {},
     "output_type": "execute_result"
    }
   ],
   "source": [
    "mlutils.search_by_text(search_info,'월촌중')"
   ]
  },
  {
   "cell_type": "code",
   "execution_count": null,
   "metadata": {},
   "outputs": [],
   "source": [
    "bike= search_info[search_info['value'] <3000]\n",
    "\n",
    "for i in range(100) :\n",
    "    dep = search_info.sample(1)\n",
    "    dep_id = dep['value'].iloc[0]\n",
    "    arr = bike.sample(1)\n",
    "    arr_id = arr.index[0] \n",
    "    try : \n",
    "        moon_light.route_data(dep_id,arr_id)\n",
    "    except :\n",
    "        print(dep, arr)\n",
    "        break\n"
   ]
  },
  {
   "cell_type": "code",
   "execution_count": 27,
   "metadata": {},
   "outputs": [
    {
     "name": "stdout",
     "output_type": "stream",
     "text": [
      "버스\n"
     ]
    },
    {
     "ename": "IndexError",
     "evalue": "single positional indexer is out-of-bounds",
     "output_type": "error",
     "traceback": [
      "\u001b[0;31m---------------------------------------------------------------------------\u001b[0m",
      "\u001b[0;31mIndexError\u001b[0m                                Traceback (most recent call last)",
      "\u001b[1;32m/Users/yangwoolee/git_repo/seoul_bike_dash/bike_moon_light/functions.ipynb Cell 4'\u001b[0m in \u001b[0;36m<cell line: 1>\u001b[0;34m()\u001b[0m\n\u001b[0;32m----> <a href='vscode-notebook-cell:/Users/yangwoolee/git_repo/seoul_bike_dash/bike_moon_light/functions.ipynb#ch0000019?line=0'>1</a>\u001b[0m moon_light\u001b[39m.\u001b[39;49mroute_data(\u001b[39m4443\u001b[39;49m,\u001b[39m529\u001b[39;49m)\n",
      "File \u001b[0;32m~/git_repo/seoul_bike_dash/bike_moon_light/mlutils.py:81\u001b[0m, in \u001b[0;36mmoon_light.route_data\u001b[0;34m(self, dep_id, arr_id)\u001b[0m\n\u001b[1;32m     78\u001b[0m     \u001b[39mreturn\u001b[39;00m {\u001b[39m\"\u001b[39m\u001b[39merror\u001b[39m\u001b[39m\"\u001b[39m: \u001b[39m\"\u001b[39m\u001b[39m해당 목적지로 이동가능한 야간버스가 없습니다.\u001b[39m\u001b[39m\"\u001b[39m}\n\u001b[1;32m     80\u001b[0m \u001b[39m# * -- 경로 선택 및 경로 노선 추출 -- *\u001b[39;00m\n\u001b[0;32m---> 81\u001b[0m bus_whole, waypoint, bus_start_end \u001b[39m=\u001b[39m \u001b[39mself\u001b[39m\u001b[39m.\u001b[39mbus_route_info(dep_arr_bus_info)\n\u001b[1;32m     83\u001b[0m \u001b[39m# * -- 좌표 받기 -- *\u001b[39;00m\n\u001b[1;32m     84\u001b[0m arr_trans \u001b[39m=\u001b[39m bus_start_end\u001b[39m.\u001b[39miloc[[\u001b[39m1\u001b[39m]]\n",
      "File \u001b[0;32m~/git_repo/seoul_bike_dash/bike_moon_light/mlutils.py:343\u001b[0m, in \u001b[0;36mbus_route_info\u001b[0;34m(self, bus_route)\u001b[0m\n\u001b[1;32m    339\u001b[0m bus_name \u001b[39m=\u001b[39m bus_route[\u001b[39m\"\u001b[39m\u001b[39mbus\u001b[39m\u001b[39m\"\u001b[39m]\u001b[39m.\u001b[39miloc[\u001b[39m0\u001b[39m]\n\u001b[1;32m    341\u001b[0m \u001b[39m# 자료 sorting\u001b[39;00m\n\u001b[1;32m    342\u001b[0m route_whole \u001b[39m=\u001b[39m \u001b[39mself\u001b[39m\u001b[39m.\u001b[39mnear_bus\u001b[39m.\u001b[39mquery(\n\u001b[0;32m--> 343\u001b[0m     \u001b[39m\"\u001b[39m\u001b[39m@bus_order_start <= order <= @bus_order_end & bus == @bus_name\u001b[39m\u001b[39m\"\u001b[39m\n\u001b[1;32m    344\u001b[0m )[[\u001b[39m\"\u001b[39m\u001b[39mname\u001b[39m\u001b[39m\"\u001b[39m, \u001b[39m\"\u001b[39m\u001b[39mlongtitude\u001b[39m\u001b[39m\"\u001b[39m, \u001b[39m\"\u001b[39m\u001b[39mlatitude\u001b[39m\u001b[39m\"\u001b[39m, \u001b[39m\"\u001b[39m\u001b[39morder\u001b[39m\u001b[39m\"\u001b[39m, \u001b[39m\"\u001b[39m\u001b[39mbike_id\u001b[39m\u001b[39m\"\u001b[39m]]\u001b[39m.\u001b[39msort_values(\n\u001b[1;32m    345\u001b[0m     by\u001b[39m=\u001b[39m\u001b[39m\"\u001b[39m\u001b[39morder\u001b[39m\u001b[39m\"\u001b[39m\n\u001b[1;32m    346\u001b[0m )\n\u001b[1;32m    348\u001b[0m route_start \u001b[39m=\u001b[39m route_whole\u001b[39m.\u001b[39miloc[\u001b[39m0\u001b[39m]\n\u001b[1;32m    349\u001b[0m route_end \u001b[39m=\u001b[39m route_whole\u001b[39m.\u001b[39miloc[\u001b[39m-\u001b[39m\u001b[39m1\u001b[39m]\n",
      "File \u001b[0;32m~/Library/Python/3.8/lib/python/site-packages/pandas/core/indexing.py:967\u001b[0m, in \u001b[0;36m_LocationIndexer.__getitem__\u001b[0;34m(self, key)\u001b[0m\n\u001b[1;32m    964\u001b[0m axis \u001b[39m=\u001b[39m \u001b[39mself\u001b[39m\u001b[39m.\u001b[39maxis \u001b[39mor\u001b[39;00m \u001b[39m0\u001b[39m\n\u001b[1;32m    966\u001b[0m maybe_callable \u001b[39m=\u001b[39m com\u001b[39m.\u001b[39mapply_if_callable(key, \u001b[39mself\u001b[39m\u001b[39m.\u001b[39mobj)\n\u001b[0;32m--> 967\u001b[0m \u001b[39mreturn\u001b[39;00m \u001b[39mself\u001b[39;49m\u001b[39m.\u001b[39;49m_getitem_axis(maybe_callable, axis\u001b[39m=\u001b[39;49maxis)\n",
      "File \u001b[0;32m~/Library/Python/3.8/lib/python/site-packages/pandas/core/indexing.py:1520\u001b[0m, in \u001b[0;36m_iLocIndexer._getitem_axis\u001b[0;34m(self, key, axis)\u001b[0m\n\u001b[1;32m   1517\u001b[0m     \u001b[39mraise\u001b[39;00m \u001b[39mTypeError\u001b[39;00m(\u001b[39m\"\u001b[39m\u001b[39mCannot index by location index with a non-integer key\u001b[39m\u001b[39m\"\u001b[39m)\n\u001b[1;32m   1519\u001b[0m \u001b[39m# validate the location\u001b[39;00m\n\u001b[0;32m-> 1520\u001b[0m \u001b[39mself\u001b[39;49m\u001b[39m.\u001b[39;49m_validate_integer(key, axis)\n\u001b[1;32m   1522\u001b[0m \u001b[39mreturn\u001b[39;00m \u001b[39mself\u001b[39m\u001b[39m.\u001b[39mobj\u001b[39m.\u001b[39m_ixs(key, axis\u001b[39m=\u001b[39maxis)\n",
      "File \u001b[0;32m~/Library/Python/3.8/lib/python/site-packages/pandas/core/indexing.py:1452\u001b[0m, in \u001b[0;36m_iLocIndexer._validate_integer\u001b[0;34m(self, key, axis)\u001b[0m\n\u001b[1;32m   1450\u001b[0m len_axis \u001b[39m=\u001b[39m \u001b[39mlen\u001b[39m(\u001b[39mself\u001b[39m\u001b[39m.\u001b[39mobj\u001b[39m.\u001b[39m_get_axis(axis))\n\u001b[1;32m   1451\u001b[0m \u001b[39mif\u001b[39;00m key \u001b[39m>\u001b[39m\u001b[39m=\u001b[39m len_axis \u001b[39mor\u001b[39;00m key \u001b[39m<\u001b[39m \u001b[39m-\u001b[39mlen_axis:\n\u001b[0;32m-> 1452\u001b[0m     \u001b[39mraise\u001b[39;00m \u001b[39mIndexError\u001b[39;00m(\u001b[39m\"\u001b[39m\u001b[39msingle positional indexer is out-of-bounds\u001b[39m\u001b[39m\"\u001b[39m)\n",
      "\u001b[0;31mIndexError\u001b[0m: single positional indexer is out-of-bounds"
     ]
    }
   ],
   "source": [
    "moon_light.route_data(4443,529)\n",
    "\n",
    "\n",
    "\n"
   ]
  },
  {
   "cell_type": "code",
   "execution_count": 40,
   "metadata": {},
   "outputs": [
    {
     "data": {
      "text/html": [
       "<div>\n",
       "<style scoped>\n",
       "    .dataframe tbody tr th:only-of-type {\n",
       "        vertical-align: middle;\n",
       "    }\n",
       "\n",
       "    .dataframe tbody tr th {\n",
       "        vertical-align: top;\n",
       "    }\n",
       "\n",
       "    .dataframe thead th {\n",
       "        text-align: right;\n",
       "    }\n",
       "</style>\n",
       "<table border=\"1\" class=\"dataframe\">\n",
       "  <thead>\n",
       "    <tr style=\"text-align: right;\">\n",
       "      <th></th>\n",
       "      <th>value</th>\n",
       "      <th>label</th>\n",
       "    </tr>\n",
       "  </thead>\n",
       "  <tbody>\n",
       "    <tr>\n",
       "      <th>486</th>\n",
       "      <td>486</td>\n",
       "      <td>KB국민은행 염창역 지점 앞</td>\n",
       "    </tr>\n",
       "    <tr>\n",
       "      <th>545</th>\n",
       "      <td>545</td>\n",
       "      <td>염창역 3, 4번 출구 사이</td>\n",
       "    </tr>\n",
       "    <tr>\n",
       "      <th>838</th>\n",
       "      <td>838</td>\n",
       "      <td>염창역 1번 출구</td>\n",
       "    </tr>\n",
       "    <tr>\n",
       "      <th>122</th>\n",
       "      <td>3122</td>\n",
       "      <td>9호선 염창역</td>\n",
       "    </tr>\n",
       "    <tr>\n",
       "      <th>439</th>\n",
       "      <td>4439</td>\n",
       "      <td>N26 염창역.서울도시가스</td>\n",
       "    </tr>\n",
       "    <tr>\n",
       "      <th>527</th>\n",
       "      <td>4527</td>\n",
       "      <td>N26 염창역.서울도시가스</td>\n",
       "    </tr>\n",
       "    <tr>\n",
       "      <th>1282</th>\n",
       "      <td>5282</td>\n",
       "      <td>N62 염창역.서울도시가스</td>\n",
       "    </tr>\n",
       "    <tr>\n",
       "      <th>1391</th>\n",
       "      <td>5391</td>\n",
       "      <td>N62 염창역.서울도시가스</td>\n",
       "    </tr>\n",
       "  </tbody>\n",
       "</table>\n",
       "</div>"
      ],
      "text/plain": [
       "      value            label\n",
       "486     486  KB국민은행 염창역 지점 앞\n",
       "545     545  염창역 3, 4번 출구 사이\n",
       "838     838        염창역 1번 출구\n",
       "122    3122          9호선 염창역\n",
       "439    4439   N26 염창역.서울도시가스\n",
       "527    4527   N26 염창역.서울도시가스\n",
       "1282   5282   N62 염창역.서울도시가스\n",
       "1391   5391   N62 염창역.서울도시가스"
      ]
     },
     "execution_count": 40,
     "metadata": {},
     "output_type": "execute_result"
    }
   ],
   "source": [
    "\n",
    "# id를 대여소 번호로 바꿔줌\n",
    "def arrival_info( arr_id: int) -> pd.DataFrame:\n",
    "    return station.iloc[[arr_id]]\n",
    "\n",
    "a = mlutils.search_by_text(search_info,'염창역')\n",
    "# moon_light.departure_info(4508)\n",
    "\n",
    "a"
   ]
  },
  {
   "cell_type": "markdown",
   "metadata": {},
   "source": [
    "> ### 디버그 용도"
   ]
  },
  {
   "cell_type": "code",
   "execution_count": 43,
   "metadata": {},
   "outputs": [
    {
     "name": "stdout",
     "output_type": "stream",
     "text": [
      "버스\n",
      "                           bike_id  bus order     id        name  longtitude  \\\n",
      "524              [247,267,268,272]  N26   109  19176         당산역   126.90241   \n",
      "527  [700,773,1169,1171,2703,3761]  N26   112  16001  염창역.서울도시가스  126.875881   \n",
      "\n",
      "      latitude        dist  \n",
      "524  37.534863         NaN  \n",
      "527  37.547097  665.465568  \n"
     ]
    }
   ],
   "source": [
    "import mlutils\n",
    "import warnings\n",
    "import os\n",
    "import pandas as pd\n",
    "\n",
    "warnings.filterwarnings(action=\"ignore\")\n",
    "os.getcwd()\n",
    "\n",
    "station = pd.read_csv(\n",
    "    \"assets/seoul_bike_station_01_12.csv\", encoding=\"CP949\", index_col=0\n",
    ")\n",
    "near_bus = pd.read_csv(\"assets/near_bus_500m.csv\", encoding=\"CP949\", index_col=0)\n",
    "seoul_bike = pd.read_parquet(\n",
    "    \"/Users/yangwoolee/git_repo/seoul_bike_dash/parquet/220607_bike_record.parquet.gzip\"\n",
    ")\n",
    "sub_info = pd.read_csv(\"assets/sub_and_bike_info.csv\", encoding=\"CP949\", index_col=0)\n",
    "\n",
    "search_info = pd.read_csv(\"assets/search_info.csv\", encoding=\"CP949\", index_col=0)\n",
    "moon_light = mlutils.moon_light(station, near_bus, seoul_bike, sub_info)\n",
    "\n",
    "#  def route_data(dep_id, arr_id):\n",
    "\n",
    "dep_id = 4443\n",
    "arr_id = 528\n",
    "dep_info = moon_light.departure_info(dep_id)  # dataframe\n",
    "arr_info = moon_light.arrival_info(arr_id)  # dataframe\n",
    "\n",
    "\n",
    "if dep_id < 3000:\n",
    "    print(\"자전거\")\n",
    "    bike = moon_light.route_coor(dep_info, arr_info)\n",
    "    record_info = moon_light.record_info(dep_info.index[0], arr_info.index[0], 50)\n",
    "    # [{\"bike\": [\"당산 육갑문\", \"목동1단지아파트 118동 앞\"]}]\n",
    "    route_info = [\n",
    "        {\n",
    "            \"bike\": [\n",
    "                dep_info[\"st_name\"].iloc[0],\n",
    "                arr_info[\"st_name\"].iloc[0],\n",
    "                record_info[0],\n",
    "                record_info[1],\n",
    "            ]\n",
    "        }\n",
    "    ]\n",
    "\n",
    "    retu = dict(bike=bike, route_info=route_info)\n",
    "\n",
    "elif dep_id > 4000:\n",
    "    print(\"버스\")\n",
    "\n",
    "    # * -- 출도착 버스 정보-- *\n",
    "    dep_arr_bus_info = moon_light.finding_start_end(dep_info, arr_info)\n",
    "    print(dep_arr_bus_info)\n",
    "\n",
    "\n",
    "    # * -- 경로 선택 및 경로 노선 추출 -- *\n",
    "    bus_whole, waypoint, bus_start_end = moon_light.bus_route_info(dep_arr_bus_info)\n",
    "\n",
    "    # * -- 좌표 받기 -- *\n",
    "    arr_trans = bus_start_end.iloc[[1]]\n",
    "\n",
    "    arr_bike_info = moon_light.near_bus_bike_info(arr_trans, arr_info).sort_values(\n",
    "        by=\"num\", ascending=False\n",
    "    )\n",
    "\n",
    "    bus = moon_light.bus_route_coor(bus_start_end, waypoint)\n",
    "    walk = moon_light.route_coor(arr_trans, arr_bike_info.iloc[[0]])\n",
    "    bike = moon_light.route_coor(arr_bike_info.iloc[[0]], arr_info)\n",
    "    record_info = moon_light.record_info(\n",
    "        arr_bike_info[\"st_id\"].iloc[0], arr_info.index[0], 50\n",
    "    )\n",
    "\n",
    "    # # -- 자전거 길 네이버 지도로도 표현 -- #\n",
    "    # a = arr_bike_info.iloc[[0]][[\"latitude\", \"longtitude\"]]\n",
    "    # b = arr_info.reset_index()[[\"latitude\", \"longtitude\"]]\n",
    "    # start_end = pd.concat([a, b], axis=0)\n",
    "    # bus # bus_direct\n",
    "    route_info = [\n",
    "        {\n",
    "            \"bus\": [\n",
    "                bus_start_end[\"name\"].iloc[0],\n",
    "                bus_start_end[\"name\"].iloc[1],\n",
    "            ],\n",
    "            \"bike\": [\n",
    "                arr_bike_info[\"st_name\"].iloc[0],\n",
    "                arr_info[\"st_name\"].iloc[0],\n",
    "                record_info[0],\n",
    "                record_info[1],\n",
    "            ],\n",
    "        },\n",
    "    ]\n",
    "    dep_bike_info = moon_light.near_bus_bike_info(\n",
    "        bus_start_end.iloc[[0]], arr_info\n",
    "    ).sort_values(by=\"num\", ascending=False)\n",
    "    if dep_bike_info.empty == False:\n",
    "        bike2 = moon_light.route_coor(dep_bike_info, arr_info)\n",
    "        record_info2 = moon_light.record_info(\n",
    "            dep_bike_info[\"st_id\"].iloc[0], arr_info.index[0], 50\n",
    "        )\n",
    "        bike2 = (\n",
    "            {\n",
    "                \"bike2\": [\n",
    "                    dep_bike_info[\"st_name\"].iloc[0],\n",
    "                    arr_info[\"st_name\"].iloc[0],\n",
    "                    record_info2[0],\n",
    "                    record_info2[1],\n",
    "                ]\n",
    "            },\n",
    "        )\n",
    "        route_info.extend(bike2)\n",
    "\n",
    "    retu = dict(\n",
    "        bus=bus,\n",
    "        walk=walk,\n",
    "        bike=bike,\n",
    "        bike2=bike2,\n",
    "        route_info=route_info,\n",
    "    )\n",
    "\n",
    "else:\n",
    "    print(\"지하철\")\n",
    "    # * -- 자전거 대여소 정보 추출 -- *\n",
    "    near_bus_bike_info = moon_light.near_bus_bike_info(dep_info, arr_info).sort_values(\n",
    "        by=\"dist\"\n",
    "    )\n",
    "    if near_bus_bike_info.empty :\n",
    "        print('near_bus_bike_info is empty')\n",
    "    departure_bike_station = pd.DataFrame(near_bus_bike_info.iloc[0]).T\n",
    "\n",
    "    # * -- 자전거 경로(사실 보행로 추천이라는 사실~)-- *\n",
    "    sub = moon_light.route_coor(dep_info, departure_bike_station)\n",
    "    bike = moon_light.route_coor(departure_bike_station, arr_info)\n",
    "    record_info = moon_light.record_info(\n",
    "        departure_bike_station[\"st_id\"].iloc[0], arr_info.index[0], 50\n",
    "    )\n",
    "    # sub\n",
    "    # [{\"sub\": [\"당산역\"], \"bike\": [\"당산 육갑문\", \"목동1단지아파트 118동 앞\"]}]\n",
    "    route_info = [\n",
    "        {\n",
    "            \"sub\": [dep_info[\"sub_name\"].iloc[0]],\n",
    "            \"bike\": [\n",
    "                departure_bike_station[\"st_name\"].iloc[0],\n",
    "                arr_info[\"st_name\"].iloc[0],\n",
    "                record_info[0],\n",
    "                record_info[1],\n",
    "            ],\n",
    "        }\n",
    "    ]\n",
    "    retu = dict(sub=sub, bike=bike, route_info=route_info)\n"
   ]
  },
  {
   "cell_type": "code",
   "execution_count": 57,
   "metadata": {},
   "outputs": [
    {
     "data": {
      "text/plain": [
       "array([ 37.5384807, 126.8996431])"
      ]
     },
     "execution_count": 57,
     "metadata": {},
     "output_type": "execute_result"
    }
   ],
   "source": [
    "from typing import List\n",
    "\n",
    "\n",
    "\n",
    "\n",
    "center_data(retu['bus'])"
   ]
  },
  {
   "cell_type": "code",
   "execution_count": null,
   "metadata": {},
   "outputs": [],
   "source": [
    "dep_info = moon_light.departure_info(dep_id)  # dataframe\n",
    "arr_info = moon_light.arrival_info(arr_id)  # dataframe\n",
    "# moon_light.finding_start_end(dep_info, arr_info)\n",
    "dep_info"
   ]
  },
  {
   "cell_type": "code",
   "execution_count": null,
   "metadata": {},
   "outputs": [],
   "source": [
    "#  def route_data(dep_id, arr_id):\n",
    "\n",
    "dep_id = 4508\n",
    "arr_id = 528\n",
    "dep_info = moon_light.departure_info(dep_id)  # dataframe\n",
    "arr_info = moon_light.arrival_info(arr_id)  # dataframe\n",
    "\n",
    "if dep_id < 3000:\n",
    "    print(\"자전거\")\n",
    "    bike_coor = moon_light.route_coor(dep_info, arr_info)\n",
    "    print(dep_info)\n",
    "    retu = dict(bike_coor=bike_coor)\n",
    "\n",
    "elif dep_id > 4000:\n",
    "    print(\"버스\")\n",
    "    # * -- 자전거 대여소 정보 추출 -- *\n",
    "\n",
    "    # * -- 출도착 버스 정보-- *\n",
    "    dep_arr_bus_info = moon_light.finding_start_end(dep_info, arr_info)\n"
   ]
  },
  {
   "cell_type": "code",
   "execution_count": null,
   "metadata": {},
   "outputs": [],
   "source": [
    "\n",
    "    # * -- 경로 선택 및 경로 노선 추출 -- *\n",
    "    bus_whole, waypoint, bus_start_end = moon_light.bus_route_info(dep_arr_bus_info)\n",
    "\n",
    "    # * -- 좌표 받기 -- *\n",
    "\n",
    "\n",
    "    arr_trans = bus_start_end.iloc[[1]]\n",
    "\n",
    "    dep_bike_info = moon_light.near_bus_bike_info(\n",
    "    bus_start_end.iloc[[0]], arr_info\n",
    "    ).sort_values(by=\"num\", ascending=False)\n",
    "\n",
    "    arr_bike_info = moon_light.near_bus_bike_info(\n",
    "    arr_trans, arr_info\n",
    "    ).sort_values(by=\"num\", ascending=False)\n",
    "\n",
    "    dep_arr_bike_coor = moon_light.route_coor(dep_bike_info, arr_info)\n",
    "\n",
    "\n",
    "    bus_coor = moon_light.bus_route_coor(bus_start_end, waypoint)\n",
    "    walk_coor = moon_light.route_coor(\n",
    "        arr_trans, arr_bike_info.iloc[[0]]\n",
    "    )\n",
    "    bike_coor = moon_light.route_coor(arr_bike_info.iloc[[0]], arr_info)\n",
    "    retu= dict(\n",
    "        dep_arr_bike_coor=dep_arr_bike_coor,\n",
    "        bus_coor=bus_coor,\n",
    "        walk_coor=walk_coor,\n",
    "        bike_coor=bike_coor,\n",
    "    )\n",
    "else:\n",
    "    print(\"지하철\")\n",
    "    # * -- 자전거 대여소 정보 추출 -- *\n",
    "    near_bus_bike_info = moon_light.near_bus_bike_info(\n",
    "        dep_info, arr_info\n",
    "    ).sort_values(by=\"dist\")\n",
    "    departure_bike_station = pd.DataFrame(near_bus_bike_info.iloc[0]).T\n",
    "\n",
    "    # * -- 자전거 경로(사실 보행로 추천이라는 사실~)-- *\n",
    "    walk_coor = moon_light.route_coor(dep_info, departure_bike_station)\n",
    "    bike_coor = moon_light.route_coor(departure_bike_station, arr_info)\n",
    "    retu= dict(\n",
    "        walk_coor=walk_coor, bike_coor=bike_coor\n",
    "    )"
   ]
  },
  {
   "cell_type": "markdown",
   "metadata": {},
   "source": [
    "> ### Card에 넣을 내용"
   ]
  },
  {
   "cell_type": "code",
   "execution_count": 4,
   "metadata": {},
   "outputs": [
    {
     "ename": "NameError",
     "evalue": "name 'arr_bike_info' is not defined",
     "output_type": "error",
     "traceback": [
      "\u001b[0;31m---------------------------------------------------------------------------\u001b[0m",
      "\u001b[0;31mNameError\u001b[0m                                 Traceback (most recent call last)",
      "\u001b[1;32m/Users/yangwoolee/git_repo/seoul_bike_dash/bike_moon_light/functions.ipynb Cell 7'\u001b[0m in \u001b[0;36m<cell line: 46>\u001b[0;34m()\u001b[0m\n\u001b[1;32m     <a href='vscode-notebook-cell:/Users/yangwoolee/git_repo/seoul_bike_dash/bike_moon_light/functions.ipynb#ch0000006?line=41'>42</a>\u001b[0m dep_info \u001b[39m=\u001b[39m moon_light\u001b[39m.\u001b[39mdeparture_info(\u001b[39m4443\u001b[39m)\n\u001b[1;32m     <a href='vscode-notebook-cell:/Users/yangwoolee/git_repo/seoul_bike_dash/bike_moon_light/functions.ipynb#ch0000006?line=42'>43</a>\u001b[0m arr_info \u001b[39m=\u001b[39m moon_light\u001b[39m.\u001b[39marrival_info(\u001b[39m528\u001b[39m)\n\u001b[0;32m---> <a href='vscode-notebook-cell:/Users/yangwoolee/git_repo/seoul_bike_dash/bike_moon_light/functions.ipynb#ch0000006?line=45'>46</a>\u001b[0m record_check(arr_bike_info[\u001b[39m'\u001b[39m\u001b[39mst_id\u001b[39m\u001b[39m'\u001b[39m]\u001b[39m.\u001b[39miloc[\u001b[39m0\u001b[39m],arr_info\u001b[39m.\u001b[39mindex[\u001b[39m0\u001b[39m])\n",
      "\u001b[0;31mNameError\u001b[0m: name 'arr_bike_info' is not defined"
     ]
    }
   ],
   "source": [
    "\n",
    "from typing import Dict\n",
    "\n",
    "def record_check(dep_id: int,arr_id: int,count : int = 50) -> pd.DataFrame :\n",
    "    BM = (seoul_bike['st_id1'] == dep_id) & (seoul_bike['st_id2'] == arr_id)\n",
    "    raw_data_1 = seoul_bike[BM]\n",
    "    BM = (seoul_bike['st_id1'] == arr_id) & (seoul_bike['st_id2'] == dep_id)\n",
    "    raw_data_2 = seoul_bike[BM]\n",
    "    concat_data = pd.concat([raw_data_1,raw_data_2],axis=0)\n",
    "\n",
    "    if len(concat_data) <= count :\n",
    "        return pd.DataFrame([])\n",
    "\n",
    "    \n",
    "    all_time = concat_data['riding_time'].value_counts().sort_values(ascending=False) # 도달한 시간대\n",
    "    total_borrow =len(concat_data)\n",
    "\n",
    "    k = []\n",
    "    i = 2\n",
    "    # 일정 비율 이상인 시간대만 구하기\n",
    "    while len(k) < 1:\n",
    "        k = all_time[all_time >= (total_borrow / i)]\n",
    "        i = i * 1.5\n",
    "        \n",
    "    ### 대여시간대\n",
    "    time_line = k.index\n",
    "\n",
    "    ### 대여기록\n",
    "    counts = k.values\n",
    "\n",
    "    total_counts = k.sum()\n",
    "\n",
    "    ### 대여시간 * 대여기록\n",
    "    total_time = sum([a * b for a, b in zip(time_line, counts)])\n",
    "\n",
    "    # 평균 시간\n",
    "    avg_time = total_time / total_counts\n",
    "\n",
    "    # 올림\n",
    "    result = round(avg_time, 0)\n",
    "\n",
    "    return [result,total_borrow]\n",
    "dep_info = moon_light.departure_info(4443)\n",
    "arr_info = moon_light.arrival_info(528)\n",
    "\n",
    "\n",
    "record_check(arr_bike_info['st_id'].iloc[0],arr_info.index[0])"
   ]
  },
  {
   "cell_type": "code",
   "execution_count": 28,
   "metadata": {},
   "outputs": [
    {
     "data": {
      "text/plain": [
       "33.0"
      ]
     },
     "execution_count": 28,
     "metadata": {},
     "output_type": "execute_result"
    }
   ],
   "source": [
    "# bus # bus_direct\n",
    "[{\"bus\":[bus_start_end['name'].iloc[0],bus_start_end['name'].iloc[1]],'bike':[arr_bike_info['st_name'].iloc[0], arr_info['st_name'].iloc[0]]}, {'bike2' : [dep_bike_info['st_name'].iloc[0], arr_info['st_name'].iloc[0]]}]\n",
    "\n",
    "# sub\n",
    "[{\"sub\":['당산역'],'bike':['당산 육갑문', '목동1단지아파트 118동 앞']}]\n",
    "[{\"sub\":[dep_info['sub_name'].iloc[0]],'bike':[departure_bike_station['st_name'].iloc[0], arr_info['st_name'].iloc[0]]}]\n",
    "\n",
    "\n",
    "# bike\n",
    "[{'bike':['당산 육갑문', '목동1단지아파트 118동 앞']}]\n",
    "[{'bike' : [dep_info['name'].iloc[0],arr_info['st_name'].iloc[0]]}]"
   ]
  },
  {
   "cell_type": "code",
   "execution_count": 8,
   "metadata": {},
   "outputs": [
    {
     "name": "stdout",
     "output_type": "stream",
     "text": [
      "bus_start_end 당산역\n",
      "\n",
      "arr_trans [['염창역.서울도시가스' 126.875881 37.547097 112 '[700,773,1169,1171,2703,3761]']]\n",
      "\n",
      "arr_bike_info 1    염창역 3, 4번 출구 사이\n",
      "2          염창역 1번 출구\n",
      "0    KB국민은행 염창역 지점 앞\n",
      "Name: st_name, dtype: object\n",
      "\n",
      "arr_info 목동1단지아파트 118동 앞 (월촌초등학교 정류소 옆\n",
      "\n",
      "dep_info                         bike_id  bus  order     id name  longtitude   latitude\n",
      "443  [247,267,268,272,290,3201]  N26     24  19172  당산역  126.900719  37.534589\n",
      "\n",
      "dep_bike_info   st_name   latitude  longtitude  st_id  time  num    dist\n",
      "0   당산육갑문  37.535339  126.903679    272  33.0  109  3.03km\n",
      "\n"
     ]
    },
    {
     "ename": "NameError",
     "evalue": "name 'departure_bike_station' is not defined",
     "output_type": "error",
     "traceback": [
      "\u001b[0;31m---------------------------------------------------------------------------\u001b[0m",
      "\u001b[0;31mNameError\u001b[0m                                 Traceback (most recent call last)",
      "\u001b[1;32m/Users/yangwoolee/git_repo/seoul_bike_dash/bike_moon_light/functions.ipynb Cell 9'\u001b[0m in \u001b[0;36m<cell line: 13>\u001b[0;34m()\u001b[0m\n\u001b[1;32m     <a href='vscode-notebook-cell:/Users/yangwoolee/git_repo/seoul_bike_dash/bike_moon_light/functions.ipynb#ch0000008?line=10'>11</a>\u001b[0m \u001b[39mprint\u001b[39m(\u001b[39m\"\u001b[39m\u001b[39mdep_bike_info\u001b[39m\u001b[39m\"\u001b[39m, dep_bike_info)\n\u001b[1;32m     <a href='vscode-notebook-cell:/Users/yangwoolee/git_repo/seoul_bike_dash/bike_moon_light/functions.ipynb#ch0000008?line=11'>12</a>\u001b[0m \u001b[39mprint\u001b[39m(\u001b[39m'\u001b[39m\u001b[39m'\u001b[39m)\n\u001b[0;32m---> <a href='vscode-notebook-cell:/Users/yangwoolee/git_repo/seoul_bike_dash/bike_moon_light/functions.ipynb#ch0000008?line=12'>13</a>\u001b[0m \u001b[39mprint\u001b[39m(\u001b[39m\"\u001b[39m\u001b[39mdeparture_bike_station\u001b[39m\u001b[39m\"\u001b[39m, departure_bike_station)\n\u001b[1;32m     <a href='vscode-notebook-cell:/Users/yangwoolee/git_repo/seoul_bike_dash/bike_moon_light/functions.ipynb#ch0000008?line=13'>14</a>\u001b[0m \u001b[39mprint\u001b[39m(\u001b[39m'\u001b[39m\u001b[39m'\u001b[39m)\n",
      "\u001b[0;31mNameError\u001b[0m: name 'departure_bike_station' is not defined"
     ]
    }
   ],
   "source": [
    "print(\"bus_start_end\", bus_start_end['name'].iloc[0])\n",
    "print('')\n",
    "print(\"arr_trans\", arr_trans.values)\n",
    "print('')\n",
    "print(\"arr_bike_info\", arr_bike_info['st_name'])\n",
    "print('')\n",
    "print(\"arr_info\", arr_info['st_name'].iloc[0])\n",
    "print('')\n",
    "print(\"dep_info\", dep_info)\n",
    "print('')\n",
    "print(\"dep_bike_info\", dep_bike_info)\n",
    "print('')\n",
    "print(\"departure_bike_station\", departure_bike_station)\n",
    "print('')"
   ]
  },
  {
   "cell_type": "code",
   "execution_count": null,
   "metadata": {},
   "outputs": [],
   "source": []
  },
  {
   "cell_type": "markdown",
   "metadata": {},
   "source": [
    "> ### 이름으로 버스 정류장과 대여소 선택"
   ]
  }
 ],
 "metadata": {
  "kernelspec": {
   "display_name": "Python 3.8.9 64-bit",
   "language": "python",
   "name": "python3"
  },
  "language_info": {
   "codemirror_mode": {
    "name": "ipython",
    "version": 3
   },
   "file_extension": ".py",
   "mimetype": "text/x-python",
   "name": "python",
   "nbconvert_exporter": "python",
   "pygments_lexer": "ipython3",
   "version": "3.8.9"
  },
  "orig_nbformat": 4,
  "vscode": {
   "interpreter": {
    "hash": "31f2aee4e71d21fbe5cf8b01ff0e069b9275f58929596ceb00d14d90e3e16cd6"
   }
  }
 },
 "nbformat": 4,
 "nbformat_minor": 2
}
